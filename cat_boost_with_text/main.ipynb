{
 "cells": [
  {
   "cell_type": "code",
   "execution_count": null,
   "metadata": {},
   "outputs": [],
   "source": [
    "import catboost\n",
    "from catboost import CatBoostClassifier, Pool\n",
    "import pandas as pd\n",
    "\n",
    "# Пример данных с текстовым столбцом\n",
    "data = pd.DataFrame({\n",
    "    'text': ['I love machine learning', 'Deep learning is amazing', 'CatBoost is great', 'Machine learning is fun'],\n",
    "    'label': [1, 1, 0, 0]\n",
    "})\n",
    "\n",
    "# Указываем, что столбец 'text' содержит текст\n",
    "model = CatBoostClassifier(iterations=100, text_features=['text'])\n",
    "\n",
    "# Обучение модели\n",
    "model.fit(data[['text']], data['label'])\n"
   ]
  },
  {
   "cell_type": "code",
   "execution_count": null,
   "metadata": {},
   "outputs": [],
   "source": [
    "from sklearn.feature_extraction.text import TfidfVectorizer\n",
    "import pandas as pd\n",
    "\n",
    "data = pd.DataFrame({\n",
    "    'text': ['I love machine learning', 'Deep learning is amazing', 'CatBoost is great', 'Machine learning is fun'],\n",
    "    'label': [1, 1, 0, 0]\n",
    "})\n",
    "\n",
    "vectorizer = TfidfVectorizer(stop_words='english')\n",
    "X_tfidf = vectorizer.fit_transform(data['text'])\n",
    "\n",
    "model = CatBoostClassifier(iterations=100)\n",
    "model.fit(X_tfidf, data['label'])\n"
   ]
  }
 ],
 "metadata": {
  "kernelspec": {
   "display_name": "Python 3",
   "language": "python",
   "name": "python3"
  },
  "language_info": {
   "codemirror_mode": {
    "name": "ipython",
    "version": 3
   },
   "file_extension": ".py",
   "mimetype": "text/x-python",
   "name": "python",
   "nbconvert_exporter": "python",
   "pygments_lexer": "ipython3",
   "version": "3.10.8"
  }
 },
 "nbformat": 4,
 "nbformat_minor": 2
}
