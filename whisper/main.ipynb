{
 "cells": [
  {
   "cell_type": "code",
   "execution_count": 1,
   "metadata": {},
   "outputs": [
    {
     "name": "stderr",
     "output_type": "stream",
     "text": [
      "c:\\Users\\User\\Desktop\\sillyAtempts\\vseros\\baselines\\speech_recognition_via_whisper\\.venv\\lib\\site-packages\\whisper\\__init__.py:150: FutureWarning: You are using `torch.load` with `weights_only=False` (the current default value), which uses the default pickle module implicitly. It is possible to construct malicious pickle data which will execute arbitrary code during unpickling (See https://github.com/pytorch/pytorch/blob/main/SECURITY.md#untrusted-models for more details). In a future release, the default value for `weights_only` will be flipped to `True`. This limits the functions that could be executed during unpickling. Arbitrary objects will no longer be allowed to be loaded via this mode unless they are explicitly allowlisted by the user via `torch.serialization.add_safe_globals`. We recommend you start setting `weights_only=True` for any use case where you don't have full control of the loaded file. Please open an issue on GitHub for any issues related to this experimental feature.\n",
      "  checkpoint = torch.load(fp, map_location=device)\n",
      "c:\\Users\\User\\Desktop\\sillyAtempts\\vseros\\baselines\\speech_recognition_via_whisper\\.venv\\lib\\site-packages\\whisper\\transcribe.py:126: UserWarning: FP16 is not supported on CPU; using FP32 instead\n",
      "  warnings.warn(\"FP16 is not supported on CPU; using FP32 instead\")\n"
     ]
    },
    {
     "name": "stdout",
     "output_type": "stream",
     "text": [
      " запись аудио проверка тестовая запись\n"
     ]
    }
   ],
   "source": [
    "import whisper\n",
    "\n",
    "\n",
    "model = whisper.load_model(\"base\")  # или \"small\", \"medium\", \"large\" для разных размеров моделей\n",
    "result = model.transcribe(r\"record.wav\")\n",
    "print(result['text'])"
   ]
  },
  {
   "cell_type": "code",
   "execution_count": 5,
   "metadata": {},
   "outputs": [
    {
     "name": "stdout",
     "output_type": "stream",
     "text": [
      "['.venv', 'main.ipynb', 'Record (online-voice-recorder.com).mp3', 'record.wav']\n"
     ]
    }
   ],
   "source": [
    "import os\n",
    "\n",
    "def list_files():\n",
    "    # Получаем текущую рабочую директорию\n",
    "    current_dir = os.getcwd()\n",
    "\n",
    "    # Получаем список всех файлов и папок в текущей директории\n",
    "    files_in_directory = os.listdir(current_dir)\n",
    "\n",
    "    # Выводим список файлов\n",
    "    print(files_in_directory)\n",
    "\n",
    "if __name__ == \"__main__\":\n",
    "    list_files()\n"
   ]
  }
 ],
 "metadata": {
  "kernelspec": {
   "display_name": ".venv",
   "language": "python",
   "name": "python3"
  },
  "language_info": {
   "codemirror_mode": {
    "name": "ipython",
    "version": 3
   },
   "file_extension": ".py",
   "mimetype": "text/x-python",
   "name": "python",
   "nbconvert_exporter": "python",
   "pygments_lexer": "ipython3",
   "version": "3.9.13"
  }
 },
 "nbformat": 4,
 "nbformat_minor": 2
}
