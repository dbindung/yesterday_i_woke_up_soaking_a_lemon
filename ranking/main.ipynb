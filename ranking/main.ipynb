{
 "cells": [
  {
   "cell_type": "code",
   "execution_count": 1,
   "metadata": {},
   "outputs": [],
   "source": [
    "import pandas as pd\n",
    "\n",
    "data = pd.DataFrame({\n",
    "    'user_id': [1, 1, 1, 2, 2, 3, 3],\n",
    "    'item_id': [101, 102, 103, 101, 104, 102, 103],\n",
    "    'target': [1, 0, 1, 0, 1, 1, 0],  # Целевая метка, например, факт покупки\n",
    "    'feature_1': [0.1, 0.2, 0.3, 0.1, 0.4, 0.2, 0.3],\n",
    "    'feature_2': [10, 20, 30, 10, 40, 20, 30]\n",
    "})\n",
    "\n",
    "# Фичи, которые мы будем использовать для обучения\n",
    "X = data[['user_id', 'item_id', 'feature_1', 'feature_2']]\n",
    "y = data['target']\n",
    "\n",
    "\n",
    "# Создание группового идентификатора для ранжирования (группировка по пользователям)\n",
    "group_id = data['user_id']\n"
   ]
  },
  {
   "cell_type": "code",
   "execution_count": 2,
   "metadata": {},
   "outputs": [
    {
     "name": "stdout",
     "output_type": "stream",
     "text": [
      "0:\ttotal: 65.7ms\tremaining: 6.51s\n",
      "10:\ttotal: 72.5ms\tremaining: 586ms\n",
      "20:\ttotal: 77.7ms\tremaining: 292ms\n",
      "30:\ttotal: 83ms\tremaining: 185ms\n",
      "40:\ttotal: 88.5ms\tremaining: 127ms\n",
      "50:\ttotal: 93.1ms\tremaining: 89.5ms\n",
      "60:\ttotal: 96.9ms\tremaining: 61.9ms\n",
      "70:\ttotal: 101ms\tremaining: 41.1ms\n",
      "80:\ttotal: 105ms\tremaining: 24.6ms\n",
      "90:\ttotal: 109ms\tremaining: 10.7ms\n",
      "99:\ttotal: 113ms\tremaining: 0us\n"
     ]
    },
    {
     "data": {
      "text/plain": [
       "<catboost.core.CatBoostRanker at 0x149482c3a90>"
      ]
     },
     "execution_count": 2,
     "metadata": {},
     "output_type": "execute_result"
    }
   ],
   "source": [
    "from catboost import CatBoostRanker, Pool\n",
    "\n",
    "# Определяем пул данных для обучения\n",
    "train_pool = Pool(data=X, label=y, group_id=group_id)\n",
    "\n",
    "# Настройка и обучение модели\n",
    "ranker = CatBoostRanker(\n",
    "    iterations=100,        # Количество итераций\n",
    "    learning_rate=0.1,     # Скорость обучения\n",
    "    depth=6,               # Глубина деревьев\n",
    "    random_seed=42,\n",
    "    verbose=10             # Показывать прогресс обучения\n",
    ")\n",
    "\n",
    "# Обучение модели\n",
    "ranker.fit(train_pool)\n"
   ]
  },
  {
   "cell_type": "code",
   "execution_count": 3,
   "metadata": {},
   "outputs": [
    {
     "name": "stdout",
     "output_type": "stream",
     "text": [
      "   user_id  item_id  prediction\n",
      "2        1      103    8.341870\n",
      "0        1      101    7.777660\n",
      "1        1      102  -11.297562\n",
      "4        2      104    9.109395\n",
      "3        2      101  -11.009011\n",
      "5        3      102    8.422453\n",
      "6        3      103  -11.344805\n"
     ]
    }
   ],
   "source": [
    "# Предсказание ранжирования\n",
    "test_pool = Pool(data=X, group_id=group_id)\n",
    "predictions = ranker.predict(test_pool)\n",
    "\n",
    "# Добавляем предсказания в таблицу данных и сортируем\n",
    "data['prediction'] = predictions\n",
    "ranked_data = data.sort_values(by=['user_id', 'prediction'], ascending=[True, False])\n",
    "\n",
    "print(ranked_data[['user_id', 'item_id', 'prediction']])\n"
   ]
  }
 ],
 "metadata": {
  "kernelspec": {
   "display_name": "Python 3",
   "language": "python",
   "name": "python3"
  },
  "language_info": {
   "codemirror_mode": {
    "name": "ipython",
    "version": 3
   },
   "file_extension": ".py",
   "mimetype": "text/x-python",
   "name": "python",
   "nbconvert_exporter": "python",
   "pygments_lexer": "ipython3",
   "version": "3.10.8"
  }
 },
 "nbformat": 4,
 "nbformat_minor": 2
}
