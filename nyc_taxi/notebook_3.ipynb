{
 "cells": [
  {
   "cell_type": "code",
   "execution_count": 154,
   "id": "59f59f1a",
   "metadata": {
    "scrolled": true
   },
   "outputs": [
    {
     "name": "stdout",
     "output_type": "stream",
     "text": [
      "Requirement already satisfied: geopy in c:\\programdata\\anaconda3\\lib\\site-packages (2.2.0)\n",
      "Requirement already satisfied: geographiclib<2,>=1.49 in c:\\programdata\\anaconda3\\lib\\site-packages (from geopy) (1.52)\n"
     ]
    }
   ],
   "source": [
    "!pip install geopy"
   ]
  },
  {
   "cell_type": "markdown",
   "id": "f3661531",
   "metadata": {},
   "source": [
    "## импортируем необходимые библиотеки"
   ]
  },
  {
   "cell_type": "code",
   "execution_count": 155,
   "id": "b641fe32",
   "metadata": {},
   "outputs": [],
   "source": [
    "import pandas as pd\n",
    "import numpy as np\n"
   ]
  },
  {
   "cell_type": "code",
   "execution_count": 156,
   "id": "27d2fce4",
   "metadata": {},
   "outputs": [],
   "source": [
    "from sklearn.linear_model import LinearRegression\n",
    "from sklearn.linear_model import LogisticRegression"
   ]
  },
  {
   "cell_type": "code",
   "execution_count": 157,
   "id": "6d042338",
   "metadata": {},
   "outputs": [
    {
     "data": {
      "text/html": [
       "<div>\n",
       "<style scoped>\n",
       "    .dataframe tbody tr th:only-of-type {\n",
       "        vertical-align: middle;\n",
       "    }\n",
       "\n",
       "    .dataframe tbody tr th {\n",
       "        vertical-align: top;\n",
       "    }\n",
       "\n",
       "    .dataframe thead th {\n",
       "        text-align: right;\n",
       "    }\n",
       "</style>\n",
       "<table border=\"1\" class=\"dataframe\">\n",
       "  <thead>\n",
       "    <tr style=\"text-align: right;\">\n",
       "      <th></th>\n",
       "      <th>vendor_id</th>\n",
       "      <th>passenger_count</th>\n",
       "      <th>pickup_longitude</th>\n",
       "      <th>pickup_latitude</th>\n",
       "      <th>dropoff_longitude</th>\n",
       "      <th>dropoff_latitude</th>\n",
       "      <th>trip_duration</th>\n",
       "      <th>store_and_fwd_flag</th>\n",
       "      <th>maximum temperature</th>\n",
       "      <th>minimum temperature</th>\n",
       "      <th>...</th>\n",
       "      <th>precipitation</th>\n",
       "      <th>snow depth</th>\n",
       "      <th>delta_time</th>\n",
       "      <th>time_day</th>\n",
       "      <th>hour</th>\n",
       "      <th>minute</th>\n",
       "      <th>distance</th>\n",
       "      <th>cluster_0</th>\n",
       "      <th>cluster_1</th>\n",
       "      <th>cluster_2</th>\n",
       "    </tr>\n",
       "  </thead>\n",
       "  <tbody>\n",
       "    <tr>\n",
       "      <th>0</th>\n",
       "      <td>2</td>\n",
       "      <td>1</td>\n",
       "      <td>-73.982155</td>\n",
       "      <td>40.767937</td>\n",
       "      <td>-73.964630</td>\n",
       "      <td>40.765602</td>\n",
       "      <td>455</td>\n",
       "      <td>0</td>\n",
       "      <td>51</td>\n",
       "      <td>40</td>\n",
       "      <td>...</td>\n",
       "      <td>0.29</td>\n",
       "      <td>0.0</td>\n",
       "      <td>480.0</td>\n",
       "      <td>1</td>\n",
       "      <td>17</td>\n",
       "      <td>24</td>\n",
       "      <td>10606.707</td>\n",
       "      <td>0</td>\n",
       "      <td>0</td>\n",
       "      <td>1</td>\n",
       "    </tr>\n",
       "    <tr>\n",
       "      <th>1</th>\n",
       "      <td>1</td>\n",
       "      <td>1</td>\n",
       "      <td>-73.975090</td>\n",
       "      <td>40.758766</td>\n",
       "      <td>-73.953201</td>\n",
       "      <td>40.765068</td>\n",
       "      <td>1346</td>\n",
       "      <td>0</td>\n",
       "      <td>51</td>\n",
       "      <td>40</td>\n",
       "      <td>...</td>\n",
       "      <td>0.29</td>\n",
       "      <td>0.0</td>\n",
       "      <td>1380.0</td>\n",
       "      <td>1</td>\n",
       "      <td>14</td>\n",
       "      <td>5</td>\n",
       "      <td>10618.264</td>\n",
       "      <td>0</td>\n",
       "      <td>0</td>\n",
       "      <td>1</td>\n",
       "    </tr>\n",
       "    <tr>\n",
       "      <th>2</th>\n",
       "      <td>1</td>\n",
       "      <td>1</td>\n",
       "      <td>-73.994484</td>\n",
       "      <td>40.745087</td>\n",
       "      <td>-73.998993</td>\n",
       "      <td>40.722710</td>\n",
       "      <td>695</td>\n",
       "      <td>0</td>\n",
       "      <td>51</td>\n",
       "      <td>40</td>\n",
       "      <td>...</td>\n",
       "      <td>0.29</td>\n",
       "      <td>0.0</td>\n",
       "      <td>720.0</td>\n",
       "      <td>1</td>\n",
       "      <td>15</td>\n",
       "      <td>4</td>\n",
       "      <td>10595.258</td>\n",
       "      <td>1</td>\n",
       "      <td>0</td>\n",
       "      <td>0</td>\n",
       "    </tr>\n",
       "    <tr>\n",
       "      <th>3</th>\n",
       "      <td>2</td>\n",
       "      <td>3</td>\n",
       "      <td>-73.944359</td>\n",
       "      <td>40.714489</td>\n",
       "      <td>-73.910530</td>\n",
       "      <td>40.709492</td>\n",
       "      <td>755</td>\n",
       "      <td>0</td>\n",
       "      <td>51</td>\n",
       "      <td>40</td>\n",
       "      <td>...</td>\n",
       "      <td>0.29</td>\n",
       "      <td>0.0</td>\n",
       "      <td>780.0</td>\n",
       "      <td>0</td>\n",
       "      <td>4</td>\n",
       "      <td>24</td>\n",
       "      <td>10673.053</td>\n",
       "      <td>1</td>\n",
       "      <td>0</td>\n",
       "      <td>0</td>\n",
       "    </tr>\n",
       "    <tr>\n",
       "      <th>4</th>\n",
       "      <td>2</td>\n",
       "      <td>1</td>\n",
       "      <td>-73.952881</td>\n",
       "      <td>40.766468</td>\n",
       "      <td>-73.978630</td>\n",
       "      <td>40.761921</td>\n",
       "      <td>1050</td>\n",
       "      <td>0</td>\n",
       "      <td>51</td>\n",
       "      <td>40</td>\n",
       "      <td>...</td>\n",
       "      <td>0.29</td>\n",
       "      <td>0.0</td>\n",
       "      <td>1080.0</td>\n",
       "      <td>1</td>\n",
       "      <td>14</td>\n",
       "      <td>57</td>\n",
       "      <td>10651.433</td>\n",
       "      <td>0</td>\n",
       "      <td>0</td>\n",
       "      <td>1</td>\n",
       "    </tr>\n",
       "  </tbody>\n",
       "</table>\n",
       "<p>5 rows × 21 columns</p>\n",
       "</div>"
      ],
      "text/plain": [
       "   vendor_id  passenger_count  pickup_longitude  pickup_latitude  \\\n",
       "0          2                1        -73.982155        40.767937   \n",
       "1          1                1        -73.975090        40.758766   \n",
       "2          1                1        -73.994484        40.745087   \n",
       "3          2                3        -73.944359        40.714489   \n",
       "4          2                1        -73.952881        40.766468   \n",
       "\n",
       "   dropoff_longitude  dropoff_latitude  trip_duration  store_and_fwd_flag  \\\n",
       "0         -73.964630         40.765602            455                   0   \n",
       "1         -73.953201         40.765068           1346                   0   \n",
       "2         -73.998993         40.722710            695                   0   \n",
       "3         -73.910530         40.709492            755                   0   \n",
       "4         -73.978630         40.761921           1050                   0   \n",
       "\n",
       "   maximum temperature  minimum temperature  ...  precipitation  snow depth  \\\n",
       "0                   51                   40  ...           0.29         0.0   \n",
       "1                   51                   40  ...           0.29         0.0   \n",
       "2                   51                   40  ...           0.29         0.0   \n",
       "3                   51                   40  ...           0.29         0.0   \n",
       "4                   51                   40  ...           0.29         0.0   \n",
       "\n",
       "   delta_time  time_day  hour  minute   distance  cluster_0  cluster_1  \\\n",
       "0       480.0         1    17      24  10606.707          0          0   \n",
       "1      1380.0         1    14       5  10618.264          0          0   \n",
       "2       720.0         1    15       4  10595.258          1          0   \n",
       "3       780.0         0     4      24  10673.053          1          0   \n",
       "4      1080.0         1    14      57  10651.433          0          0   \n",
       "\n",
       "   cluster_2  \n",
       "0          1  \n",
       "1          1  \n",
       "2          0  \n",
       "3          0  \n",
       "4          1  \n",
       "\n",
       "[5 rows x 21 columns]"
      ]
     },
     "execution_count": 157,
     "metadata": {},
     "output_type": "execute_result"
    }
   ],
   "source": [
    "df = pd.read_csv(\"RESULT_C2.csv\")\n",
    "df.head()"
   ]
  },
  {
   "cell_type": "code",
   "execution_count": 158,
   "id": "149178f6",
   "metadata": {},
   "outputs": [
    {
     "data": {
      "text/plain": [
       "1.5022029520818443"
      ]
     },
     "execution_count": 158,
     "metadata": {},
     "output_type": "execute_result"
    }
   ],
   "source": [
    "from geopy.distance import geodesic\n",
    "\n",
    "geodesic((40.767937, -73.982155), (40.765602, -73.964630)).km\n",
    "# geopy.distance.vincenty((40.767937, -73.982155), (dropoff_latitude, dropoff_longitude)).km"
   ]
  },
  {
   "cell_type": "markdown",
   "id": "46b87bdd",
   "metadata": {},
   "source": [
    "пересчитываю дистанцию (была посчитана неправильно)"
   ]
  },
  {
   "cell_type": "code",
   "execution_count": 159,
   "id": "90cf6d9f",
   "metadata": {},
   "outputs": [],
   "source": [
    "def tmp(x):\n",
    "    return geodesic((x.pickup_latitude, x.pickup_longitude), (x.dropoff_latitude, x.dropoff_longitude)).km\n",
    "\n",
    "df.distance = df.apply(tmp, axis=1)"
   ]
  },
  {
   "cell_type": "code",
   "execution_count": 160,
   "id": "6df81465",
   "metadata": {},
   "outputs": [
    {
     "data": {
      "text/plain": [
       "Int64Index([   6127,    6138,    6273,    6348,    6355,    6469,    6624,\n",
       "               6646,    6694,    6700,\n",
       "            ...\n",
       "            1034510, 1034678, 1034694, 1034735, 1034799, 1034856, 1035028,\n",
       "            1035130, 1035215, 1035226],\n",
       "           dtype='int64', length=675)"
      ]
     },
     "execution_count": 160,
     "metadata": {},
     "output_type": "execute_result"
    }
   ],
   "source": [
    "df[df.delta_time<0].index"
   ]
  },
  {
   "cell_type": "code",
   "execution_count": 161,
   "id": "37f06c35",
   "metadata": {},
   "outputs": [],
   "source": [
    "df = df.drop(index = df[df.delta_time<0].index)"
   ]
  },
  {
   "cell_type": "code",
   "execution_count": 162,
   "id": "6c5b9282",
   "metadata": {},
   "outputs": [
    {
     "data": {
      "text/html": [
       "<div>\n",
       "<style scoped>\n",
       "    .dataframe tbody tr th:only-of-type {\n",
       "        vertical-align: middle;\n",
       "    }\n",
       "\n",
       "    .dataframe tbody tr th {\n",
       "        vertical-align: top;\n",
       "    }\n",
       "\n",
       "    .dataframe thead th {\n",
       "        text-align: right;\n",
       "    }\n",
       "</style>\n",
       "<table border=\"1\" class=\"dataframe\">\n",
       "  <thead>\n",
       "    <tr style=\"text-align: right;\">\n",
       "      <th></th>\n",
       "      <th>vendor_id</th>\n",
       "      <th>passenger_count</th>\n",
       "      <th>pickup_longitude</th>\n",
       "      <th>pickup_latitude</th>\n",
       "      <th>dropoff_longitude</th>\n",
       "      <th>dropoff_latitude</th>\n",
       "      <th>trip_duration</th>\n",
       "      <th>store_and_fwd_flag</th>\n",
       "      <th>maximum temperature</th>\n",
       "      <th>minimum temperature</th>\n",
       "      <th>...</th>\n",
       "      <th>precipitation</th>\n",
       "      <th>snow depth</th>\n",
       "      <th>delta_time</th>\n",
       "      <th>time_day</th>\n",
       "      <th>hour</th>\n",
       "      <th>minute</th>\n",
       "      <th>distance</th>\n",
       "      <th>cluster_0</th>\n",
       "      <th>cluster_1</th>\n",
       "      <th>cluster_2</th>\n",
       "    </tr>\n",
       "  </thead>\n",
       "  <tbody>\n",
       "  </tbody>\n",
       "</table>\n",
       "<p>0 rows × 21 columns</p>\n",
       "</div>"
      ],
      "text/plain": [
       "Empty DataFrame\n",
       "Columns: [vendor_id, passenger_count, pickup_longitude, pickup_latitude, dropoff_longitude, dropoff_latitude, trip_duration, store_and_fwd_flag, maximum temperature, minimum temperature, average temperature, precipitation, snow depth, delta_time, time_day, hour, minute, distance, cluster_0, cluster_1, cluster_2]\n",
       "Index: []\n",
       "\n",
       "[0 rows x 21 columns]"
      ]
     },
     "execution_count": 162,
     "metadata": {},
     "output_type": "execute_result"
    }
   ],
   "source": [
    "df[df.delta_time<0]"
   ]
  },
  {
   "cell_type": "code",
   "execution_count": 173,
   "id": "5ac23733",
   "metadata": {
    "scrolled": true
   },
   "outputs": [
    {
     "data": {
      "text/html": [
       "<div>\n",
       "<style scoped>\n",
       "    .dataframe tbody tr th:only-of-type {\n",
       "        vertical-align: middle;\n",
       "    }\n",
       "\n",
       "    .dataframe tbody tr th {\n",
       "        vertical-align: top;\n",
       "    }\n",
       "\n",
       "    .dataframe thead th {\n",
       "        text-align: right;\n",
       "    }\n",
       "</style>\n",
       "<table border=\"1\" class=\"dataframe\">\n",
       "  <thead>\n",
       "    <tr style=\"text-align: right;\">\n",
       "      <th></th>\n",
       "      <th>vendor_id</th>\n",
       "      <th>passenger_count</th>\n",
       "      <th>pickup_longitude</th>\n",
       "      <th>pickup_latitude</th>\n",
       "      <th>dropoff_longitude</th>\n",
       "      <th>dropoff_latitude</th>\n",
       "      <th>trip_duration</th>\n",
       "      <th>store_and_fwd_flag</th>\n",
       "      <th>maximum temperature</th>\n",
       "      <th>minimum temperature</th>\n",
       "      <th>...</th>\n",
       "      <th>precipitation</th>\n",
       "      <th>snow depth</th>\n",
       "      <th>delta_time</th>\n",
       "      <th>time_day</th>\n",
       "      <th>hour</th>\n",
       "      <th>minute</th>\n",
       "      <th>distance</th>\n",
       "      <th>cluster_0</th>\n",
       "      <th>cluster_1</th>\n",
       "      <th>cluster_2</th>\n",
       "    </tr>\n",
       "  </thead>\n",
       "  <tbody>\n",
       "    <tr>\n",
       "      <th>0</th>\n",
       "      <td>2</td>\n",
       "      <td>1</td>\n",
       "      <td>-73.982155</td>\n",
       "      <td>40.767937</td>\n",
       "      <td>-73.964630</td>\n",
       "      <td>40.765602</td>\n",
       "      <td>455</td>\n",
       "      <td>0</td>\n",
       "      <td>51</td>\n",
       "      <td>40</td>\n",
       "      <td>...</td>\n",
       "      <td>0.29</td>\n",
       "      <td>0.0</td>\n",
       "      <td>480.0</td>\n",
       "      <td>1</td>\n",
       "      <td>17</td>\n",
       "      <td>24</td>\n",
       "      <td>1.502172</td>\n",
       "      <td>0</td>\n",
       "      <td>0</td>\n",
       "      <td>1</td>\n",
       "    </tr>\n",
       "    <tr>\n",
       "      <th>1</th>\n",
       "      <td>1</td>\n",
       "      <td>1</td>\n",
       "      <td>-73.975090</td>\n",
       "      <td>40.758766</td>\n",
       "      <td>-73.953201</td>\n",
       "      <td>40.765068</td>\n",
       "      <td>1346</td>\n",
       "      <td>0</td>\n",
       "      <td>51</td>\n",
       "      <td>40</td>\n",
       "      <td>...</td>\n",
       "      <td>0.29</td>\n",
       "      <td>0.0</td>\n",
       "      <td>1380.0</td>\n",
       "      <td>1</td>\n",
       "      <td>14</td>\n",
       "      <td>5</td>\n",
       "      <td>1.976279</td>\n",
       "      <td>0</td>\n",
       "      <td>0</td>\n",
       "      <td>1</td>\n",
       "    </tr>\n",
       "    <tr>\n",
       "      <th>2</th>\n",
       "      <td>1</td>\n",
       "      <td>1</td>\n",
       "      <td>-73.994484</td>\n",
       "      <td>40.745087</td>\n",
       "      <td>-73.998993</td>\n",
       "      <td>40.722710</td>\n",
       "      <td>695</td>\n",
       "      <td>0</td>\n",
       "      <td>51</td>\n",
       "      <td>40</td>\n",
       "      <td>...</td>\n",
       "      <td>0.29</td>\n",
       "      <td>0.0</td>\n",
       "      <td>720.0</td>\n",
       "      <td>1</td>\n",
       "      <td>15</td>\n",
       "      <td>4</td>\n",
       "      <td>2.513961</td>\n",
       "      <td>1</td>\n",
       "      <td>0</td>\n",
       "      <td>0</td>\n",
       "    </tr>\n",
       "    <tr>\n",
       "      <th>3</th>\n",
       "      <td>2</td>\n",
       "      <td>3</td>\n",
       "      <td>-73.944359</td>\n",
       "      <td>40.714489</td>\n",
       "      <td>-73.910530</td>\n",
       "      <td>40.709492</td>\n",
       "      <td>755</td>\n",
       "      <td>0</td>\n",
       "      <td>51</td>\n",
       "      <td>40</td>\n",
       "      <td>...</td>\n",
       "      <td>0.29</td>\n",
       "      <td>0.0</td>\n",
       "      <td>780.0</td>\n",
       "      <td>0</td>\n",
       "      <td>4</td>\n",
       "      <td>24</td>\n",
       "      <td>2.911908</td>\n",
       "      <td>1</td>\n",
       "      <td>0</td>\n",
       "      <td>0</td>\n",
       "    </tr>\n",
       "    <tr>\n",
       "      <th>4</th>\n",
       "      <td>2</td>\n",
       "      <td>1</td>\n",
       "      <td>-73.952881</td>\n",
       "      <td>40.766468</td>\n",
       "      <td>-73.978630</td>\n",
       "      <td>40.761921</td>\n",
       "      <td>1050</td>\n",
       "      <td>0</td>\n",
       "      <td>51</td>\n",
       "      <td>40</td>\n",
       "      <td>...</td>\n",
       "      <td>0.29</td>\n",
       "      <td>0.0</td>\n",
       "      <td>1080.0</td>\n",
       "      <td>1</td>\n",
       "      <td>14</td>\n",
       "      <td>57</td>\n",
       "      <td>2.231986</td>\n",
       "      <td>0</td>\n",
       "      <td>0</td>\n",
       "      <td>1</td>\n",
       "    </tr>\n",
       "    <tr>\n",
       "      <th>...</th>\n",
       "      <td>...</td>\n",
       "      <td>...</td>\n",
       "      <td>...</td>\n",
       "      <td>...</td>\n",
       "      <td>...</td>\n",
       "      <td>...</td>\n",
       "      <td>...</td>\n",
       "      <td>...</td>\n",
       "      <td>...</td>\n",
       "      <td>...</td>\n",
       "      <td>...</td>\n",
       "      <td>...</td>\n",
       "      <td>...</td>\n",
       "      <td>...</td>\n",
       "      <td>...</td>\n",
       "      <td>...</td>\n",
       "      <td>...</td>\n",
       "      <td>...</td>\n",
       "      <td>...</td>\n",
       "      <td>...</td>\n",
       "      <td>...</td>\n",
       "    </tr>\n",
       "    <tr>\n",
       "      <th>295</th>\n",
       "      <td>1</td>\n",
       "      <td>1</td>\n",
       "      <td>-73.982788</td>\n",
       "      <td>40.730694</td>\n",
       "      <td>-73.990898</td>\n",
       "      <td>40.730732</td>\n",
       "      <td>181</td>\n",
       "      <td>0</td>\n",
       "      <td>51</td>\n",
       "      <td>40</td>\n",
       "      <td>...</td>\n",
       "      <td>0.29</td>\n",
       "      <td>0.0</td>\n",
       "      <td>180.0</td>\n",
       "      <td>1</td>\n",
       "      <td>14</td>\n",
       "      <td>40</td>\n",
       "      <td>0.685123</td>\n",
       "      <td>1</td>\n",
       "      <td>0</td>\n",
       "      <td>0</td>\n",
       "    </tr>\n",
       "    <tr>\n",
       "      <th>296</th>\n",
       "      <td>2</td>\n",
       "      <td>1</td>\n",
       "      <td>-73.960892</td>\n",
       "      <td>40.797031</td>\n",
       "      <td>-73.944397</td>\n",
       "      <td>40.834461</td>\n",
       "      <td>1087</td>\n",
       "      <td>0</td>\n",
       "      <td>51</td>\n",
       "      <td>40</td>\n",
       "      <td>...</td>\n",
       "      <td>0.29</td>\n",
       "      <td>0.0</td>\n",
       "      <td>1080.0</td>\n",
       "      <td>0</td>\n",
       "      <td>8</td>\n",
       "      <td>46</td>\n",
       "      <td>4.383372</td>\n",
       "      <td>0</td>\n",
       "      <td>0</td>\n",
       "      <td>1</td>\n",
       "    </tr>\n",
       "    <tr>\n",
       "      <th>297</th>\n",
       "      <td>1</td>\n",
       "      <td>1</td>\n",
       "      <td>-73.995201</td>\n",
       "      <td>40.739285</td>\n",
       "      <td>-73.988510</td>\n",
       "      <td>40.748051</td>\n",
       "      <td>265</td>\n",
       "      <td>0</td>\n",
       "      <td>51</td>\n",
       "      <td>40</td>\n",
       "      <td>...</td>\n",
       "      <td>0.29</td>\n",
       "      <td>0.0</td>\n",
       "      <td>240.0</td>\n",
       "      <td>1</td>\n",
       "      <td>15</td>\n",
       "      <td>17</td>\n",
       "      <td>1.125618</td>\n",
       "      <td>1</td>\n",
       "      <td>0</td>\n",
       "      <td>0</td>\n",
       "    </tr>\n",
       "    <tr>\n",
       "      <th>298</th>\n",
       "      <td>2</td>\n",
       "      <td>3</td>\n",
       "      <td>-73.953972</td>\n",
       "      <td>40.782955</td>\n",
       "      <td>-73.959518</td>\n",
       "      <td>40.774311</td>\n",
       "      <td>417</td>\n",
       "      <td>0</td>\n",
       "      <td>51</td>\n",
       "      <td>40</td>\n",
       "      <td>...</td>\n",
       "      <td>0.29</td>\n",
       "      <td>0.0</td>\n",
       "      <td>420.0</td>\n",
       "      <td>1</td>\n",
       "      <td>14</td>\n",
       "      <td>36</td>\n",
       "      <td>1.068028</td>\n",
       "      <td>0</td>\n",
       "      <td>0</td>\n",
       "      <td>1</td>\n",
       "    </tr>\n",
       "    <tr>\n",
       "      <th>299</th>\n",
       "      <td>2</td>\n",
       "      <td>1</td>\n",
       "      <td>-73.979065</td>\n",
       "      <td>40.762829</td>\n",
       "      <td>-73.967247</td>\n",
       "      <td>40.761963</td>\n",
       "      <td>717</td>\n",
       "      <td>0</td>\n",
       "      <td>51</td>\n",
       "      <td>40</td>\n",
       "      <td>...</td>\n",
       "      <td>0.29</td>\n",
       "      <td>0.0</td>\n",
       "      <td>720.0</td>\n",
       "      <td>1</td>\n",
       "      <td>16</td>\n",
       "      <td>25</td>\n",
       "      <td>1.002489</td>\n",
       "      <td>0</td>\n",
       "      <td>0</td>\n",
       "      <td>1</td>\n",
       "    </tr>\n",
       "  </tbody>\n",
       "</table>\n",
       "<p>300 rows × 21 columns</p>\n",
       "</div>"
      ],
      "text/plain": [
       "     vendor_id  passenger_count  pickup_longitude  pickup_latitude  \\\n",
       "0            2                1        -73.982155        40.767937   \n",
       "1            1                1        -73.975090        40.758766   \n",
       "2            1                1        -73.994484        40.745087   \n",
       "3            2                3        -73.944359        40.714489   \n",
       "4            2                1        -73.952881        40.766468   \n",
       "..         ...              ...               ...              ...   \n",
       "295          1                1        -73.982788        40.730694   \n",
       "296          2                1        -73.960892        40.797031   \n",
       "297          1                1        -73.995201        40.739285   \n",
       "298          2                3        -73.953972        40.782955   \n",
       "299          2                1        -73.979065        40.762829   \n",
       "\n",
       "     dropoff_longitude  dropoff_latitude  trip_duration  store_and_fwd_flag  \\\n",
       "0           -73.964630         40.765602            455                   0   \n",
       "1           -73.953201         40.765068           1346                   0   \n",
       "2           -73.998993         40.722710            695                   0   \n",
       "3           -73.910530         40.709492            755                   0   \n",
       "4           -73.978630         40.761921           1050                   0   \n",
       "..                 ...               ...            ...                 ...   \n",
       "295         -73.990898         40.730732            181                   0   \n",
       "296         -73.944397         40.834461           1087                   0   \n",
       "297         -73.988510         40.748051            265                   0   \n",
       "298         -73.959518         40.774311            417                   0   \n",
       "299         -73.967247         40.761963            717                   0   \n",
       "\n",
       "     maximum temperature  minimum temperature  ...  precipitation  snow depth  \\\n",
       "0                     51                   40  ...           0.29         0.0   \n",
       "1                     51                   40  ...           0.29         0.0   \n",
       "2                     51                   40  ...           0.29         0.0   \n",
       "3                     51                   40  ...           0.29         0.0   \n",
       "4                     51                   40  ...           0.29         0.0   \n",
       "..                   ...                  ...  ...            ...         ...   \n",
       "295                   51                   40  ...           0.29         0.0   \n",
       "296                   51                   40  ...           0.29         0.0   \n",
       "297                   51                   40  ...           0.29         0.0   \n",
       "298                   51                   40  ...           0.29         0.0   \n",
       "299                   51                   40  ...           0.29         0.0   \n",
       "\n",
       "     delta_time  time_day  hour  minute  distance  cluster_0  cluster_1  \\\n",
       "0         480.0         1    17      24  1.502172          0          0   \n",
       "1        1380.0         1    14       5  1.976279          0          0   \n",
       "2         720.0         1    15       4  2.513961          1          0   \n",
       "3         780.0         0     4      24  2.911908          1          0   \n",
       "4        1080.0         1    14      57  2.231986          0          0   \n",
       "..          ...       ...   ...     ...       ...        ...        ...   \n",
       "295       180.0         1    14      40  0.685123          1          0   \n",
       "296      1080.0         0     8      46  4.383372          0          0   \n",
       "297       240.0         1    15      17  1.125618          1          0   \n",
       "298       420.0         1    14      36  1.068028          0          0   \n",
       "299       720.0         1    16      25  1.002489          0          0   \n",
       "\n",
       "     cluster_2  \n",
       "0            1  \n",
       "1            1  \n",
       "2            0  \n",
       "3            0  \n",
       "4            1  \n",
       "..         ...  \n",
       "295          0  \n",
       "296          1  \n",
       "297          0  \n",
       "298          1  \n",
       "299          1  \n",
       "\n",
       "[300 rows x 21 columns]"
      ]
     },
     "execution_count": 173,
     "metadata": {},
     "output_type": "execute_result"
    }
   ],
   "source": [
    "df.head(300)"
   ]
  },
  {
   "cell_type": "markdown",
   "id": "82acd3ca",
   "metadata": {},
   "source": [
    "## применим метод малых объемов данных для выбора подходящей архитектуры модели, а потом проведем отдельно гиперпараметризацию - для этого возьмем небольшой датасет для train и для test, потом на следующем этапе выделим датасет для валидации"
   ]
  },
  {
   "cell_type": "code",
   "execution_count": 170,
   "id": "5f3bf1a7",
   "metadata": {},
   "outputs": [],
   "source": [
    "df = df.reset_index().drop(\"index\", axis=1)"
   ]
  },
  {
   "cell_type": "code",
   "execution_count": 175,
   "id": "8871b748",
   "metadata": {},
   "outputs": [
    {
     "data": {
      "text/html": [
       "<div>\n",
       "<style scoped>\n",
       "    .dataframe tbody tr th:only-of-type {\n",
       "        vertical-align: middle;\n",
       "    }\n",
       "\n",
       "    .dataframe tbody tr th {\n",
       "        vertical-align: top;\n",
       "    }\n",
       "\n",
       "    .dataframe thead th {\n",
       "        text-align: right;\n",
       "    }\n",
       "</style>\n",
       "<table border=\"1\" class=\"dataframe\">\n",
       "  <thead>\n",
       "    <tr style=\"text-align: right;\">\n",
       "      <th></th>\n",
       "      <th>vendor_id</th>\n",
       "      <th>passenger_count</th>\n",
       "      <th>pickup_longitude</th>\n",
       "      <th>pickup_latitude</th>\n",
       "      <th>dropoff_longitude</th>\n",
       "      <th>dropoff_latitude</th>\n",
       "      <th>trip_duration</th>\n",
       "      <th>store_and_fwd_flag</th>\n",
       "      <th>maximum temperature</th>\n",
       "      <th>minimum temperature</th>\n",
       "      <th>...</th>\n",
       "      <th>precipitation</th>\n",
       "      <th>snow depth</th>\n",
       "      <th>delta_time</th>\n",
       "      <th>time_day</th>\n",
       "      <th>hour</th>\n",
       "      <th>minute</th>\n",
       "      <th>distance</th>\n",
       "      <th>cluster_0</th>\n",
       "      <th>cluster_1</th>\n",
       "      <th>cluster_2</th>\n",
       "    </tr>\n",
       "  </thead>\n",
       "  <tbody>\n",
       "    <tr>\n",
       "      <th>1044547</th>\n",
       "      <td>2</td>\n",
       "      <td>2</td>\n",
       "      <td>-73.968643</td>\n",
       "      <td>40.760963</td>\n",
       "      <td>-73.973991</td>\n",
       "      <td>40.748653</td>\n",
       "      <td>339</td>\n",
       "      <td>0</td>\n",
       "      <td>43</td>\n",
       "      <td>26</td>\n",
       "      <td>...</td>\n",
       "      <td>0.00</td>\n",
       "      <td>0.0</td>\n",
       "      <td>300.0</td>\n",
       "      <td>0</td>\n",
       "      <td>20</td>\n",
       "      <td>53</td>\n",
       "      <td>1.439692</td>\n",
       "      <td>0</td>\n",
       "      <td>0</td>\n",
       "      <td>1</td>\n",
       "    </tr>\n",
       "    <tr>\n",
       "      <th>945666</th>\n",
       "      <td>2</td>\n",
       "      <td>2</td>\n",
       "      <td>-73.967468</td>\n",
       "      <td>40.752369</td>\n",
       "      <td>-73.985260</td>\n",
       "      <td>40.731918</td>\n",
       "      <td>851</td>\n",
       "      <td>0</td>\n",
       "      <td>44</td>\n",
       "      <td>25</td>\n",
       "      <td>...</td>\n",
       "      <td>0.00</td>\n",
       "      <td>0.0</td>\n",
       "      <td>900.0</td>\n",
       "      <td>0</td>\n",
       "      <td>9</td>\n",
       "      <td>1</td>\n",
       "      <td>2.723181</td>\n",
       "      <td>0</td>\n",
       "      <td>0</td>\n",
       "      <td>1</td>\n",
       "    </tr>\n",
       "    <tr>\n",
       "      <th>283958</th>\n",
       "      <td>1</td>\n",
       "      <td>1</td>\n",
       "      <td>-73.984329</td>\n",
       "      <td>40.758827</td>\n",
       "      <td>-73.986191</td>\n",
       "      <td>40.730587</td>\n",
       "      <td>1191</td>\n",
       "      <td>0</td>\n",
       "      <td>61</td>\n",
       "      <td>47</td>\n",
       "      <td>...</td>\n",
       "      <td>0.05</td>\n",
       "      <td>0.0</td>\n",
       "      <td>1200.0</td>\n",
       "      <td>1</td>\n",
       "      <td>18</td>\n",
       "      <td>58</td>\n",
       "      <td>3.139985</td>\n",
       "      <td>1</td>\n",
       "      <td>0</td>\n",
       "      <td>0</td>\n",
       "    </tr>\n",
       "    <tr>\n",
       "      <th>729319</th>\n",
       "      <td>1</td>\n",
       "      <td>1</td>\n",
       "      <td>-73.952614</td>\n",
       "      <td>40.766567</td>\n",
       "      <td>-73.977066</td>\n",
       "      <td>40.760841</td>\n",
       "      <td>1038</td>\n",
       "      <td>0</td>\n",
       "      <td>40</td>\n",
       "      <td>26</td>\n",
       "      <td>...</td>\n",
       "      <td>0.00</td>\n",
       "      <td>0.0</td>\n",
       "      <td>1020.0</td>\n",
       "      <td>0</td>\n",
       "      <td>10</td>\n",
       "      <td>23</td>\n",
       "      <td>2.160317</td>\n",
       "      <td>0</td>\n",
       "      <td>0</td>\n",
       "      <td>1</td>\n",
       "    </tr>\n",
       "    <tr>\n",
       "      <th>229227</th>\n",
       "      <td>2</td>\n",
       "      <td>1</td>\n",
       "      <td>-73.982849</td>\n",
       "      <td>40.765663</td>\n",
       "      <td>-73.988503</td>\n",
       "      <td>40.729752</td>\n",
       "      <td>1068</td>\n",
       "      <td>0</td>\n",
       "      <td>39</td>\n",
       "      <td>27</td>\n",
       "      <td>...</td>\n",
       "      <td>0.00</td>\n",
       "      <td>0.0</td>\n",
       "      <td>1020.0</td>\n",
       "      <td>0</td>\n",
       "      <td>22</td>\n",
       "      <td>51</td>\n",
       "      <td>4.016424</td>\n",
       "      <td>0</td>\n",
       "      <td>0</td>\n",
       "      <td>1</td>\n",
       "    </tr>\n",
       "  </tbody>\n",
       "</table>\n",
       "<p>5 rows × 21 columns</p>\n",
       "</div>"
      ],
      "text/plain": [
       "         vendor_id  passenger_count  pickup_longitude  pickup_latitude  \\\n",
       "1044547          2                2        -73.968643        40.760963   \n",
       "945666           2                2        -73.967468        40.752369   \n",
       "283958           1                1        -73.984329        40.758827   \n",
       "729319           1                1        -73.952614        40.766567   \n",
       "229227           2                1        -73.982849        40.765663   \n",
       "\n",
       "         dropoff_longitude  dropoff_latitude  trip_duration  \\\n",
       "1044547         -73.973991         40.748653            339   \n",
       "945666          -73.985260         40.731918            851   \n",
       "283958          -73.986191         40.730587           1191   \n",
       "729319          -73.977066         40.760841           1038   \n",
       "229227          -73.988503         40.729752           1068   \n",
       "\n",
       "         store_and_fwd_flag  maximum temperature  minimum temperature  ...  \\\n",
       "1044547                   0                   43                   26  ...   \n",
       "945666                    0                   44                   25  ...   \n",
       "283958                    0                   61                   47  ...   \n",
       "729319                    0                   40                   26  ...   \n",
       "229227                    0                   39                   27  ...   \n",
       "\n",
       "         precipitation  snow depth  delta_time  time_day  hour  minute  \\\n",
       "1044547           0.00         0.0       300.0         0    20      53   \n",
       "945666            0.00         0.0       900.0         0     9       1   \n",
       "283958            0.05         0.0      1200.0         1    18      58   \n",
       "729319            0.00         0.0      1020.0         0    10      23   \n",
       "229227            0.00         0.0      1020.0         0    22      51   \n",
       "\n",
       "         distance  cluster_0  cluster_1  cluster_2  \n",
       "1044547  1.439692          0          0          1  \n",
       "945666   2.723181          0          0          1  \n",
       "283958   3.139985          1          0          0  \n",
       "729319   2.160317          0          0          1  \n",
       "229227   4.016424          0          0          1  \n",
       "\n",
       "[5 rows x 21 columns]"
      ]
     },
     "execution_count": 175,
     "metadata": {},
     "output_type": "execute_result"
    }
   ],
   "source": [
    "tmp.head()"
   ]
  },
  {
   "cell_type": "code",
   "execution_count": 442,
   "id": "cba629b5",
   "metadata": {},
   "outputs": [],
   "source": [
    "tmp=df.take(np.random.permutation(len(df))[:10000])\n",
    "tmp = tmp.reset_index().drop(\"index\", axis=1)\n",
    "train_x = tmp.drop(\"trip_duration\", axis=1).loc[:2000]\n",
    "train_y = tmp[\"trip_duration\"].loc[:2000]\n",
    "\n",
    "test_x = tmp.drop(\"trip_duration\",axis=1).loc[2000:10000]\n",
    "test_y = tmp[\"trip_duration\"].loc[2000:10000]"
   ]
  },
  {
   "cell_type": "code",
   "execution_count": 443,
   "id": "5fbbc242",
   "metadata": {},
   "outputs": [
    {
     "data": {
      "text/html": [
       "<div>\n",
       "<style scoped>\n",
       "    .dataframe tbody tr th:only-of-type {\n",
       "        vertical-align: middle;\n",
       "    }\n",
       "\n",
       "    .dataframe tbody tr th {\n",
       "        vertical-align: top;\n",
       "    }\n",
       "\n",
       "    .dataframe thead th {\n",
       "        text-align: right;\n",
       "    }\n",
       "</style>\n",
       "<table border=\"1\" class=\"dataframe\">\n",
       "  <thead>\n",
       "    <tr style=\"text-align: right;\">\n",
       "      <th></th>\n",
       "      <th>vendor_id</th>\n",
       "      <th>passenger_count</th>\n",
       "      <th>pickup_longitude</th>\n",
       "      <th>pickup_latitude</th>\n",
       "      <th>dropoff_longitude</th>\n",
       "      <th>dropoff_latitude</th>\n",
       "      <th>store_and_fwd_flag</th>\n",
       "      <th>maximum temperature</th>\n",
       "      <th>minimum temperature</th>\n",
       "      <th>average temperature</th>\n",
       "      <th>precipitation</th>\n",
       "      <th>snow depth</th>\n",
       "      <th>delta_time</th>\n",
       "      <th>time_day</th>\n",
       "      <th>hour</th>\n",
       "      <th>minute</th>\n",
       "      <th>distance</th>\n",
       "      <th>cluster_0</th>\n",
       "      <th>cluster_1</th>\n",
       "      <th>cluster_2</th>\n",
       "    </tr>\n",
       "  </thead>\n",
       "  <tbody>\n",
       "    <tr>\n",
       "      <th>2000</th>\n",
       "      <td>1</td>\n",
       "      <td>1</td>\n",
       "      <td>-73.969963</td>\n",
       "      <td>40.763161</td>\n",
       "      <td>-73.980125</td>\n",
       "      <td>40.755226</td>\n",
       "      <td>0</td>\n",
       "      <td>37</td>\n",
       "      <td>27</td>\n",
       "      <td>32.0</td>\n",
       "      <td>0.00</td>\n",
       "      <td>0.0</td>\n",
       "      <td>600.0</td>\n",
       "      <td>1</td>\n",
       "      <td>14</td>\n",
       "      <td>43</td>\n",
       "      <td>1.229939</td>\n",
       "      <td>0</td>\n",
       "      <td>0</td>\n",
       "      <td>1</td>\n",
       "    </tr>\n",
       "    <tr>\n",
       "      <th>2001</th>\n",
       "      <td>2</td>\n",
       "      <td>1</td>\n",
       "      <td>-73.975937</td>\n",
       "      <td>40.776360</td>\n",
       "      <td>-73.956947</td>\n",
       "      <td>40.744701</td>\n",
       "      <td>0</td>\n",
       "      <td>58</td>\n",
       "      <td>48</td>\n",
       "      <td>53.0</td>\n",
       "      <td>0.09</td>\n",
       "      <td>0.0</td>\n",
       "      <td>1860.0</td>\n",
       "      <td>1</td>\n",
       "      <td>12</td>\n",
       "      <td>56</td>\n",
       "      <td>3.864019</td>\n",
       "      <td>0</td>\n",
       "      <td>0</td>\n",
       "      <td>1</td>\n",
       "    </tr>\n",
       "    <tr>\n",
       "      <th>2002</th>\n",
       "      <td>2</td>\n",
       "      <td>1</td>\n",
       "      <td>-73.975288</td>\n",
       "      <td>40.755421</td>\n",
       "      <td>-73.972717</td>\n",
       "      <td>40.746780</td>\n",
       "      <td>0</td>\n",
       "      <td>30</td>\n",
       "      <td>22</td>\n",
       "      <td>26.0</td>\n",
       "      <td>0.00</td>\n",
       "      <td>0.0</td>\n",
       "      <td>660.0</td>\n",
       "      <td>1</td>\n",
       "      <td>14</td>\n",
       "      <td>21</td>\n",
       "      <td>0.983758</td>\n",
       "      <td>0</td>\n",
       "      <td>0</td>\n",
       "      <td>1</td>\n",
       "    </tr>\n",
       "    <tr>\n",
       "      <th>2003</th>\n",
       "      <td>1</td>\n",
       "      <td>1</td>\n",
       "      <td>-73.987595</td>\n",
       "      <td>40.719681</td>\n",
       "      <td>-73.997063</td>\n",
       "      <td>40.712925</td>\n",
       "      <td>0</td>\n",
       "      <td>83</td>\n",
       "      <td>66</td>\n",
       "      <td>74.5</td>\n",
       "      <td>0.40</td>\n",
       "      <td>0.0</td>\n",
       "      <td>420.0</td>\n",
       "      <td>0</td>\n",
       "      <td>0</td>\n",
       "      <td>59</td>\n",
       "      <td>1.096742</td>\n",
       "      <td>1</td>\n",
       "      <td>0</td>\n",
       "      <td>0</td>\n",
       "    </tr>\n",
       "    <tr>\n",
       "      <th>2004</th>\n",
       "      <td>1</td>\n",
       "      <td>2</td>\n",
       "      <td>-73.987846</td>\n",
       "      <td>40.759499</td>\n",
       "      <td>-73.946625</td>\n",
       "      <td>40.781612</td>\n",
       "      <td>0</td>\n",
       "      <td>55</td>\n",
       "      <td>38</td>\n",
       "      <td>46.5</td>\n",
       "      <td>0.00</td>\n",
       "      <td>0.0</td>\n",
       "      <td>1080.0</td>\n",
       "      <td>0</td>\n",
       "      <td>0</td>\n",
       "      <td>10</td>\n",
       "      <td>4.259377</td>\n",
       "      <td>1</td>\n",
       "      <td>0</td>\n",
       "      <td>0</td>\n",
       "    </tr>\n",
       "    <tr>\n",
       "      <th>...</th>\n",
       "      <td>...</td>\n",
       "      <td>...</td>\n",
       "      <td>...</td>\n",
       "      <td>...</td>\n",
       "      <td>...</td>\n",
       "      <td>...</td>\n",
       "      <td>...</td>\n",
       "      <td>...</td>\n",
       "      <td>...</td>\n",
       "      <td>...</td>\n",
       "      <td>...</td>\n",
       "      <td>...</td>\n",
       "      <td>...</td>\n",
       "      <td>...</td>\n",
       "      <td>...</td>\n",
       "      <td>...</td>\n",
       "      <td>...</td>\n",
       "      <td>...</td>\n",
       "      <td>...</td>\n",
       "      <td>...</td>\n",
       "    </tr>\n",
       "    <tr>\n",
       "      <th>9995</th>\n",
       "      <td>2</td>\n",
       "      <td>1</td>\n",
       "      <td>-73.979584</td>\n",
       "      <td>40.752609</td>\n",
       "      <td>-73.905792</td>\n",
       "      <td>40.773048</td>\n",
       "      <td>0</td>\n",
       "      <td>41</td>\n",
       "      <td>28</td>\n",
       "      <td>34.5</td>\n",
       "      <td>0.00</td>\n",
       "      <td>0.0</td>\n",
       "      <td>1080.0</td>\n",
       "      <td>0</td>\n",
       "      <td>2</td>\n",
       "      <td>39</td>\n",
       "      <td>6.631210</td>\n",
       "      <td>1</td>\n",
       "      <td>0</td>\n",
       "      <td>0</td>\n",
       "    </tr>\n",
       "    <tr>\n",
       "      <th>9996</th>\n",
       "      <td>2</td>\n",
       "      <td>1</td>\n",
       "      <td>-73.969788</td>\n",
       "      <td>40.765869</td>\n",
       "      <td>-73.963470</td>\n",
       "      <td>40.768532</td>\n",
       "      <td>0</td>\n",
       "      <td>60</td>\n",
       "      <td>48</td>\n",
       "      <td>54.0</td>\n",
       "      <td>0.00</td>\n",
       "      <td>0.0</td>\n",
       "      <td>180.0</td>\n",
       "      <td>0</td>\n",
       "      <td>10</td>\n",
       "      <td>51</td>\n",
       "      <td>0.609838</td>\n",
       "      <td>0</td>\n",
       "      <td>0</td>\n",
       "      <td>1</td>\n",
       "    </tr>\n",
       "    <tr>\n",
       "      <th>9997</th>\n",
       "      <td>2</td>\n",
       "      <td>1</td>\n",
       "      <td>-74.001427</td>\n",
       "      <td>40.735889</td>\n",
       "      <td>-73.968140</td>\n",
       "      <td>40.767109</td>\n",
       "      <td>0</td>\n",
       "      <td>36</td>\n",
       "      <td>14</td>\n",
       "      <td>25.0</td>\n",
       "      <td>0.00</td>\n",
       "      <td>0.0</td>\n",
       "      <td>840.0</td>\n",
       "      <td>0</td>\n",
       "      <td>21</td>\n",
       "      <td>53</td>\n",
       "      <td>4.463370</td>\n",
       "      <td>1</td>\n",
       "      <td>0</td>\n",
       "      <td>0</td>\n",
       "    </tr>\n",
       "    <tr>\n",
       "      <th>9998</th>\n",
       "      <td>1</td>\n",
       "      <td>1</td>\n",
       "      <td>-73.982506</td>\n",
       "      <td>40.768406</td>\n",
       "      <td>-73.982269</td>\n",
       "      <td>40.785313</td>\n",
       "      <td>0</td>\n",
       "      <td>44</td>\n",
       "      <td>31</td>\n",
       "      <td>37.5</td>\n",
       "      <td>0.53</td>\n",
       "      <td>1.0</td>\n",
       "      <td>540.0</td>\n",
       "      <td>0</td>\n",
       "      <td>21</td>\n",
       "      <td>33</td>\n",
       "      <td>1.877593</td>\n",
       "      <td>0</td>\n",
       "      <td>0</td>\n",
       "      <td>1</td>\n",
       "    </tr>\n",
       "    <tr>\n",
       "      <th>9999</th>\n",
       "      <td>1</td>\n",
       "      <td>3</td>\n",
       "      <td>-73.987289</td>\n",
       "      <td>40.766010</td>\n",
       "      <td>-73.982872</td>\n",
       "      <td>40.775764</td>\n",
       "      <td>0</td>\n",
       "      <td>57</td>\n",
       "      <td>42</td>\n",
       "      <td>49.5</td>\n",
       "      <td>0.00</td>\n",
       "      <td>0.0</td>\n",
       "      <td>300.0</td>\n",
       "      <td>1</td>\n",
       "      <td>19</td>\n",
       "      <td>26</td>\n",
       "      <td>1.145601</td>\n",
       "      <td>0</td>\n",
       "      <td>0</td>\n",
       "      <td>1</td>\n",
       "    </tr>\n",
       "  </tbody>\n",
       "</table>\n",
       "<p>8000 rows × 20 columns</p>\n",
       "</div>"
      ],
      "text/plain": [
       "      vendor_id  passenger_count  pickup_longitude  pickup_latitude  \\\n",
       "2000          1                1        -73.969963        40.763161   \n",
       "2001          2                1        -73.975937        40.776360   \n",
       "2002          2                1        -73.975288        40.755421   \n",
       "2003          1                1        -73.987595        40.719681   \n",
       "2004          1                2        -73.987846        40.759499   \n",
       "...         ...              ...               ...              ...   \n",
       "9995          2                1        -73.979584        40.752609   \n",
       "9996          2                1        -73.969788        40.765869   \n",
       "9997          2                1        -74.001427        40.735889   \n",
       "9998          1                1        -73.982506        40.768406   \n",
       "9999          1                3        -73.987289        40.766010   \n",
       "\n",
       "      dropoff_longitude  dropoff_latitude  store_and_fwd_flag  \\\n",
       "2000         -73.980125         40.755226                   0   \n",
       "2001         -73.956947         40.744701                   0   \n",
       "2002         -73.972717         40.746780                   0   \n",
       "2003         -73.997063         40.712925                   0   \n",
       "2004         -73.946625         40.781612                   0   \n",
       "...                 ...               ...                 ...   \n",
       "9995         -73.905792         40.773048                   0   \n",
       "9996         -73.963470         40.768532                   0   \n",
       "9997         -73.968140         40.767109                   0   \n",
       "9998         -73.982269         40.785313                   0   \n",
       "9999         -73.982872         40.775764                   0   \n",
       "\n",
       "      maximum temperature  minimum temperature  average temperature  \\\n",
       "2000                   37                   27                 32.0   \n",
       "2001                   58                   48                 53.0   \n",
       "2002                   30                   22                 26.0   \n",
       "2003                   83                   66                 74.5   \n",
       "2004                   55                   38                 46.5   \n",
       "...                   ...                  ...                  ...   \n",
       "9995                   41                   28                 34.5   \n",
       "9996                   60                   48                 54.0   \n",
       "9997                   36                   14                 25.0   \n",
       "9998                   44                   31                 37.5   \n",
       "9999                   57                   42                 49.5   \n",
       "\n",
       "      precipitation  snow depth  delta_time  time_day  hour  minute  distance  \\\n",
       "2000           0.00         0.0       600.0         1    14      43  1.229939   \n",
       "2001           0.09         0.0      1860.0         1    12      56  3.864019   \n",
       "2002           0.00         0.0       660.0         1    14      21  0.983758   \n",
       "2003           0.40         0.0       420.0         0     0      59  1.096742   \n",
       "2004           0.00         0.0      1080.0         0     0      10  4.259377   \n",
       "...             ...         ...         ...       ...   ...     ...       ...   \n",
       "9995           0.00         0.0      1080.0         0     2      39  6.631210   \n",
       "9996           0.00         0.0       180.0         0    10      51  0.609838   \n",
       "9997           0.00         0.0       840.0         0    21      53  4.463370   \n",
       "9998           0.53         1.0       540.0         0    21      33  1.877593   \n",
       "9999           0.00         0.0       300.0         1    19      26  1.145601   \n",
       "\n",
       "      cluster_0  cluster_1  cluster_2  \n",
       "2000          0          0          1  \n",
       "2001          0          0          1  \n",
       "2002          0          0          1  \n",
       "2003          1          0          0  \n",
       "2004          1          0          0  \n",
       "...         ...        ...        ...  \n",
       "9995          1          0          0  \n",
       "9996          0          0          1  \n",
       "9997          1          0          0  \n",
       "9998          0          0          1  \n",
       "9999          0          0          1  \n",
       "\n",
       "[8000 rows x 20 columns]"
      ]
     },
     "execution_count": 443,
     "metadata": {},
     "output_type": "execute_result"
    }
   ],
   "source": [
    "test_x"
   ]
  },
  {
   "cell_type": "code",
   "execution_count": 178,
   "id": "a3fa6ce9",
   "metadata": {},
   "outputs": [],
   "source": [
    "import seaborn as sns"
   ]
  },
  {
   "cell_type": "markdown",
   "id": "270b0d5b",
   "metadata": {},
   "source": [
    "дополнительный анализ данных для оптимизации обучения"
   ]
  },
  {
   "cell_type": "code",
   "execution_count": 181,
   "id": "27a24ebd",
   "metadata": {},
   "outputs": [
    {
     "data": {
      "text/plain": [
       "<AxesSubplot:xlabel='delta_time', ylabel='trip_duration'>"
      ]
     },
     "execution_count": 181,
     "metadata": {},
     "output_type": "execute_result"
    },
    {
     "data": {
      "image/png": "[encoded data removed]",
      "text/plain": [
       "<Figure size 432x288 with 1 Axes>"
      ]
     },
     "metadata": {
      "needs_background": "light"
     },
     "output_type": "display_data"
    }
   ],
   "source": [
    "sns.lineplot(x=df.delta_time.loc[:10000], y=y[:10000])"
   ]
  },
  {
   "cell_type": "code",
   "execution_count": 182,
   "id": "6e63c4d3",
   "metadata": {},
   "outputs": [
    {
     "data": {
      "text/html": [
       "<div>\n",
       "<style scoped>\n",
       "    .dataframe tbody tr th:only-of-type {\n",
       "        vertical-align: middle;\n",
       "    }\n",
       "\n",
       "    .dataframe tbody tr th {\n",
       "        vertical-align: top;\n",
       "    }\n",
       "\n",
       "    .dataframe thead th {\n",
       "        text-align: right;\n",
       "    }\n",
       "</style>\n",
       "<table border=\"1\" class=\"dataframe\">\n",
       "  <thead>\n",
       "    <tr style=\"text-align: right;\">\n",
       "      <th></th>\n",
       "      <th>vendor_id</th>\n",
       "      <th>passenger_count</th>\n",
       "      <th>pickup_longitude</th>\n",
       "      <th>pickup_latitude</th>\n",
       "      <th>dropoff_longitude</th>\n",
       "      <th>dropoff_latitude</th>\n",
       "      <th>trip_duration</th>\n",
       "      <th>store_and_fwd_flag</th>\n",
       "      <th>maximum temperature</th>\n",
       "      <th>minimum temperature</th>\n",
       "      <th>...</th>\n",
       "      <th>precipitation</th>\n",
       "      <th>snow depth</th>\n",
       "      <th>delta_time</th>\n",
       "      <th>time_day</th>\n",
       "      <th>hour</th>\n",
       "      <th>minute</th>\n",
       "      <th>distance</th>\n",
       "      <th>cluster_0</th>\n",
       "      <th>cluster_1</th>\n",
       "      <th>cluster_2</th>\n",
       "    </tr>\n",
       "  </thead>\n",
       "  <tbody>\n",
       "    <tr>\n",
       "      <th>0</th>\n",
       "      <td>2</td>\n",
       "      <td>1</td>\n",
       "      <td>-73.982155</td>\n",
       "      <td>40.767937</td>\n",
       "      <td>-73.964630</td>\n",
       "      <td>40.765602</td>\n",
       "      <td>455</td>\n",
       "      <td>0</td>\n",
       "      <td>51</td>\n",
       "      <td>40</td>\n",
       "      <td>...</td>\n",
       "      <td>0.29</td>\n",
       "      <td>0.0</td>\n",
       "      <td>480.0</td>\n",
       "      <td>1</td>\n",
       "      <td>17</td>\n",
       "      <td>24</td>\n",
       "      <td>1.502172</td>\n",
       "      <td>0</td>\n",
       "      <td>0</td>\n",
       "      <td>1</td>\n",
       "    </tr>\n",
       "    <tr>\n",
       "      <th>1</th>\n",
       "      <td>1</td>\n",
       "      <td>1</td>\n",
       "      <td>-73.975090</td>\n",
       "      <td>40.758766</td>\n",
       "      <td>-73.953201</td>\n",
       "      <td>40.765068</td>\n",
       "      <td>1346</td>\n",
       "      <td>0</td>\n",
       "      <td>51</td>\n",
       "      <td>40</td>\n",
       "      <td>...</td>\n",
       "      <td>0.29</td>\n",
       "      <td>0.0</td>\n",
       "      <td>1380.0</td>\n",
       "      <td>1</td>\n",
       "      <td>14</td>\n",
       "      <td>5</td>\n",
       "      <td>1.976279</td>\n",
       "      <td>0</td>\n",
       "      <td>0</td>\n",
       "      <td>1</td>\n",
       "    </tr>\n",
       "    <tr>\n",
       "      <th>2</th>\n",
       "      <td>1</td>\n",
       "      <td>1</td>\n",
       "      <td>-73.994484</td>\n",
       "      <td>40.745087</td>\n",
       "      <td>-73.998993</td>\n",
       "      <td>40.722710</td>\n",
       "      <td>695</td>\n",
       "      <td>0</td>\n",
       "      <td>51</td>\n",
       "      <td>40</td>\n",
       "      <td>...</td>\n",
       "      <td>0.29</td>\n",
       "      <td>0.0</td>\n",
       "      <td>720.0</td>\n",
       "      <td>1</td>\n",
       "      <td>15</td>\n",
       "      <td>4</td>\n",
       "      <td>2.513961</td>\n",
       "      <td>1</td>\n",
       "      <td>0</td>\n",
       "      <td>0</td>\n",
       "    </tr>\n",
       "    <tr>\n",
       "      <th>3</th>\n",
       "      <td>2</td>\n",
       "      <td>3</td>\n",
       "      <td>-73.944359</td>\n",
       "      <td>40.714489</td>\n",
       "      <td>-73.910530</td>\n",
       "      <td>40.709492</td>\n",
       "      <td>755</td>\n",
       "      <td>0</td>\n",
       "      <td>51</td>\n",
       "      <td>40</td>\n",
       "      <td>...</td>\n",
       "      <td>0.29</td>\n",
       "      <td>0.0</td>\n",
       "      <td>780.0</td>\n",
       "      <td>0</td>\n",
       "      <td>4</td>\n",
       "      <td>24</td>\n",
       "      <td>2.911908</td>\n",
       "      <td>1</td>\n",
       "      <td>0</td>\n",
       "      <td>0</td>\n",
       "    </tr>\n",
       "    <tr>\n",
       "      <th>4</th>\n",
       "      <td>2</td>\n",
       "      <td>1</td>\n",
       "      <td>-73.952881</td>\n",
       "      <td>40.766468</td>\n",
       "      <td>-73.978630</td>\n",
       "      <td>40.761921</td>\n",
       "      <td>1050</td>\n",
       "      <td>0</td>\n",
       "      <td>51</td>\n",
       "      <td>40</td>\n",
       "      <td>...</td>\n",
       "      <td>0.29</td>\n",
       "      <td>0.0</td>\n",
       "      <td>1080.0</td>\n",
       "      <td>1</td>\n",
       "      <td>14</td>\n",
       "      <td>57</td>\n",
       "      <td>2.231986</td>\n",
       "      <td>0</td>\n",
       "      <td>0</td>\n",
       "      <td>1</td>\n",
       "    </tr>\n",
       "  </tbody>\n",
       "</table>\n",
       "<p>5 rows × 21 columns</p>\n",
       "</div>"
      ],
      "text/plain": [
       "   vendor_id  passenger_count  pickup_longitude  pickup_latitude  \\\n",
       "0          2                1        -73.982155        40.767937   \n",
       "1          1                1        -73.975090        40.758766   \n",
       "2          1                1        -73.994484        40.745087   \n",
       "3          2                3        -73.944359        40.714489   \n",
       "4          2                1        -73.952881        40.766468   \n",
       "\n",
       "   dropoff_longitude  dropoff_latitude  trip_duration  store_and_fwd_flag  \\\n",
       "0         -73.964630         40.765602            455                   0   \n",
       "1         -73.953201         40.765068           1346                   0   \n",
       "2         -73.998993         40.722710            695                   0   \n",
       "3         -73.910530         40.709492            755                   0   \n",
       "4         -73.978630         40.761921           1050                   0   \n",
       "\n",
       "   maximum temperature  minimum temperature  ...  precipitation  snow depth  \\\n",
       "0                   51                   40  ...           0.29         0.0   \n",
       "1                   51                   40  ...           0.29         0.0   \n",
       "2                   51                   40  ...           0.29         0.0   \n",
       "3                   51                   40  ...           0.29         0.0   \n",
       "4                   51                   40  ...           0.29         0.0   \n",
       "\n",
       "   delta_time  time_day  hour  minute  distance  cluster_0  cluster_1  \\\n",
       "0       480.0         1    17      24  1.502172          0          0   \n",
       "1      1380.0         1    14       5  1.976279          0          0   \n",
       "2       720.0         1    15       4  2.513961          1          0   \n",
       "3       780.0         0     4      24  2.911908          1          0   \n",
       "4      1080.0         1    14      57  2.231986          0          0   \n",
       "\n",
       "   cluster_2  \n",
       "0          1  \n",
       "1          1  \n",
       "2          0  \n",
       "3          0  \n",
       "4          1  \n",
       "\n",
       "[5 rows x 21 columns]"
      ]
     },
     "execution_count": 182,
     "metadata": {},
     "output_type": "execute_result"
    }
   ],
   "source": [
    "df.head()"
   ]
  },
  {
   "cell_type": "code",
   "execution_count": 184,
   "id": "7aeafbfa",
   "metadata": {},
   "outputs": [
    {
     "data": {
      "text/plain": [
       "<AxesSubplot:xlabel='distance', ylabel='trip_duration'>"
      ]
     },
     "execution_count": 184,
     "metadata": {},
     "output_type": "execute_result"
    },
    {
     "data": {
      "image/png": "[encoded data removed]",
      "text/plain": [
       "<Figure size 432x288 with 1 Axes>"
      ]
     },
     "metadata": {
      "needs_background": "light"
     },
     "output_type": "display_data"
    }
   ],
   "source": [
    "sns.lineplot(x=df.distance.loc[:100], y=y[:100])"
   ]
  },
  {
   "cell_type": "markdown",
   "id": "8c38968c",
   "metadata": {},
   "source": [
    "# обучение базовых моделей"
   ]
  },
  {
   "cell_type": "markdown",
   "id": "2c9b1b24",
   "metadata": {},
   "source": [
    "## LogisticRegression"
   ]
  },
  {
   "cell_type": "code",
   "execution_count": 185,
   "id": "481e44b3",
   "metadata": {},
   "outputs": [],
   "source": [
    "from sklearn.linear_model import LinearRegression\n",
    "from sklearn.linear_model import LogisticRegression"
   ]
  },
  {
   "cell_type": "code",
   "execution_count": 186,
   "id": "ea9b24ee",
   "metadata": {},
   "outputs": [],
   "source": [
    "reg = LogisticRegression()"
   ]
  },
  {
   "cell_type": "code",
   "execution_count": 194,
   "id": "d1f8e231",
   "metadata": {},
   "outputs": [
    {
     "name": "stderr",
     "output_type": "stream",
     "text": [
      "C:\\ProgramData\\Anaconda3\\lib\\site-packages\\sklearn\\linear_model\\_logistic.py:818: ConvergenceWarning: lbfgs failed to converge (status=1):\n",
      "STOP: TOTAL NO. of ITERATIONS REACHED LIMIT.\n",
      "\n",
      "Increase the number of iterations (max_iter) or scale the data as shown in:\n",
      "    https://scikit-learn.org/stable/modules/preprocessing.html\n",
      "Please also refer to the documentation for alternative solver options:\n",
      "    https://scikit-learn.org/stable/modules/linear_model.html#logistic-regression\n",
      "  extra_warning_msg=_LOGISTIC_SOLVER_CONVERGENCE_MSG,\n"
     ]
    },
    {
     "data": {
      "text/plain": [
       "LogisticRegression()"
      ]
     },
     "execution_count": 194,
     "metadata": {},
     "output_type": "execute_result"
    }
   ],
   "source": [
    "reg.fit(train_x.loc[:500], train_y.loc[:500])"
   ]
  },
  {
   "cell_type": "code",
   "execution_count": 195,
   "id": "0ec6787b",
   "metadata": {},
   "outputs": [
    {
     "data": {
      "text/plain": [
       "0.0009995002498750624"
      ]
     },
     "execution_count": 195,
     "metadata": {},
     "output_type": "execute_result"
    }
   ],
   "source": [
    "reg.score(test_x, test_y)"
   ]
  },
  {
   "cell_type": "code",
   "execution_count": 211,
   "id": "fd6f1985",
   "metadata": {},
   "outputs": [
    {
     "data": {
      "text/html": [
       "<div>\n",
       "<style scoped>\n",
       "    .dataframe tbody tr th:only-of-type {\n",
       "        vertical-align: middle;\n",
       "    }\n",
       "\n",
       "    .dataframe tbody tr th {\n",
       "        vertical-align: top;\n",
       "    }\n",
       "\n",
       "    .dataframe thead th {\n",
       "        text-align: right;\n",
       "    }\n",
       "</style>\n",
       "<table border=\"1\" class=\"dataframe\">\n",
       "  <thead>\n",
       "    <tr style=\"text-align: right;\">\n",
       "      <th></th>\n",
       "      <th>vendor_id</th>\n",
       "      <th>passenger_count</th>\n",
       "      <th>pickup_longitude</th>\n",
       "      <th>pickup_latitude</th>\n",
       "      <th>dropoff_longitude</th>\n",
       "      <th>dropoff_latitude</th>\n",
       "      <th>store_and_fwd_flag</th>\n",
       "      <th>maximum temperature</th>\n",
       "      <th>minimum temperature</th>\n",
       "      <th>average temperature</th>\n",
       "      <th>precipitation</th>\n",
       "      <th>snow depth</th>\n",
       "      <th>delta_time</th>\n",
       "      <th>time_day</th>\n",
       "      <th>hour</th>\n",
       "      <th>minute</th>\n",
       "      <th>distance</th>\n",
       "      <th>cluster_0</th>\n",
       "      <th>cluster_1</th>\n",
       "      <th>cluster_2</th>\n",
       "    </tr>\n",
       "  </thead>\n",
       "  <tbody>\n",
       "    <tr>\n",
       "      <th>0</th>\n",
       "      <td>1</td>\n",
       "      <td>4</td>\n",
       "      <td>-73.964386</td>\n",
       "      <td>40.763969</td>\n",
       "      <td>-73.983047</td>\n",
       "      <td>40.750401</td>\n",
       "      <td>0</td>\n",
       "      <td>43</td>\n",
       "      <td>26</td>\n",
       "      <td>34.5</td>\n",
       "      <td>0.00</td>\n",
       "      <td>0.0</td>\n",
       "      <td>1200.0</td>\n",
       "      <td>1</td>\n",
       "      <td>17</td>\n",
       "      <td>8</td>\n",
       "      <td>2.180309</td>\n",
       "      <td>0</td>\n",
       "      <td>0</td>\n",
       "      <td>1</td>\n",
       "    </tr>\n",
       "    <tr>\n",
       "      <th>1</th>\n",
       "      <td>1</td>\n",
       "      <td>1</td>\n",
       "      <td>-73.980789</td>\n",
       "      <td>40.779846</td>\n",
       "      <td>-73.973434</td>\n",
       "      <td>40.760551</td>\n",
       "      <td>0</td>\n",
       "      <td>85</td>\n",
       "      <td>62</td>\n",
       "      <td>73.5</td>\n",
       "      <td>0.00</td>\n",
       "      <td>0.0</td>\n",
       "      <td>480.0</td>\n",
       "      <td>0</td>\n",
       "      <td>6</td>\n",
       "      <td>11</td>\n",
       "      <td>2.230829</td>\n",
       "      <td>0</td>\n",
       "      <td>0</td>\n",
       "      <td>1</td>\n",
       "    </tr>\n",
       "    <tr>\n",
       "      <th>2</th>\n",
       "      <td>1</td>\n",
       "      <td>1</td>\n",
       "      <td>-74.004219</td>\n",
       "      <td>40.742290</td>\n",
       "      <td>-73.982491</td>\n",
       "      <td>40.747566</td>\n",
       "      <td>0</td>\n",
       "      <td>68</td>\n",
       "      <td>47</td>\n",
       "      <td>57.5</td>\n",
       "      <td>0.00</td>\n",
       "      <td>0.0</td>\n",
       "      <td>480.0</td>\n",
       "      <td>1</td>\n",
       "      <td>18</td>\n",
       "      <td>32</td>\n",
       "      <td>1.926410</td>\n",
       "      <td>1</td>\n",
       "      <td>0</td>\n",
       "      <td>0</td>\n",
       "    </tr>\n",
       "    <tr>\n",
       "      <th>3</th>\n",
       "      <td>2</td>\n",
       "      <td>1</td>\n",
       "      <td>-73.917969</td>\n",
       "      <td>40.815971</td>\n",
       "      <td>-73.920593</td>\n",
       "      <td>40.808239</td>\n",
       "      <td>0</td>\n",
       "      <td>68</td>\n",
       "      <td>48</td>\n",
       "      <td>58.0</td>\n",
       "      <td>0.06</td>\n",
       "      <td>0.0</td>\n",
       "      <td>540.0</td>\n",
       "      <td>1</td>\n",
       "      <td>18</td>\n",
       "      <td>19</td>\n",
       "      <td>0.886777</td>\n",
       "      <td>0</td>\n",
       "      <td>0</td>\n",
       "      <td>1</td>\n",
       "    </tr>\n",
       "    <tr>\n",
       "      <th>4</th>\n",
       "      <td>1</td>\n",
       "      <td>1</td>\n",
       "      <td>-73.954742</td>\n",
       "      <td>40.799248</td>\n",
       "      <td>-73.968132</td>\n",
       "      <td>40.800392</td>\n",
       "      <td>0</td>\n",
       "      <td>55</td>\n",
       "      <td>44</td>\n",
       "      <td>49.5</td>\n",
       "      <td>0.03</td>\n",
       "      <td>0.0</td>\n",
       "      <td>300.0</td>\n",
       "      <td>1</td>\n",
       "      <td>11</td>\n",
       "      <td>5</td>\n",
       "      <td>1.137061</td>\n",
       "      <td>0</td>\n",
       "      <td>0</td>\n",
       "      <td>1</td>\n",
       "    </tr>\n",
       "    <tr>\n",
       "      <th>...</th>\n",
       "      <td>...</td>\n",
       "      <td>...</td>\n",
       "      <td>...</td>\n",
       "      <td>...</td>\n",
       "      <td>...</td>\n",
       "      <td>...</td>\n",
       "      <td>...</td>\n",
       "      <td>...</td>\n",
       "      <td>...</td>\n",
       "      <td>...</td>\n",
       "      <td>...</td>\n",
       "      <td>...</td>\n",
       "      <td>...</td>\n",
       "      <td>...</td>\n",
       "      <td>...</td>\n",
       "      <td>...</td>\n",
       "      <td>...</td>\n",
       "      <td>...</td>\n",
       "      <td>...</td>\n",
       "      <td>...</td>\n",
       "    </tr>\n",
       "    <tr>\n",
       "      <th>1996</th>\n",
       "      <td>2</td>\n",
       "      <td>1</td>\n",
       "      <td>-73.978256</td>\n",
       "      <td>40.766491</td>\n",
       "      <td>-74.001068</td>\n",
       "      <td>40.762779</td>\n",
       "      <td>0</td>\n",
       "      <td>55</td>\n",
       "      <td>43</td>\n",
       "      <td>49.0</td>\n",
       "      <td>0.00</td>\n",
       "      <td>0.0</td>\n",
       "      <td>960.0</td>\n",
       "      <td>0</td>\n",
       "      <td>10</td>\n",
       "      <td>7</td>\n",
       "      <td>1.969703</td>\n",
       "      <td>0</td>\n",
       "      <td>0</td>\n",
       "      <td>1</td>\n",
       "    </tr>\n",
       "    <tr>\n",
       "      <th>1997</th>\n",
       "      <td>1</td>\n",
       "      <td>2</td>\n",
       "      <td>-73.970993</td>\n",
       "      <td>40.788437</td>\n",
       "      <td>-73.968430</td>\n",
       "      <td>40.791683</td>\n",
       "      <td>0</td>\n",
       "      <td>55</td>\n",
       "      <td>29</td>\n",
       "      <td>42.0</td>\n",
       "      <td>0.14</td>\n",
       "      <td>0.0</td>\n",
       "      <td>780.0</td>\n",
       "      <td>1</td>\n",
       "      <td>15</td>\n",
       "      <td>40</td>\n",
       "      <td>0.420445</td>\n",
       "      <td>0</td>\n",
       "      <td>0</td>\n",
       "      <td>1</td>\n",
       "    </tr>\n",
       "    <tr>\n",
       "      <th>1998</th>\n",
       "      <td>2</td>\n",
       "      <td>5</td>\n",
       "      <td>-73.958504</td>\n",
       "      <td>40.800381</td>\n",
       "      <td>-73.990173</td>\n",
       "      <td>40.761902</td>\n",
       "      <td>0</td>\n",
       "      <td>87</td>\n",
       "      <td>67</td>\n",
       "      <td>77.0</td>\n",
       "      <td>0.00</td>\n",
       "      <td>0.0</td>\n",
       "      <td>960.0</td>\n",
       "      <td>1</td>\n",
       "      <td>16</td>\n",
       "      <td>14</td>\n",
       "      <td>5.040410</td>\n",
       "      <td>0</td>\n",
       "      <td>0</td>\n",
       "      <td>1</td>\n",
       "    </tr>\n",
       "    <tr>\n",
       "      <th>1999</th>\n",
       "      <td>1</td>\n",
       "      <td>1</td>\n",
       "      <td>-73.930382</td>\n",
       "      <td>40.761284</td>\n",
       "      <td>-73.940201</td>\n",
       "      <td>40.751110</td>\n",
       "      <td>0</td>\n",
       "      <td>82</td>\n",
       "      <td>68</td>\n",
       "      <td>75.0</td>\n",
       "      <td>1.65</td>\n",
       "      <td>0.0</td>\n",
       "      <td>120.0</td>\n",
       "      <td>0</td>\n",
       "      <td>21</td>\n",
       "      <td>23</td>\n",
       "      <td>1.401407</td>\n",
       "      <td>0</td>\n",
       "      <td>0</td>\n",
       "      <td>1</td>\n",
       "    </tr>\n",
       "    <tr>\n",
       "      <th>2000</th>\n",
       "      <td>2</td>\n",
       "      <td>1</td>\n",
       "      <td>-73.957314</td>\n",
       "      <td>40.712948</td>\n",
       "      <td>-73.958954</td>\n",
       "      <td>40.685287</td>\n",
       "      <td>0</td>\n",
       "      <td>46</td>\n",
       "      <td>31</td>\n",
       "      <td>38.5</td>\n",
       "      <td>0.00</td>\n",
       "      <td>0.0</td>\n",
       "      <td>660.0</td>\n",
       "      <td>0</td>\n",
       "      <td>23</td>\n",
       "      <td>9</td>\n",
       "      <td>3.074758</td>\n",
       "      <td>1</td>\n",
       "      <td>0</td>\n",
       "      <td>0</td>\n",
       "    </tr>\n",
       "  </tbody>\n",
       "</table>\n",
       "<p>2001 rows × 20 columns</p>\n",
       "</div>"
      ],
      "text/plain": [
       "      vendor_id  passenger_count  pickup_longitude  pickup_latitude  \\\n",
       "0             1                4        -73.964386        40.763969   \n",
       "1             1                1        -73.980789        40.779846   \n",
       "2             1                1        -74.004219        40.742290   \n",
       "3             2                1        -73.917969        40.815971   \n",
       "4             1                1        -73.954742        40.799248   \n",
       "...         ...              ...               ...              ...   \n",
       "1996          2                1        -73.978256        40.766491   \n",
       "1997          1                2        -73.970993        40.788437   \n",
       "1998          2                5        -73.958504        40.800381   \n",
       "1999          1                1        -73.930382        40.761284   \n",
       "2000          2                1        -73.957314        40.712948   \n",
       "\n",
       "      dropoff_longitude  dropoff_latitude  store_and_fwd_flag  \\\n",
       "0            -73.983047         40.750401                   0   \n",
       "1            -73.973434         40.760551                   0   \n",
       "2            -73.982491         40.747566                   0   \n",
       "3            -73.920593         40.808239                   0   \n",
       "4            -73.968132         40.800392                   0   \n",
       "...                 ...               ...                 ...   \n",
       "1996         -74.001068         40.762779                   0   \n",
       "1997         -73.968430         40.791683                   0   \n",
       "1998         -73.990173         40.761902                   0   \n",
       "1999         -73.940201         40.751110                   0   \n",
       "2000         -73.958954         40.685287                   0   \n",
       "\n",
       "      maximum temperature  minimum temperature  average temperature  \\\n",
       "0                      43                   26                 34.5   \n",
       "1                      85                   62                 73.5   \n",
       "2                      68                   47                 57.5   \n",
       "3                      68                   48                 58.0   \n",
       "4                      55                   44                 49.5   \n",
       "...                   ...                  ...                  ...   \n",
       "1996                   55                   43                 49.0   \n",
       "1997                   55                   29                 42.0   \n",
       "1998                   87                   67                 77.0   \n",
       "1999                   82                   68                 75.0   \n",
       "2000                   46                   31                 38.5   \n",
       "\n",
       "      precipitation  snow depth  delta_time  time_day  hour  minute  distance  \\\n",
       "0              0.00         0.0      1200.0         1    17       8  2.180309   \n",
       "1              0.00         0.0       480.0         0     6      11  2.230829   \n",
       "2              0.00         0.0       480.0         1    18      32  1.926410   \n",
       "3              0.06         0.0       540.0         1    18      19  0.886777   \n",
       "4              0.03         0.0       300.0         1    11       5  1.137061   \n",
       "...             ...         ...         ...       ...   ...     ...       ...   \n",
       "1996           0.00         0.0       960.0         0    10       7  1.969703   \n",
       "1997           0.14         0.0       780.0         1    15      40  0.420445   \n",
       "1998           0.00         0.0       960.0         1    16      14  5.040410   \n",
       "1999           1.65         0.0       120.0         0    21      23  1.401407   \n",
       "2000           0.00         0.0       660.0         0    23       9  3.074758   \n",
       "\n",
       "      cluster_0  cluster_1  cluster_2  \n",
       "0             0          0          1  \n",
       "1             0          0          1  \n",
       "2             1          0          0  \n",
       "3             0          0          1  \n",
       "4             0          0          1  \n",
       "...         ...        ...        ...  \n",
       "1996          0          0          1  \n",
       "1997          0          0          1  \n",
       "1998          0          0          1  \n",
       "1999          0          0          1  \n",
       "2000          1          0          0  \n",
       "\n",
       "[2001 rows x 20 columns]"
      ]
     },
     "execution_count": 211,
     "metadata": {},
     "output_type": "execute_result"
    }
   ],
   "source": [
    "train_x"
   ]
  },
  {
   "cell_type": "code",
   "execution_count": 197,
   "id": "6116e387",
   "metadata": {},
   "outputs": [
    {
     "data": {
      "text/plain": [
       "2000     660.0\n",
       "2001     540.0\n",
       "2002     600.0\n",
       "2003    1080.0\n",
       "2004     780.0\n",
       "Name: delta_time, dtype: float64"
      ]
     },
     "execution_count": 197,
     "metadata": {},
     "output_type": "execute_result"
    }
   ],
   "source": [
    "test_x.head().delta_time"
   ]
  },
  {
   "cell_type": "code",
   "execution_count": 199,
   "id": "d121b926",
   "metadata": {},
   "outputs": [
    {
     "data": {
      "text/plain": [
       "2000     635\n",
       "2001     547\n",
       "2002     606\n",
       "2003    1036\n",
       "2004     755\n",
       "Name: trip_duration, dtype: int64"
      ]
     },
     "execution_count": 199,
     "metadata": {},
     "output_type": "execute_result"
    }
   ],
   "source": [
    "test_y.head()"
   ]
  },
  {
   "cell_type": "code",
   "execution_count": 202,
   "id": "fa853eff",
   "metadata": {},
   "outputs": [],
   "source": [
    "x = df.loc[:10].drop(\"trip_duration\", axis=1)\n",
    "y = df.loc[:10].trip_duration"
   ]
  },
  {
   "cell_type": "code",
   "execution_count": 203,
   "id": "02623ed3",
   "metadata": {},
   "outputs": [
    {
     "data": {
      "text/plain": [
       "array([855, 855, 855, 855, 855, 492, 855, 855, 855, 855], dtype=int64)"
      ]
     },
     "execution_count": 203,
     "metadata": {},
     "output_type": "execute_result"
    }
   ],
   "source": [
    "reg.predict(x)[:10]"
   ]
  },
  {
   "cell_type": "code",
   "execution_count": 204,
   "id": "d0b5012c",
   "metadata": {},
   "outputs": [
    {
     "data": {
      "text/plain": [
       "0     455\n",
       "1    1346\n",
       "2     695\n",
       "3     755\n",
       "4    1050\n",
       "5     306\n",
       "6     796\n",
       "7     789\n",
       "8    1954\n",
       "9     795\n",
       "Name: trip_duration, dtype: int64"
      ]
     },
     "execution_count": 204,
     "metadata": {},
     "output_type": "execute_result"
    }
   ],
   "source": [
    "y[:10]"
   ]
  },
  {
   "cell_type": "code",
   "execution_count": 205,
   "id": "e513368a",
   "metadata": {},
   "outputs": [
    {
     "data": {
      "text/html": [
       "<div>\n",
       "<style scoped>\n",
       "    .dataframe tbody tr th:only-of-type {\n",
       "        vertical-align: middle;\n",
       "    }\n",
       "\n",
       "    .dataframe tbody tr th {\n",
       "        vertical-align: top;\n",
       "    }\n",
       "\n",
       "    .dataframe thead th {\n",
       "        text-align: right;\n",
       "    }\n",
       "</style>\n",
       "<table border=\"1\" class=\"dataframe\">\n",
       "  <thead>\n",
       "    <tr style=\"text-align: right;\">\n",
       "      <th></th>\n",
       "      <th>vendor_id</th>\n",
       "      <th>passenger_count</th>\n",
       "      <th>pickup_longitude</th>\n",
       "      <th>pickup_latitude</th>\n",
       "      <th>dropoff_longitude</th>\n",
       "      <th>dropoff_latitude</th>\n",
       "      <th>trip_duration</th>\n",
       "      <th>store_and_fwd_flag</th>\n",
       "      <th>maximum temperature</th>\n",
       "      <th>minimum temperature</th>\n",
       "      <th>...</th>\n",
       "      <th>precipitation</th>\n",
       "      <th>snow depth</th>\n",
       "      <th>delta_time</th>\n",
       "      <th>time_day</th>\n",
       "      <th>hour</th>\n",
       "      <th>minute</th>\n",
       "      <th>distance</th>\n",
       "      <th>cluster_0</th>\n",
       "      <th>cluster_1</th>\n",
       "      <th>cluster_2</th>\n",
       "    </tr>\n",
       "  </thead>\n",
       "  <tbody>\n",
       "    <tr>\n",
       "      <th>0</th>\n",
       "      <td>2</td>\n",
       "      <td>1</td>\n",
       "      <td>-73.982155</td>\n",
       "      <td>40.767937</td>\n",
       "      <td>-73.964630</td>\n",
       "      <td>40.765602</td>\n",
       "      <td>455</td>\n",
       "      <td>0</td>\n",
       "      <td>51</td>\n",
       "      <td>40</td>\n",
       "      <td>...</td>\n",
       "      <td>0.29</td>\n",
       "      <td>0.0</td>\n",
       "      <td>480.0</td>\n",
       "      <td>1</td>\n",
       "      <td>17</td>\n",
       "      <td>24</td>\n",
       "      <td>1.502172</td>\n",
       "      <td>0</td>\n",
       "      <td>0</td>\n",
       "      <td>1</td>\n",
       "    </tr>\n",
       "    <tr>\n",
       "      <th>1</th>\n",
       "      <td>1</td>\n",
       "      <td>1</td>\n",
       "      <td>-73.975090</td>\n",
       "      <td>40.758766</td>\n",
       "      <td>-73.953201</td>\n",
       "      <td>40.765068</td>\n",
       "      <td>1346</td>\n",
       "      <td>0</td>\n",
       "      <td>51</td>\n",
       "      <td>40</td>\n",
       "      <td>...</td>\n",
       "      <td>0.29</td>\n",
       "      <td>0.0</td>\n",
       "      <td>1380.0</td>\n",
       "      <td>1</td>\n",
       "      <td>14</td>\n",
       "      <td>5</td>\n",
       "      <td>1.976279</td>\n",
       "      <td>0</td>\n",
       "      <td>0</td>\n",
       "      <td>1</td>\n",
       "    </tr>\n",
       "    <tr>\n",
       "      <th>2</th>\n",
       "      <td>1</td>\n",
       "      <td>1</td>\n",
       "      <td>-73.994484</td>\n",
       "      <td>40.745087</td>\n",
       "      <td>-73.998993</td>\n",
       "      <td>40.722710</td>\n",
       "      <td>695</td>\n",
       "      <td>0</td>\n",
       "      <td>51</td>\n",
       "      <td>40</td>\n",
       "      <td>...</td>\n",
       "      <td>0.29</td>\n",
       "      <td>0.0</td>\n",
       "      <td>720.0</td>\n",
       "      <td>1</td>\n",
       "      <td>15</td>\n",
       "      <td>4</td>\n",
       "      <td>2.513961</td>\n",
       "      <td>1</td>\n",
       "      <td>0</td>\n",
       "      <td>0</td>\n",
       "    </tr>\n",
       "    <tr>\n",
       "      <th>3</th>\n",
       "      <td>2</td>\n",
       "      <td>3</td>\n",
       "      <td>-73.944359</td>\n",
       "      <td>40.714489</td>\n",
       "      <td>-73.910530</td>\n",
       "      <td>40.709492</td>\n",
       "      <td>755</td>\n",
       "      <td>0</td>\n",
       "      <td>51</td>\n",
       "      <td>40</td>\n",
       "      <td>...</td>\n",
       "      <td>0.29</td>\n",
       "      <td>0.0</td>\n",
       "      <td>780.0</td>\n",
       "      <td>0</td>\n",
       "      <td>4</td>\n",
       "      <td>24</td>\n",
       "      <td>2.911908</td>\n",
       "      <td>1</td>\n",
       "      <td>0</td>\n",
       "      <td>0</td>\n",
       "    </tr>\n",
       "    <tr>\n",
       "      <th>4</th>\n",
       "      <td>2</td>\n",
       "      <td>1</td>\n",
       "      <td>-73.952881</td>\n",
       "      <td>40.766468</td>\n",
       "      <td>-73.978630</td>\n",
       "      <td>40.761921</td>\n",
       "      <td>1050</td>\n",
       "      <td>0</td>\n",
       "      <td>51</td>\n",
       "      <td>40</td>\n",
       "      <td>...</td>\n",
       "      <td>0.29</td>\n",
       "      <td>0.0</td>\n",
       "      <td>1080.0</td>\n",
       "      <td>1</td>\n",
       "      <td>14</td>\n",
       "      <td>57</td>\n",
       "      <td>2.231986</td>\n",
       "      <td>0</td>\n",
       "      <td>0</td>\n",
       "      <td>1</td>\n",
       "    </tr>\n",
       "  </tbody>\n",
       "</table>\n",
       "<p>5 rows × 21 columns</p>\n",
       "</div>"
      ],
      "text/plain": [
       "   vendor_id  passenger_count  pickup_longitude  pickup_latitude  \\\n",
       "0          2                1        -73.982155        40.767937   \n",
       "1          1                1        -73.975090        40.758766   \n",
       "2          1                1        -73.994484        40.745087   \n",
       "3          2                3        -73.944359        40.714489   \n",
       "4          2                1        -73.952881        40.766468   \n",
       "\n",
       "   dropoff_longitude  dropoff_latitude  trip_duration  store_and_fwd_flag  \\\n",
       "0         -73.964630         40.765602            455                   0   \n",
       "1         -73.953201         40.765068           1346                   0   \n",
       "2         -73.998993         40.722710            695                   0   \n",
       "3         -73.910530         40.709492            755                   0   \n",
       "4         -73.978630         40.761921           1050                   0   \n",
       "\n",
       "   maximum temperature  minimum temperature  ...  precipitation  snow depth  \\\n",
       "0                   51                   40  ...           0.29         0.0   \n",
       "1                   51                   40  ...           0.29         0.0   \n",
       "2                   51                   40  ...           0.29         0.0   \n",
       "3                   51                   40  ...           0.29         0.0   \n",
       "4                   51                   40  ...           0.29         0.0   \n",
       "\n",
       "   delta_time  time_day  hour  minute  distance  cluster_0  cluster_1  \\\n",
       "0       480.0         1    17      24  1.502172          0          0   \n",
       "1      1380.0         1    14       5  1.976279          0          0   \n",
       "2       720.0         1    15       4  2.513961          1          0   \n",
       "3       780.0         0     4      24  2.911908          1          0   \n",
       "4      1080.0         1    14      57  2.231986          0          0   \n",
       "\n",
       "   cluster_2  \n",
       "0          1  \n",
       "1          1  \n",
       "2          0  \n",
       "3          0  \n",
       "4          1  \n",
       "\n",
       "[5 rows x 21 columns]"
      ]
     },
     "execution_count": 205,
     "metadata": {},
     "output_type": "execute_result"
    }
   ],
   "source": [
    "df.head()"
   ]
  },
  {
   "cell_type": "code",
   "execution_count": 206,
   "id": "1cab42dc",
   "metadata": {},
   "outputs": [
    {
     "data": {
      "text/plain": [
       "Index(['vendor_id', 'passenger_count', 'pickup_longitude', 'pickup_latitude',\n",
       "       'dropoff_longitude', 'dropoff_latitude', 'trip_duration',\n",
       "       'store_and_fwd_flag', 'maximum temperature', 'minimum temperature',\n",
       "       'average temperature', 'precipitation', 'snow depth', 'delta_time',\n",
       "       'time_day', 'hour', 'minute', 'distance', 'cluster_0', 'cluster_1',\n",
       "       'cluster_2'],\n",
       "      dtype='object')"
      ]
     },
     "execution_count": 206,
     "metadata": {},
     "output_type": "execute_result"
    }
   ],
   "source": [
    "df.columns"
   ]
  },
  {
   "cell_type": "code",
   "execution_count": 207,
   "id": "99394ca7",
   "metadata": {},
   "outputs": [],
   "source": [
    "import matplotlib.pyplot as plt"
   ]
  },
  {
   "cell_type": "code",
   "execution_count": 208,
   "id": "967c5eae",
   "metadata": {},
   "outputs": [
    {
     "data": {
      "text/plain": [
       "<AxesSubplot:title={'center':'Матрица корелляции всех признаков'}>"
      ]
     },
     "execution_count": 208,
     "metadata": {},
     "output_type": "execute_result"
    },
    {
     "data": {
      "image/png": "[encoded data removed]",
      "text/plain": [
       "<Figure size 1440x1440 with 2 Axes>"
      ]
     },
     "metadata": {
      "needs_background": "light"
     },
     "output_type": "display_data"
    }
   ],
   "source": [
    "plt.figure(figsize=(20, 20))\n",
    "plt.title(\"Матрица корелляции всех признаков\")\n",
    "matrix = df.corr()\n",
    "sns.heatmap(matrix)"
   ]
  },
  {
   "cell_type": "code",
   "execution_count": 244,
   "id": "c87af0d5",
   "metadata": {},
   "outputs": [
    {
     "data": {
      "text/plain": [
       "Index(['vendor_id', 'passenger_count', 'pickup_longitude', 'pickup_latitude',\n",
       "       'dropoff_longitude', 'dropoff_latitude', 'store_and_fwd_flag',\n",
       "       'maximum temperature', 'minimum temperature', 'average temperature',\n",
       "       'precipitation', 'snow depth', 'delta_time', 'time_day', 'hour',\n",
       "       'minute', 'distance', 'cluster_0', 'cluster_1', 'cluster_2'],\n",
       "      dtype='object')"
      ]
     },
     "execution_count": 244,
     "metadata": {},
     "output_type": "execute_result"
    }
   ],
   "source": [
    "train_x.columns"
   ]
  },
  {
   "cell_type": "code",
   "execution_count": 246,
   "id": "b57affa5",
   "metadata": {},
   "outputs": [],
   "source": [
    "x = pd.concat([train_x.delta_time, train_x.cluster_0, train_x.cluster_1, train_x.vendor_id, train_x[\"maximum temperature\"], train_x[\"time_day\"],  train_x.cluster_2], axis=1)\n",
    "y = train_y"
   ]
  },
  {
   "cell_type": "code",
   "execution_count": 247,
   "id": "6ad7a7d0",
   "metadata": {},
   "outputs": [
    {
     "data": {
      "text/html": [
       "<div>\n",
       "<style scoped>\n",
       "    .dataframe tbody tr th:only-of-type {\n",
       "        vertical-align: middle;\n",
       "    }\n",
       "\n",
       "    .dataframe tbody tr th {\n",
       "        vertical-align: top;\n",
       "    }\n",
       "\n",
       "    .dataframe thead th {\n",
       "        text-align: right;\n",
       "    }\n",
       "</style>\n",
       "<table border=\"1\" class=\"dataframe\">\n",
       "  <thead>\n",
       "    <tr style=\"text-align: right;\">\n",
       "      <th></th>\n",
       "      <th>delta_time</th>\n",
       "      <th>cluster_0</th>\n",
       "      <th>cluster_1</th>\n",
       "      <th>vendor_id</th>\n",
       "      <th>maximum temperature</th>\n",
       "      <th>time_day</th>\n",
       "      <th>cluster_2</th>\n",
       "    </tr>\n",
       "  </thead>\n",
       "  <tbody>\n",
       "    <tr>\n",
       "      <th>0</th>\n",
       "      <td>1200.0</td>\n",
       "      <td>0</td>\n",
       "      <td>0</td>\n",
       "      <td>1</td>\n",
       "      <td>43</td>\n",
       "      <td>1</td>\n",
       "      <td>1</td>\n",
       "    </tr>\n",
       "    <tr>\n",
       "      <th>1</th>\n",
       "      <td>480.0</td>\n",
       "      <td>0</td>\n",
       "      <td>0</td>\n",
       "      <td>1</td>\n",
       "      <td>85</td>\n",
       "      <td>0</td>\n",
       "      <td>1</td>\n",
       "    </tr>\n",
       "    <tr>\n",
       "      <th>2</th>\n",
       "      <td>480.0</td>\n",
       "      <td>1</td>\n",
       "      <td>0</td>\n",
       "      <td>1</td>\n",
       "      <td>68</td>\n",
       "      <td>1</td>\n",
       "      <td>0</td>\n",
       "    </tr>\n",
       "    <tr>\n",
       "      <th>3</th>\n",
       "      <td>540.0</td>\n",
       "      <td>0</td>\n",
       "      <td>0</td>\n",
       "      <td>2</td>\n",
       "      <td>68</td>\n",
       "      <td>1</td>\n",
       "      <td>1</td>\n",
       "    </tr>\n",
       "    <tr>\n",
       "      <th>4</th>\n",
       "      <td>300.0</td>\n",
       "      <td>0</td>\n",
       "      <td>0</td>\n",
       "      <td>1</td>\n",
       "      <td>55</td>\n",
       "      <td>1</td>\n",
       "      <td>1</td>\n",
       "    </tr>\n",
       "  </tbody>\n",
       "</table>\n",
       "</div>"
      ],
      "text/plain": [
       "   delta_time  cluster_0  cluster_1  vendor_id  maximum temperature  time_day  \\\n",
       "0      1200.0          0          0          1                   43         1   \n",
       "1       480.0          0          0          1                   85         0   \n",
       "2       480.0          1          0          1                   68         1   \n",
       "3       540.0          0          0          2                   68         1   \n",
       "4       300.0          0          0          1                   55         1   \n",
       "\n",
       "   cluster_2  \n",
       "0          1  \n",
       "1          1  \n",
       "2          0  \n",
       "3          1  \n",
       "4          1  "
      ]
     },
     "execution_count": 247,
     "metadata": {},
     "output_type": "execute_result"
    }
   ],
   "source": [
    "x.head()"
   ]
  },
  {
   "cell_type": "code",
   "execution_count": 248,
   "id": "c9191bbe",
   "metadata": {},
   "outputs": [
    {
     "data": {
      "text/plain": [
       "0    1199\n",
       "1     495\n",
       "2     491\n",
       "3     544\n",
       "4     265\n",
       "Name: trip_duration, dtype: int64"
      ]
     },
     "execution_count": 248,
     "metadata": {},
     "output_type": "execute_result"
    }
   ],
   "source": [
    "y.head()"
   ]
  },
  {
   "cell_type": "code",
   "execution_count": 249,
   "id": "fcb04fc2",
   "metadata": {},
   "outputs": [],
   "source": [
    "reg = LogisticRegression()"
   ]
  },
  {
   "cell_type": "code",
   "execution_count": 250,
   "id": "3728d573",
   "metadata": {},
   "outputs": [
    {
     "data": {
      "text/plain": [
       "(2001, 7)"
      ]
     },
     "execution_count": 250,
     "metadata": {},
     "output_type": "execute_result"
    }
   ],
   "source": [
    "x.shape"
   ]
  },
  {
   "cell_type": "code",
   "execution_count": 251,
   "id": "c5141ed0",
   "metadata": {},
   "outputs": [
    {
     "data": {
      "text/plain": [
       "2001"
      ]
     },
     "execution_count": 251,
     "metadata": {},
     "output_type": "execute_result"
    }
   ],
   "source": [
    "y.size"
   ]
  },
  {
   "cell_type": "code",
   "execution_count": 252,
   "id": "1438f668",
   "metadata": {},
   "outputs": [
    {
     "name": "stderr",
     "output_type": "stream",
     "text": [
      "C:\\ProgramData\\Anaconda3\\lib\\site-packages\\sklearn\\linear_model\\_logistic.py:818: ConvergenceWarning: lbfgs failed to converge (status=1):\n",
      "STOP: TOTAL NO. of ITERATIONS REACHED LIMIT.\n",
      "\n",
      "Increase the number of iterations (max_iter) or scale the data as shown in:\n",
      "    https://scikit-learn.org/stable/modules/preprocessing.html\n",
      "Please also refer to the documentation for alternative solver options:\n",
      "    https://scikit-learn.org/stable/modules/linear_model.html#logistic-regression\n",
      "  extra_warning_msg=_LOGISTIC_SOLVER_CONVERGENCE_MSG,\n"
     ]
    },
    {
     "data": {
      "text/plain": [
       "LogisticRegression()"
      ]
     },
     "execution_count": 252,
     "metadata": {},
     "output_type": "execute_result"
    }
   ],
   "source": [
    "reg.fit(x.loc[:2000], y.loc[:2000])"
   ]
  },
  {
   "cell_type": "markdown",
   "id": "14b5c5dd",
   "metadata": {},
   "source": [
    "## введем свою метрику - среднее значение отклонения времени, такая метрик будет лучше давать понимание о качестве модели в задаче регрессии"
   ]
  },
  {
   "cell_type": "code",
   "execution_count": 344,
   "id": "46d4a83d",
   "metadata": {},
   "outputs": [],
   "source": [
    "def reg_score(x1, x2):\n",
    "    x1 = x1.tolist()\n",
    "    x2 = x2.tolist()\n",
    "    res = []\n",
    "    \n",
    "    for i in range(len(x1)):\n",
    "        res.append(abs(x1[i] - x2[i]))\n",
    "        \n",
    "    res.sort()\n",
    "    return sum(res[500:-500]) / (len(x1) - 200)"
   ]
  },
  {
   "cell_type": "code",
   "execution_count": 345,
   "id": "a401dff4",
   "metadata": {},
   "outputs": [
    {
     "data": {
      "text/plain": [
       "203.0284418734654"
      ]
     },
     "execution_count": 345,
     "metadata": {},
     "output_type": "execute_result"
    }
   ],
   "source": [
    "\n",
    "reg_score(y.loc[:3000], reg.predict(x.loc[:3000]))"
   ]
  },
  {
   "cell_type": "code",
   "execution_count": 346,
   "id": "63ba46ef",
   "metadata": {},
   "outputs": [
    {
     "data": {
      "text/plain": [
       "array([816.07953033, 789.18224576, 885.42024911, 912.83439657,\n",
       "       847.98319312, 866.74100398, 856.0727718 , 663.29309022,\n",
       "       698.53302207, 684.72495927, 926.1486381 , 776.24395278,\n",
       "       880.30782991, 762.44151905, 898.8355244 , 857.34118523,\n",
       "       867.25166421, 658.02912037, 909.53743451, 885.9196512 ,\n",
       "       698.24126832])"
      ]
     },
     "execution_count": 346,
     "metadata": {},
     "output_type": "execute_result"
    }
   ],
   "source": [
    "reg.predict(x.loc[:20])"
   ]
  },
  {
   "cell_type": "code",
   "execution_count": 347,
   "id": "00aef23b",
   "metadata": {},
   "outputs": [
    {
     "data": {
      "text/plain": [
       "0     1199\n",
       "1      495\n",
       "2      491\n",
       "3      544\n",
       "4      265\n",
       "5      300\n",
       "6      436\n",
       "7     1150\n",
       "8      947\n",
       "9      668\n",
       "10     196\n",
       "11     910\n",
       "12     855\n",
       "13    1135\n",
       "14     539\n",
       "15    3797\n",
       "16     914\n",
       "17    1060\n",
       "18     492\n",
       "19     138\n",
       "20    1073\n",
       "Name: trip_duration, dtype: int64"
      ]
     },
     "execution_count": 347,
     "metadata": {},
     "output_type": "execute_result"
    }
   ],
   "source": [
    "y.loc[:20]"
   ]
  },
  {
   "cell_type": "markdown",
   "id": "1489b5b5",
   "metadata": {},
   "source": [
    "## SVR"
   ]
  },
  {
   "cell_type": "code",
   "execution_count": 348,
   "id": "948b8887",
   "metadata": {},
   "outputs": [],
   "source": [
    "from sklearn.svm import SVR\n",
    "from sklearn.pipeline import make_pipeline\n",
    "from sklearn.preprocessing import StandardScaler\n",
    "import numpy as np"
   ]
  },
  {
   "cell_type": "code",
   "execution_count": 349,
   "id": "f2268231",
   "metadata": {},
   "outputs": [
    {
     "data": {
      "text/plain": [
       "Pipeline(steps=[('standardscaler', StandardScaler()),\n",
       "                ('svr', SVR(epsilon=0.2))])"
      ]
     },
     "execution_count": 349,
     "metadata": {},
     "output_type": "execute_result"
    }
   ],
   "source": [
    "regr = make_pipeline(StandardScaler(), SVR(C=1.0, epsilon=0.2))\n",
    "regr.fit(x.loc[:1000], y.loc[:1000])"
   ]
  },
  {
   "cell_type": "code",
   "execution_count": 350,
   "id": "51fbb730",
   "metadata": {},
   "outputs": [
    {
     "data": {
      "text/plain": [
       "0     1199\n",
       "1      495\n",
       "2      491\n",
       "3      544\n",
       "4      265\n",
       "5      300\n",
       "6      436\n",
       "7     1150\n",
       "8      947\n",
       "9      668\n",
       "10     196\n",
       "11     910\n",
       "12     855\n",
       "13    1135\n",
       "14     539\n",
       "15    3797\n",
       "16     914\n",
       "17    1060\n",
       "18     492\n",
       "19     138\n",
       "20    1073\n",
       "Name: trip_duration, dtype: int64"
      ]
     },
     "execution_count": 350,
     "metadata": {},
     "output_type": "execute_result"
    }
   ],
   "source": [
    "y.loc[:20]"
   ]
  },
  {
   "cell_type": "markdown",
   "id": "1a975625",
   "metadata": {},
   "source": [
    "## SGDRegressor - показывает значительно лучший результат, среднее отклонение 22 секунды"
   ]
  },
  {
   "cell_type": "code",
   "execution_count": 423,
   "id": "8e86df0b",
   "metadata": {},
   "outputs": [],
   "source": [
    "from sklearn.linear_model import SGDRegressor\n",
    "from sklearn.pipeline import make_pipeline\n",
    "from sklearn.preprocessing import StandardScaler"
   ]
  },
  {
   "cell_type": "code",
   "execution_count": 430,
   "id": "89555451",
   "metadata": {},
   "outputs": [],
   "source": [
    "reg = make_pipeline(StandardScaler(),\n",
    "                    SGDRegressor(max_iter=10000, tol=1e-3))"
   ]
  },
  {
   "cell_type": "code",
   "execution_count": 431,
   "id": "a3bb75e8",
   "metadata": {},
   "outputs": [
    {
     "data": {
      "text/plain": [
       "Pipeline(steps=[('standardscaler', StandardScaler()),\n",
       "                ('sgdregressor', SGDRegressor(max_iter=10000))])"
      ]
     },
     "execution_count": 431,
     "metadata": {},
     "output_type": "execute_result"
    }
   ],
   "source": [
    "reg.fit(x.loc[:3000], y.loc[:3000])"
   ]
  },
  {
   "cell_type": "code",
   "execution_count": 432,
   "id": "17873a2c",
   "metadata": {},
   "outputs": [
    {
     "data": {
      "text/html": [
       "<div>\n",
       "<style scoped>\n",
       "    .dataframe tbody tr th:only-of-type {\n",
       "        vertical-align: middle;\n",
       "    }\n",
       "\n",
       "    .dataframe tbody tr th {\n",
       "        vertical-align: top;\n",
       "    }\n",
       "\n",
       "    .dataframe thead th {\n",
       "        text-align: right;\n",
       "    }\n",
       "</style>\n",
       "<table border=\"1\" class=\"dataframe\">\n",
       "  <thead>\n",
       "    <tr style=\"text-align: right;\">\n",
       "      <th></th>\n",
       "      <th>delta_time</th>\n",
       "      <th>cluster_0</th>\n",
       "      <th>cluster_1</th>\n",
       "      <th>vendor_id</th>\n",
       "      <th>maximum temperature</th>\n",
       "      <th>time_day</th>\n",
       "      <th>cluster_2</th>\n",
       "    </tr>\n",
       "  </thead>\n",
       "  <tbody>\n",
       "    <tr>\n",
       "      <th>0</th>\n",
       "      <td>1200.0</td>\n",
       "      <td>0</td>\n",
       "      <td>0</td>\n",
       "      <td>1</td>\n",
       "      <td>43</td>\n",
       "      <td>1</td>\n",
       "      <td>1</td>\n",
       "    </tr>\n",
       "    <tr>\n",
       "      <th>1</th>\n",
       "      <td>480.0</td>\n",
       "      <td>0</td>\n",
       "      <td>0</td>\n",
       "      <td>1</td>\n",
       "      <td>85</td>\n",
       "      <td>0</td>\n",
       "      <td>1</td>\n",
       "    </tr>\n",
       "    <tr>\n",
       "      <th>2</th>\n",
       "      <td>480.0</td>\n",
       "      <td>1</td>\n",
       "      <td>0</td>\n",
       "      <td>1</td>\n",
       "      <td>68</td>\n",
       "      <td>1</td>\n",
       "      <td>0</td>\n",
       "    </tr>\n",
       "    <tr>\n",
       "      <th>3</th>\n",
       "      <td>540.0</td>\n",
       "      <td>0</td>\n",
       "      <td>0</td>\n",
       "      <td>2</td>\n",
       "      <td>68</td>\n",
       "      <td>1</td>\n",
       "      <td>1</td>\n",
       "    </tr>\n",
       "    <tr>\n",
       "      <th>4</th>\n",
       "      <td>300.0</td>\n",
       "      <td>0</td>\n",
       "      <td>0</td>\n",
       "      <td>1</td>\n",
       "      <td>55</td>\n",
       "      <td>1</td>\n",
       "      <td>1</td>\n",
       "    </tr>\n",
       "  </tbody>\n",
       "</table>\n",
       "</div>"
      ],
      "text/plain": [
       "   delta_time  cluster_0  cluster_1  vendor_id  maximum temperature  time_day  \\\n",
       "0      1200.0          0          0          1                   43         1   \n",
       "1       480.0          0          0          1                   85         0   \n",
       "2       480.0          1          0          1                   68         1   \n",
       "3       540.0          0          0          2                   68         1   \n",
       "4       300.0          0          0          1                   55         1   \n",
       "\n",
       "   cluster_2  \n",
       "0          1  \n",
       "1          1  \n",
       "2          0  \n",
       "3          1  \n",
       "4          1  "
      ]
     },
     "execution_count": 432,
     "metadata": {},
     "output_type": "execute_result"
    }
   ],
   "source": [
    "x.head()"
   ]
  },
  {
   "cell_type": "code",
   "execution_count": 433,
   "id": "78900893",
   "metadata": {},
   "outputs": [
    {
     "data": {
      "text/plain": [
       "0    1199\n",
       "1     495\n",
       "2     491\n",
       "3     544\n",
       "4     265\n",
       "Name: trip_duration, dtype: int64"
      ]
     },
     "execution_count": 433,
     "metadata": {},
     "output_type": "execute_result"
    }
   ],
   "source": [
    "y.head()"
   ]
  },
  {
   "cell_type": "code",
   "execution_count": 434,
   "id": "4f725999",
   "metadata": {},
   "outputs": [
    {
     "data": {
      "text/plain": [
       "73.7305580708146"
      ]
     },
     "execution_count": 434,
     "metadata": {},
     "output_type": "execute_result"
    }
   ],
   "source": [
    "reg_score(y.loc[:1200], reg.predict(x.loc[:1200]))"
   ]
  },
  {
   "cell_type": "code",
   "execution_count": 435,
   "id": "1eada976",
   "metadata": {},
   "outputs": [
    {
     "data": {
      "text/plain": [
       "array([ 0.00048657,  0.25118112,  0.10452243,  0.16668209,  0.08656989,\n",
       "        0.10687981,  0.20307205,  0.00231549,  0.0087108 , -0.03307198])"
      ]
     },
     "execution_count": 435,
     "metadata": {},
     "output_type": "execute_result"
    }
   ],
   "source": [
    "cross_val_score(reg, x, y, cv=10)"
   ]
  },
  {
   "cell_type": "markdown",
   "id": "b710ffa7",
   "metadata": {},
   "source": [
    "### посмотрим на предсказания"
   ]
  },
  {
   "cell_type": "code",
   "execution_count": 391,
   "id": "b4b97930",
   "metadata": {},
   "outputs": [
    {
     "data": {
      "text/plain": [
       "array([791.64188921, 769.44246205, 888.15955516, 904.26819245,\n",
       "       821.22929081, 838.62805837, 828.7337169 , 684.88239189,\n",
       "       740.45287597, 672.55428276, 916.61619787, 812.53348444,\n",
       "       851.21512087, 776.84730615, 900.60318341, 885.01741304,\n",
       "       894.19458329, 647.79452336, 910.52939917, 879.30125025])"
      ]
     },
     "execution_count": 391,
     "metadata": {},
     "output_type": "execute_result"
    }
   ],
   "source": [
    "reg.predict(x.iloc[:20])"
   ]
  },
  {
   "cell_type": "code",
   "execution_count": 392,
   "id": "5abf1f6e",
   "metadata": {},
   "outputs": [
    {
     "data": {
      "text/plain": [
       "0     1199\n",
       "1      495\n",
       "2      491\n",
       "3      544\n",
       "4      265\n",
       "5      300\n",
       "6      436\n",
       "7     1150\n",
       "8      947\n",
       "9      668\n",
       "10     196\n",
       "11     910\n",
       "12     855\n",
       "13    1135\n",
       "14     539\n",
       "15    3797\n",
       "16     914\n",
       "17    1060\n",
       "18     492\n",
       "19     138\n",
       "20    1073\n",
       "Name: trip_duration, dtype: int64"
      ]
     },
     "execution_count": 392,
     "metadata": {},
     "output_type": "execute_result"
    }
   ],
   "source": [
    "y.loc[:20]"
   ]
  },
  {
   "cell_type": "markdown",
   "id": "d989ee2b",
   "metadata": {},
   "source": [
    "## попробуем обучить на датасете без большинства сгенерированных фич "
   ]
  },
  {
   "cell_type": "code",
   "execution_count": 393,
   "id": "ace5c85b",
   "metadata": {},
   "outputs": [],
   "source": [
    "new_x = train_x.drop([\"delta_time\", \"cluster_0\", \"cluster_1\", \"cluster_2\", \"distance\"], axis=1)\n",
    "new_y = train_y"
   ]
  },
  {
   "cell_type": "code",
   "execution_count": 394,
   "id": "cc382d5e",
   "metadata": {},
   "outputs": [
    {
     "data": {
      "text/html": [
       "<div>\n",
       "<style scoped>\n",
       "    .dataframe tbody tr th:only-of-type {\n",
       "        vertical-align: middle;\n",
       "    }\n",
       "\n",
       "    .dataframe tbody tr th {\n",
       "        vertical-align: top;\n",
       "    }\n",
       "\n",
       "    .dataframe thead th {\n",
       "        text-align: right;\n",
       "    }\n",
       "</style>\n",
       "<table border=\"1\" class=\"dataframe\">\n",
       "  <thead>\n",
       "    <tr style=\"text-align: right;\">\n",
       "      <th></th>\n",
       "      <th>vendor_id</th>\n",
       "      <th>passenger_count</th>\n",
       "      <th>pickup_longitude</th>\n",
       "      <th>pickup_latitude</th>\n",
       "      <th>dropoff_longitude</th>\n",
       "      <th>dropoff_latitude</th>\n",
       "      <th>store_and_fwd_flag</th>\n",
       "      <th>maximum temperature</th>\n",
       "      <th>minimum temperature</th>\n",
       "      <th>average temperature</th>\n",
       "      <th>precipitation</th>\n",
       "      <th>snow depth</th>\n",
       "      <th>time_day</th>\n",
       "      <th>hour</th>\n",
       "      <th>minute</th>\n",
       "    </tr>\n",
       "  </thead>\n",
       "  <tbody>\n",
       "    <tr>\n",
       "      <th>0</th>\n",
       "      <td>1</td>\n",
       "      <td>4</td>\n",
       "      <td>-73.964386</td>\n",
       "      <td>40.763969</td>\n",
       "      <td>-73.983047</td>\n",
       "      <td>40.750401</td>\n",
       "      <td>0</td>\n",
       "      <td>43</td>\n",
       "      <td>26</td>\n",
       "      <td>34.5</td>\n",
       "      <td>0.00</td>\n",
       "      <td>0.0</td>\n",
       "      <td>1</td>\n",
       "      <td>17</td>\n",
       "      <td>8</td>\n",
       "    </tr>\n",
       "    <tr>\n",
       "      <th>1</th>\n",
       "      <td>1</td>\n",
       "      <td>1</td>\n",
       "      <td>-73.980789</td>\n",
       "      <td>40.779846</td>\n",
       "      <td>-73.973434</td>\n",
       "      <td>40.760551</td>\n",
       "      <td>0</td>\n",
       "      <td>85</td>\n",
       "      <td>62</td>\n",
       "      <td>73.5</td>\n",
       "      <td>0.00</td>\n",
       "      <td>0.0</td>\n",
       "      <td>0</td>\n",
       "      <td>6</td>\n",
       "      <td>11</td>\n",
       "    </tr>\n",
       "    <tr>\n",
       "      <th>2</th>\n",
       "      <td>1</td>\n",
       "      <td>1</td>\n",
       "      <td>-74.004219</td>\n",
       "      <td>40.742290</td>\n",
       "      <td>-73.982491</td>\n",
       "      <td>40.747566</td>\n",
       "      <td>0</td>\n",
       "      <td>68</td>\n",
       "      <td>47</td>\n",
       "      <td>57.5</td>\n",
       "      <td>0.00</td>\n",
       "      <td>0.0</td>\n",
       "      <td>1</td>\n",
       "      <td>18</td>\n",
       "      <td>32</td>\n",
       "    </tr>\n",
       "    <tr>\n",
       "      <th>3</th>\n",
       "      <td>2</td>\n",
       "      <td>1</td>\n",
       "      <td>-73.917969</td>\n",
       "      <td>40.815971</td>\n",
       "      <td>-73.920593</td>\n",
       "      <td>40.808239</td>\n",
       "      <td>0</td>\n",
       "      <td>68</td>\n",
       "      <td>48</td>\n",
       "      <td>58.0</td>\n",
       "      <td>0.06</td>\n",
       "      <td>0.0</td>\n",
       "      <td>1</td>\n",
       "      <td>18</td>\n",
       "      <td>19</td>\n",
       "    </tr>\n",
       "    <tr>\n",
       "      <th>4</th>\n",
       "      <td>1</td>\n",
       "      <td>1</td>\n",
       "      <td>-73.954742</td>\n",
       "      <td>40.799248</td>\n",
       "      <td>-73.968132</td>\n",
       "      <td>40.800392</td>\n",
       "      <td>0</td>\n",
       "      <td>55</td>\n",
       "      <td>44</td>\n",
       "      <td>49.5</td>\n",
       "      <td>0.03</td>\n",
       "      <td>0.0</td>\n",
       "      <td>1</td>\n",
       "      <td>11</td>\n",
       "      <td>5</td>\n",
       "    </tr>\n",
       "  </tbody>\n",
       "</table>\n",
       "</div>"
      ],
      "text/plain": [
       "   vendor_id  passenger_count  pickup_longitude  pickup_latitude  \\\n",
       "0          1                4        -73.964386        40.763969   \n",
       "1          1                1        -73.980789        40.779846   \n",
       "2          1                1        -74.004219        40.742290   \n",
       "3          2                1        -73.917969        40.815971   \n",
       "4          1                1        -73.954742        40.799248   \n",
       "\n",
       "   dropoff_longitude  dropoff_latitude  store_and_fwd_flag  \\\n",
       "0         -73.983047         40.750401                   0   \n",
       "1         -73.973434         40.760551                   0   \n",
       "2         -73.982491         40.747566                   0   \n",
       "3         -73.920593         40.808239                   0   \n",
       "4         -73.968132         40.800392                   0   \n",
       "\n",
       "   maximum temperature  minimum temperature  average temperature  \\\n",
       "0                   43                   26                 34.5   \n",
       "1                   85                   62                 73.5   \n",
       "2                   68                   47                 57.5   \n",
       "3                   68                   48                 58.0   \n",
       "4                   55                   44                 49.5   \n",
       "\n",
       "   precipitation  snow depth  time_day  hour  minute  \n",
       "0           0.00         0.0         1    17       8  \n",
       "1           0.00         0.0         0     6      11  \n",
       "2           0.00         0.0         1    18      32  \n",
       "3           0.06         0.0         1    18      19  \n",
       "4           0.03         0.0         1    11       5  "
      ]
     },
     "execution_count": 394,
     "metadata": {},
     "output_type": "execute_result"
    }
   ],
   "source": [
    "new_x.head()"
   ]
  },
  {
   "cell_type": "code",
   "execution_count": 395,
   "id": "9d079333",
   "metadata": {},
   "outputs": [
    {
     "data": {
      "text/plain": [
       "0    1199\n",
       "1     495\n",
       "2     491\n",
       "3     544\n",
       "4     265\n",
       "Name: trip_duration, dtype: int64"
      ]
     },
     "execution_count": 395,
     "metadata": {},
     "output_type": "execute_result"
    }
   ],
   "source": [
    "new_y.head()"
   ]
  },
  {
   "cell_type": "code",
   "execution_count": 396,
   "id": "4eb98013",
   "metadata": {},
   "outputs": [
    {
     "data": {
      "text/plain": [
       "Pipeline(steps=[('standardscaler', StandardScaler()),\n",
       "                ('sgdregressor', SGDRegressor(max_iter=10000, tol=0.01))])"
      ]
     },
     "execution_count": 396,
     "metadata": {},
     "output_type": "execute_result"
    }
   ],
   "source": [
    "reg.fit(new_x.loc[:2000], new_y.loc[:2000])"
   ]
  },
  {
   "cell_type": "code",
   "execution_count": 400,
   "id": "c220f3bc",
   "metadata": {},
   "outputs": [
    {
     "data": {
      "text/plain": [
       "0.0"
      ]
     },
     "execution_count": 400,
     "metadata": {},
     "output_type": "execute_result"
    }
   ],
   "source": [
    "reg_score(reg.predict(new_x.iloc[:1000]), new_y.iloc[:1000])"
   ]
  },
  {
   "cell_type": "code",
   "execution_count": 398,
   "id": "8019fd2d",
   "metadata": {},
   "outputs": [
    {
     "data": {
      "text/html": [
       "<div>\n",
       "<style scoped>\n",
       "    .dataframe tbody tr th:only-of-type {\n",
       "        vertical-align: middle;\n",
       "    }\n",
       "\n",
       "    .dataframe tbody tr th {\n",
       "        vertical-align: top;\n",
       "    }\n",
       "\n",
       "    .dataframe thead th {\n",
       "        text-align: right;\n",
       "    }\n",
       "</style>\n",
       "<table border=\"1\" class=\"dataframe\">\n",
       "  <thead>\n",
       "    <tr style=\"text-align: right;\">\n",
       "      <th></th>\n",
       "    </tr>\n",
       "  </thead>\n",
       "  <tbody>\n",
       "    <tr>\n",
       "      <th>0</th>\n",
       "    </tr>\n",
       "    <tr>\n",
       "      <th>1</th>\n",
       "    </tr>\n",
       "    <tr>\n",
       "      <th>2</th>\n",
       "    </tr>\n",
       "    <tr>\n",
       "      <th>3</th>\n",
       "    </tr>\n",
       "    <tr>\n",
       "      <th>4</th>\n",
       "    </tr>\n",
       "    <tr>\n",
       "      <th>...</th>\n",
       "    </tr>\n",
       "    <tr>\n",
       "      <th>1996</th>\n",
       "    </tr>\n",
       "    <tr>\n",
       "      <th>1997</th>\n",
       "    </tr>\n",
       "    <tr>\n",
       "      <th>1998</th>\n",
       "    </tr>\n",
       "    <tr>\n",
       "      <th>1999</th>\n",
       "    </tr>\n",
       "    <tr>\n",
       "      <th>2000</th>\n",
       "    </tr>\n",
       "  </tbody>\n",
       "</table>\n",
       "<p>2001 rows × 0 columns</p>\n",
       "</div>"
      ],
      "text/plain": [
       "Empty DataFrame\n",
       "Columns: []\n",
       "Index: [0, 1, 2, 3, 4, 5, 6, 7, 8, 9, 10, 11, 12, 13, 14, 15, 16, 17, 18, 19, 20, 21, 22, 23, 24, 25, 26, 27, 28, 29, 30, 31, 32, 33, 34, 35, 36, 37, 38, 39, 40, 41, 42, 43, 44, 45, 46, 47, 48, 49, 50, 51, 52, 53, 54, 55, 56, 57, 58, 59, 60, 61, 62, 63, 64, 65, 66, 67, 68, 69, 70, 71, 72, 73, 74, 75, 76, 77, 78, 79, 80, 81, 82, 83, 84, 85, 86, 87, 88, 89, 90, 91, 92, 93, 94, 95, 96, 97, 98, 99, ...]\n",
       "\n",
       "[2001 rows x 0 columns]"
      ]
     },
     "execution_count": 398,
     "metadata": {},
     "output_type": "execute_result"
    }
   ],
   "source": [
    "new_x.iloc[:, 2000:3000]"
   ]
  },
  {
   "cell_type": "code",
   "execution_count": 412,
   "id": "4f4e19da",
   "metadata": {},
   "outputs": [
    {
     "data": {
      "text/plain": [
       "array([-9.73831087e-05,  3.30588780e-01,  2.75242188e-01,  2.19069067e-01,\n",
       "        1.89976285e-01,  1.21818779e-01,  1.93740047e-01,  2.00780334e-01,\n",
       "        1.61143966e-01,  1.12519526e-02])"
      ]
     },
     "execution_count": 412,
     "metadata": {},
     "output_type": "execute_result"
    }
   ],
   "source": [
    "cross_val_score(reg, new_x, new_y, cv=10)"
   ]
  },
  {
   "cell_type": "markdown",
   "id": "465c78bc",
   "metadata": {},
   "source": [
    "## без сгенерированных фич точность очень низкая"
   ]
  },
  {
   "cell_type": "markdown",
   "id": "dc4a06d7",
   "metadata": {},
   "source": [
    "## DecisionTreeRegressor"
   ]
  },
  {
   "cell_type": "code",
   "execution_count": 413,
   "id": "3194f6ed",
   "metadata": {},
   "outputs": [],
   "source": [
    "from sklearn.tree import DecisionTreeRegressor\n",
    "from sklearn.model_selection import cross_val_score"
   ]
  },
  {
   "cell_type": "code",
   "execution_count": 414,
   "id": "2a209a52",
   "metadata": {},
   "outputs": [],
   "source": [
    "regressor = DecisionTreeRegressor(random_state=0)"
   ]
  },
  {
   "cell_type": "code",
   "execution_count": 415,
   "id": "3ef4ace0",
   "metadata": {},
   "outputs": [
    {
     "data": {
      "text/plain": [
       "array([0.99627846, 0.99107044, 0.9966012 , 0.99738939, 0.99617743,\n",
       "       0.99669593, 0.99725327, 0.99498595, 0.99638802, 0.93918895])"
      ]
     },
     "execution_count": 415,
     "metadata": {},
     "output_type": "execute_result"
    }
   ],
   "source": [
    "cross_val_score(regressor, x, y, cv=10)"
   ]
  },
  {
   "cell_type": "markdown",
   "id": "815ca931",
   "metadata": {},
   "source": []
  },
  {
   "cell_type": "markdown",
   "id": "2df7455e",
   "metadata": {},
   "source": [
    "regr = make_pipeline(StandardScaler(), SVR(C=1.0, epsilon=0.2))\n",
    "regr.fit(x, y)"
   ]
  },
  {
   "cell_type": "code",
   "execution_count": 437,
   "id": "ab819847",
   "metadata": {},
   "outputs": [
    {
     "data": {
      "text/plain": [
       "array([-0.09818918, -0.06042554, -0.05039526, -0.03596143, -0.06214716,\n",
       "       -0.04954339, -0.05347568, -0.07771117, -0.05776315, -0.05298383])"
      ]
     },
     "execution_count": 437,
     "metadata": {},
     "output_type": "execute_result"
    }
   ],
   "source": [
    "cross_val_score(regr, x, y, cv=10)"
   ]
  },
  {
   "cell_type": "markdown",
   "id": "df4da075",
   "metadata": {},
   "source": [
    "## Random Forest"
   ]
  },
  {
   "cell_type": "code",
   "execution_count": 438,
   "id": "e46fca55",
   "metadata": {},
   "outputs": [],
   "source": [
    "from sklearn.ensemble import RandomForestRegressor\n",
    "from sklearn.datasets import make_regression"
   ]
  },
  {
   "cell_type": "code",
   "execution_count": 439,
   "id": "224ea9d5",
   "metadata": {},
   "outputs": [],
   "source": [
    "reg = RandomForestRegressor(max_depth=5, random_state=0)"
   ]
  },
  {
   "cell_type": "code",
   "execution_count": 440,
   "id": "0a9cee59",
   "metadata": {},
   "outputs": [
    {
     "data": {
      "text/plain": [
       "array([0.99766447, 0.99063456, 0.99789998, 0.99382483, 0.99730441,\n",
       "       0.99788059, 0.9984774 , 0.98231496, 0.99739123, 0.94662634])"
      ]
     },
     "execution_count": 440,
     "metadata": {},
     "output_type": "execute_result"
    }
   ],
   "source": [
    "cross_val_score(reg, x, y, cv=10)"
   ]
  },
  {
   "cell_type": "markdown",
   "id": "d28e0ea9",
   "metadata": {},
   "source": [
    "## по итогу проведенного анализа RandomForestRegressor показал лучшую точность по сравнению с другими алгоритмами"
   ]
  },
  {
   "cell_type": "markdown",
   "id": "a3d3ac62",
   "metadata": {},
   "source": [
    "## протестриуем ее на большем наборе данных"
   ]
  },
  {
   "cell_type": "code",
   "execution_count": 444,
   "id": "250356fb",
   "metadata": {},
   "outputs": [
    {
     "data": {
      "text/plain": [
       "array([0.99419304, 0.99594867, 0.99267481, 0.98932729, 0.99399529,\n",
       "       0.990006  , 0.9968496 , 0.99487537, 0.99086394, 0.93552367])"
      ]
     },
     "execution_count": 444,
     "metadata": {},
     "output_type": "execute_result"
    }
   ],
   "source": [
    "cross_val_score(regressor, test_x, test_y, cv=10)"
   ]
  },
  {
   "cell_type": "markdown",
   "id": "9b53a921",
   "metadata": {},
   "source": [
    "оптимизация гиперпараметров"
   ]
  },
  {
   "cell_type": "code",
   "execution_count": 455,
   "id": "a0134046",
   "metadata": {},
   "outputs": [],
   "source": [
    "tmp=df.take(np.random.permutation(len(df))[:10000])\n",
    "tmp = tmp.reset_index().drop(\"index\", axis=1)\n",
    "train_x = tmp.drop(\"trip_duration\", axis=1).loc[:10000]\n",
    "train_y = tmp[\"trip_duration\"].loc[:10000]\n",
    "\n"
   ]
  },
  {
   "cell_type": "code",
   "execution_count": 456,
   "id": "862bfc35",
   "metadata": {},
   "outputs": [],
   "source": [
    "from sklearn.model_selection import RandomizedSearchCV\n",
    "reg = RandomForestRegressor(random_state=0)\n",
    "params = {\n",
    "    \"max_depth\":range(1, 10, 3),\n",
    "    \"n_estimators\":range(50, 300, 100), \n",
    "    \"criterion\":[\"squared_error\", \"poisson\"],\n",
    "}\n",
    "clf = RandomizedSearchCV(reg, params)"
   ]
  },
  {
   "cell_type": "code",
   "execution_count": 457,
   "id": "3756d880",
   "metadata": {},
   "outputs": [],
   "source": [
    "search = clf.fit(train_x, train_y)"
   ]
  },
  {
   "cell_type": "code",
   "execution_count": 459,
   "id": "c61ef6a4",
   "metadata": {},
   "outputs": [
    {
     "data": {
      "text/plain": [
       "{'n_estimators': 250, 'max_depth': 7, 'criterion': 'squared_error'}"
      ]
     },
     "execution_count": 459,
     "metadata": {},
     "output_type": "execute_result"
    }
   ],
   "source": [
    "search.best_params_"
   ]
  },
  {
   "cell_type": "code",
   "execution_count": 461,
   "id": "4ded413c",
   "metadata": {},
   "outputs": [],
   "source": [
    "best_model = search.best_estimator_"
   ]
  },
  {
   "cell_type": "code",
   "execution_count": 462,
   "id": "18896c70",
   "metadata": {},
   "outputs": [],
   "source": [
    "import pickle"
   ]
  },
  {
   "cell_type": "code",
   "execution_count": 464,
   "id": "18675787",
   "metadata": {},
   "outputs": [],
   "source": [
    "with open(\"best_model22.pickle\", \"wb\") as f:\n",
    "    pickle.dump(best_model, f)"
   ]
  },
  {
   "cell_type": "code",
   "execution_count": 470,
   "id": "b44519e6",
   "metadata": {},
   "outputs": [
    {
     "ename": "TypeError",
     "evalue": "validation_curve() takes 3 positional arguments but 5 positional arguments (and 1 keyword-only argument) were given",
     "output_type": "error",
     "traceback": [
      "\u001b[1;31m---------------------------------------------------------------------------\u001b[0m",
      "\u001b[1;31mTypeError\u001b[0m                                 Traceback (most recent call last)",
      "\u001b[1;32m~\\AppData\\Local\\Temp/ipykernel_13208/1776424826.py\u001b[0m in \u001b[0;36m<module>\u001b[1;34m\u001b[0m\n\u001b[0;32m      1\u001b[0m \u001b[1;32mfrom\u001b[0m \u001b[0msklearn\u001b[0m\u001b[1;33m.\u001b[0m\u001b[0mmodel_selection\u001b[0m \u001b[1;32mimport\u001b[0m \u001b[0mvalidation_curve\u001b[0m\u001b[1;33m\u001b[0m\u001b[1;33m\u001b[0m\u001b[0m\n\u001b[1;32m----> 2\u001b[1;33m \u001b[0mtrain_scores\u001b[0m\u001b[1;33m,\u001b[0m \u001b[0mvalid_scores\u001b[0m \u001b[1;33m=\u001b[0m \u001b[0mvalidation_curve\u001b[0m\u001b[1;33m(\u001b[0m\u001b[0mbest_model\u001b[0m\u001b[1;33m,\u001b[0m \u001b[0mx\u001b[0m\u001b[1;33m,\u001b[0m \u001b[0my\u001b[0m\u001b[1;33m,\u001b[0m \u001b[1;34m\"alpha\"\u001b[0m\u001b[1;33m,\u001b[0m \u001b[0mnp\u001b[0m\u001b[1;33m.\u001b[0m\u001b[0mlogspace\u001b[0m\u001b[1;33m(\u001b[0m\u001b[1;33m-\u001b[0m\u001b[1;36m7\u001b[0m\u001b[1;33m,\u001b[0m \u001b[1;36m3\u001b[0m\u001b[1;33m,\u001b[0m \u001b[1;36m3\u001b[0m\u001b[1;33m)\u001b[0m\u001b[1;33m,\u001b[0m \u001b[0mcv\u001b[0m\u001b[1;33m=\u001b[0m\u001b[1;36m5\u001b[0m\u001b[1;33m)\u001b[0m\u001b[1;33m\u001b[0m\u001b[1;33m\u001b[0m\u001b[0m\n\u001b[0m",
      "\u001b[1;31mTypeError\u001b[0m: validation_curve() takes 3 positional arguments but 5 positional arguments (and 1 keyword-only argument) were given"
     ]
    }
   ],
   "source": [
    "from sklearn.model_selection import validation_curve\n",
    "train_scores, valid_scores = validation_curve(best_model, x, y, \"alpha\", np.logspace(-7, 3, 3), cv=5)"
   ]
  },
  {
   "cell_type": "code",
   "execution_count": 481,
   "id": "a0fb0d8a",
   "metadata": {},
   "outputs": [],
   "source": [
    "train_scores, valid_scores = validation_curve(\n",
    "...     RandomForestRegressor(), x, y, param_name=\"max_depth\", param_range=np.logspace(1, 7, 3),\n",
    "...     cv=5)"
   ]
  },
  {
   "cell_type": "code",
   "execution_count": 482,
   "id": "54060f10",
   "metadata": {},
   "outputs": [],
   "source": [
    "import matplotlib.pyplot as plt\n"
   ]
  },
  {
   "cell_type": "markdown",
   "id": "e73a208c",
   "metadata": {},
   "source": [
    "Validate curve"
   ]
  },
  {
   "cell_type": "code",
   "execution_count": 484,
   "id": "b61b045a",
   "metadata": {},
   "outputs": [
    {
     "data": {
      "text/plain": [
       "[<matplotlib.lines.Line2D at 0x20b59550dc8>,\n",
       " <matplotlib.lines.Line2D at 0x20b597e4a48>,\n",
       " <matplotlib.lines.Line2D at 0x20b55443848>,\n",
       " <matplotlib.lines.Line2D at 0x20b55443748>,\n",
       " <matplotlib.lines.Line2D at 0x20b326a6248>]"
      ]
     },
     "execution_count": 484,
     "metadata": {},
     "output_type": "execute_result"
    },
    {
     "data": {
      "image/png": "[encoded data removed]",
      "text/plain": [
       "<Figure size 432x288 with 1 Axes>"
      ]
     },
     "metadata": {
      "needs_background": "light"
     },
     "output_type": "display_data"
    }
   ],
   "source": [
    "plt.plot(train_scores, valid_scores)"
   ]
  },
  {
   "cell_type": "code",
   "execution_count": 486,
   "id": "7cc87294",
   "metadata": {},
   "outputs": [],
   "source": [
    "from sklearn.model_selection import learning_curve\n",
    "train_sizes, train_scores, valid_scores = learning_curve(\n",
    "     RandomForestRegressor(), x, y, train_sizes=[50, 80, 110], cv=5)"
   ]
  },
  {
   "cell_type": "code",
   "execution_count": 487,
   "id": "6bdf3555",
   "metadata": {},
   "outputs": [
    {
     "data": {
      "text/plain": [
       "[<matplotlib.lines.Line2D at 0x20b5818e848>,\n",
       " <matplotlib.lines.Line2D at 0x20b319e2a48>,\n",
       " <matplotlib.lines.Line2D at 0x20b5818ecc8>,\n",
       " <matplotlib.lines.Line2D at 0x20b5818eec8>,\n",
       " <matplotlib.lines.Line2D at 0x20b5817f0c8>]"
      ]
     },
     "execution_count": 487,
     "metadata": {},
     "output_type": "execute_result"
    },
    {
     "data": {
      "image/png": "[encoded data removed]",
      "text/plain": [
       "<Figure size 432x288 with 1 Axes>"
      ]
     },
     "metadata": {
      "needs_background": "light"
     },
     "output_type": "display_data"
    }
   ],
   "source": [
    "plt.plot(train_sizes, train_scores)"
   ]
  },
  {
   "cell_type": "markdown",
   "id": "f98456a6",
   "metadata": {},
   "source": [
    "## отчет"
   ]
  },
  {
   "cell_type": "markdown",
   "id": "aea62ae0",
   "metadata": {},
   "source": [
    "в ходе выполненной работы была использована кросс валидация, разбиьа выборка, оптимизирвованы все параметры модели, подобрана и сохранена лучшая модель, построенкривые валидации и обучения\n",
    "проанализировано больше 6 рмоделей с различнвми архитектурами\n",
    "выявлена польза сгенерированных фич\n",
    "выполнена точная оценка работы алгоритма\n",
    "азработана дополнительная метрика оценки работы алгоритма"
   ]
  },
  {
   "cell_type": "markdown",
   "id": "8cee56da",
   "metadata": {},
   "source": [
    "для оптимизации был использован рандомизированный поиск лучших параметров"
   ]
  },
  {
   "cell_type": "code",
   "execution_count": null,
   "id": "1ba0a350",
   "metadata": {},
   "outputs": [],
   "source": []
  }
 ],
 "metadata": {
  "kernelspec": {
   "display_name": "Python 3 (ipykernel)",
   "language": "python",
   "name": "python3"
  },
  "language_info": {
   "codemirror_mode": {
    "name": "ipython",
    "version": 3
   },
   "file_extension": ".py",
   "mimetype": "text/x-python",
   "name": "python",
   "nbconvert_exporter": "python",
   "pygments_lexer": "ipython3",
   "version": "3.7.11"
  }
 },
 "nbformat": 4,
 "nbformat_minor": 5
}
