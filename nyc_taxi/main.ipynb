{
 "cells": [
  {
   "cell_type": "markdown",
   "metadata": {},
   "source": [
    "# Libs"
   ]
  },
  {
   "cell_type": "code",
   "execution_count": 1,
   "metadata": {},
   "outputs": [],
   "source": [
    "import pandas as pd\n",
    "import numpy as np"
   ]
  },
  {
   "cell_type": "code",
   "execution_count": 2,
   "metadata": {},
   "outputs": [],
   "source": [
    "from pandas.tseries.holiday import USFederalHolidayCalendar, Holiday\n",
    "from pandas import Timestamp"
   ]
  },
  {
   "cell_type": "code",
   "execution_count": 3,
   "metadata": {},
   "outputs": [],
   "source": [
    "from workalendar.usa import UnitedStates"
   ]
  },
  {
   "cell_type": "code",
   "execution_count": 4,
   "metadata": {},
   "outputs": [],
   "source": [
    "from tqdm import tqdm"
   ]
  },
  {
   "cell_type": "code",
   "execution_count": 5,
   "metadata": {},
   "outputs": [],
   "source": [
    "import seaborn as sns\n",
    "import matplotlib.pyplot as plt\n",
    "from matplotlib.colors import LinearSegmentedColormap"
   ]
  },
  {
   "cell_type": "code",
   "execution_count": 6,
   "metadata": {},
   "outputs": [],
   "source": [
    "import cpi"
   ]
  },
  {
   "cell_type": "code",
   "execution_count": 7,
   "metadata": {},
   "outputs": [],
   "source": [
    "from geopy.distance import geodesic"
   ]
  },
  {
   "cell_type": "code",
   "execution_count": 8,
   "metadata": {},
   "outputs": [],
   "source": [
    "tqdm.pandas()"
   ]
  },
  {
   "cell_type": "code",
   "execution_count": 9,
   "metadata": {},
   "outputs": [],
   "source": [
    "from sklearn.model_selection import train_test_split"
   ]
  },
  {
   "cell_type": "code",
   "execution_count": 10,
   "metadata": {},
   "outputs": [],
   "source": [
    "from catboost import CatBoostRegressor"
   ]
  },
  {
   "cell_type": "code",
   "execution_count": 11,
   "metadata": {},
   "outputs": [],
   "source": [
    "from sklearn.cluster import KMeans"
   ]
  },
  {
   "cell_type": "markdown",
   "metadata": {},
   "source": [
    "# Data preprocessing"
   ]
  },
  {
   "cell_type": "code",
   "execution_count": 12,
   "metadata": {},
   "outputs": [
    {
     "data": {
      "text/html": [
       "<div>\n",
       "<style scoped>\n",
       "    .dataframe tbody tr th:only-of-type {\n",
       "        vertical-align: middle;\n",
       "    }\n",
       "\n",
       "    .dataframe tbody tr th {\n",
       "        vertical-align: top;\n",
       "    }\n",
       "\n",
       "    .dataframe thead th {\n",
       "        text-align: right;\n",
       "    }\n",
       "</style>\n",
       "<table border=\"1\" class=\"dataframe\">\n",
       "  <thead>\n",
       "    <tr style=\"text-align: right;\">\n",
       "      <th></th>\n",
       "      <th>key</th>\n",
       "      <th>fare_amount</th>\n",
       "      <th>pickup_datetime</th>\n",
       "      <th>pickup_longitude</th>\n",
       "      <th>pickup_latitude</th>\n",
       "      <th>dropoff_longitude</th>\n",
       "      <th>dropoff_latitude</th>\n",
       "      <th>passenger_count</th>\n",
       "    </tr>\n",
       "  </thead>\n",
       "  <tbody>\n",
       "    <tr>\n",
       "      <th>0</th>\n",
       "      <td>2009-06-15 17:26:21.0000001</td>\n",
       "      <td>4.5</td>\n",
       "      <td>2009-06-15 17:26:21 UTC</td>\n",
       "      <td>-73.844311</td>\n",
       "      <td>40.721319</td>\n",
       "      <td>-73.841610</td>\n",
       "      <td>40.712278</td>\n",
       "      <td>1</td>\n",
       "    </tr>\n",
       "    <tr>\n",
       "      <th>1</th>\n",
       "      <td>2010-01-05 16:52:16.0000002</td>\n",
       "      <td>16.9</td>\n",
       "      <td>2010-01-05 16:52:16 UTC</td>\n",
       "      <td>-74.016048</td>\n",
       "      <td>40.711303</td>\n",
       "      <td>-73.979268</td>\n",
       "      <td>40.782004</td>\n",
       "      <td>1</td>\n",
       "    </tr>\n",
       "    <tr>\n",
       "      <th>2</th>\n",
       "      <td>2011-08-18 00:35:00.00000049</td>\n",
       "      <td>5.7</td>\n",
       "      <td>2011-08-18 00:35:00 UTC</td>\n",
       "      <td>-73.982738</td>\n",
       "      <td>40.761270</td>\n",
       "      <td>-73.991242</td>\n",
       "      <td>40.750562</td>\n",
       "      <td>2</td>\n",
       "    </tr>\n",
       "    <tr>\n",
       "      <th>3</th>\n",
       "      <td>2012-04-21 04:30:42.0000001</td>\n",
       "      <td>7.7</td>\n",
       "      <td>2012-04-21 04:30:42 UTC</td>\n",
       "      <td>-73.987130</td>\n",
       "      <td>40.733143</td>\n",
       "      <td>-73.991567</td>\n",
       "      <td>40.758092</td>\n",
       "      <td>1</td>\n",
       "    </tr>\n",
       "    <tr>\n",
       "      <th>4</th>\n",
       "      <td>2010-03-09 07:51:00.000000135</td>\n",
       "      <td>5.3</td>\n",
       "      <td>2010-03-09 07:51:00 UTC</td>\n",
       "      <td>-73.968095</td>\n",
       "      <td>40.768008</td>\n",
       "      <td>-73.956655</td>\n",
       "      <td>40.783762</td>\n",
       "      <td>1</td>\n",
       "    </tr>\n",
       "  </tbody>\n",
       "</table>\n",
       "</div>"
      ],
      "text/plain": [
       "                             key  fare_amount          pickup_datetime  \\\n",
       "0    2009-06-15 17:26:21.0000001          4.5  2009-06-15 17:26:21 UTC   \n",
       "1    2010-01-05 16:52:16.0000002         16.9  2010-01-05 16:52:16 UTC   \n",
       "2   2011-08-18 00:35:00.00000049          5.7  2011-08-18 00:35:00 UTC   \n",
       "3    2012-04-21 04:30:42.0000001          7.7  2012-04-21 04:30:42 UTC   \n",
       "4  2010-03-09 07:51:00.000000135          5.3  2010-03-09 07:51:00 UTC   \n",
       "\n",
       "   pickup_longitude  pickup_latitude  dropoff_longitude  dropoff_latitude  \\\n",
       "0        -73.844311        40.721319         -73.841610         40.712278   \n",
       "1        -74.016048        40.711303         -73.979268         40.782004   \n",
       "2        -73.982738        40.761270         -73.991242         40.750562   \n",
       "3        -73.987130        40.733143         -73.991567         40.758092   \n",
       "4        -73.968095        40.768008         -73.956655         40.783762   \n",
       "\n",
       "   passenger_count  \n",
       "0                1  \n",
       "1                1  \n",
       "2                2  \n",
       "3                1  \n",
       "4                1  "
      ]
     },
     "execution_count": 12,
     "metadata": {},
     "output_type": "execute_result"
    }
   ],
   "source": [
    "data = pd.read_csv(r'data/train.csv')\n",
    "data.head()"
   ]
  },
  {
   "cell_type": "code",
   "execution_count": 164,
   "metadata": {},
   "outputs": [],
   "source": [
    "df = data.copy().sample(500000)"
   ]
  },
  {
   "cell_type": "code",
   "execution_count": 165,
   "metadata": {},
   "outputs": [],
   "source": [
    "df = df[\n",
    "    (df['pickup_longitude'] < -70) & (df['pickup_longitude'] > -75) & \n",
    "    (df['pickup_latitude'] < 42) & (df['pickup_latitude'] > 40) &\n",
    "    (df['dropoff_longitude'] < -70) & (df['dropoff_longitude'] > -75) & \n",
    "    (df['dropoff_latitude'] < 42) & (df['dropoff_latitude'] > 40)\n",
    "     ]"
   ]
  },
  {
   "cell_type": "code",
   "execution_count": 166,
   "metadata": {},
   "outputs": [
    {
     "data": {
      "text/html": [
       "<div>\n",
       "<style scoped>\n",
       "    .dataframe tbody tr th:only-of-type {\n",
       "        vertical-align: middle;\n",
       "    }\n",
       "\n",
       "    .dataframe tbody tr th {\n",
       "        vertical-align: top;\n",
       "    }\n",
       "\n",
       "    .dataframe thead th {\n",
       "        text-align: right;\n",
       "    }\n",
       "</style>\n",
       "<table border=\"1\" class=\"dataframe\">\n",
       "  <thead>\n",
       "    <tr style=\"text-align: right;\">\n",
       "      <th></th>\n",
       "      <th>key</th>\n",
       "      <th>fare_amount</th>\n",
       "      <th>pickup_datetime</th>\n",
       "      <th>pickup_longitude</th>\n",
       "      <th>pickup_latitude</th>\n",
       "      <th>dropoff_longitude</th>\n",
       "      <th>dropoff_latitude</th>\n",
       "      <th>passenger_count</th>\n",
       "    </tr>\n",
       "  </thead>\n",
       "  <tbody>\n",
       "    <tr>\n",
       "      <th>16812807</th>\n",
       "      <td>2009-03-03 13:00:12.0000002</td>\n",
       "      <td>8.90</td>\n",
       "      <td>2009-03-03 13:00:12 UTC</td>\n",
       "      <td>-74.005324</td>\n",
       "      <td>40.720405</td>\n",
       "      <td>-73.981411</td>\n",
       "      <td>40.724819</td>\n",
       "      <td>1</td>\n",
       "    </tr>\n",
       "    <tr>\n",
       "      <th>13414775</th>\n",
       "      <td>2009-03-18 20:54:00.00000074</td>\n",
       "      <td>9.70</td>\n",
       "      <td>2009-03-18 20:54:00 UTC</td>\n",
       "      <td>-73.974328</td>\n",
       "      <td>40.751058</td>\n",
       "      <td>-73.967098</td>\n",
       "      <td>40.786323</td>\n",
       "      <td>5</td>\n",
       "    </tr>\n",
       "    <tr>\n",
       "      <th>42860505</th>\n",
       "      <td>2011-06-26 05:27:00.00000010</td>\n",
       "      <td>10.10</td>\n",
       "      <td>2011-06-26 05:27:00 UTC</td>\n",
       "      <td>-73.981335</td>\n",
       "      <td>40.727388</td>\n",
       "      <td>-73.976282</td>\n",
       "      <td>40.761910</td>\n",
       "      <td>5</td>\n",
       "    </tr>\n",
       "    <tr>\n",
       "      <th>6542067</th>\n",
       "      <td>2009-10-16 05:26:24.0000001</td>\n",
       "      <td>4.50</td>\n",
       "      <td>2009-10-16 05:26:24 UTC</td>\n",
       "      <td>-73.947891</td>\n",
       "      <td>40.774725</td>\n",
       "      <td>-73.955887</td>\n",
       "      <td>40.764066</td>\n",
       "      <td>1</td>\n",
       "    </tr>\n",
       "    <tr>\n",
       "      <th>27717429</th>\n",
       "      <td>2014-04-18 06:23:48.0000001</td>\n",
       "      <td>31.33</td>\n",
       "      <td>2014-04-18 06:23:48 UTC</td>\n",
       "      <td>-73.848138</td>\n",
       "      <td>40.723553</td>\n",
       "      <td>-73.990147</td>\n",
       "      <td>40.751590</td>\n",
       "      <td>1</td>\n",
       "    </tr>\n",
       "  </tbody>\n",
       "</table>\n",
       "</div>"
      ],
      "text/plain": [
       "                                   key  fare_amount          pickup_datetime  \\\n",
       "16812807   2009-03-03 13:00:12.0000002         8.90  2009-03-03 13:00:12 UTC   \n",
       "13414775  2009-03-18 20:54:00.00000074         9.70  2009-03-18 20:54:00 UTC   \n",
       "42860505  2011-06-26 05:27:00.00000010        10.10  2011-06-26 05:27:00 UTC   \n",
       "6542067    2009-10-16 05:26:24.0000001         4.50  2009-10-16 05:26:24 UTC   \n",
       "27717429   2014-04-18 06:23:48.0000001        31.33  2014-04-18 06:23:48 UTC   \n",
       "\n",
       "          pickup_longitude  pickup_latitude  dropoff_longitude  \\\n",
       "16812807        -74.005324        40.720405         -73.981411   \n",
       "13414775        -73.974328        40.751058         -73.967098   \n",
       "42860505        -73.981335        40.727388         -73.976282   \n",
       "6542067         -73.947891        40.774725         -73.955887   \n",
       "27717429        -73.848138        40.723553         -73.990147   \n",
       "\n",
       "          dropoff_latitude  passenger_count  \n",
       "16812807         40.724819                1  \n",
       "13414775         40.786323                5  \n",
       "42860505         40.761910                5  \n",
       "6542067          40.764066                1  \n",
       "27717429         40.751590                1  "
      ]
     },
     "execution_count": 166,
     "metadata": {},
     "output_type": "execute_result"
    }
   ],
   "source": [
    "df.head()"
   ]
  },
  {
   "cell_type": "markdown",
   "metadata": {},
   "source": [
    "## date preprocessing"
   ]
  },
  {
   "cell_type": "code",
   "execution_count": 167,
   "metadata": {},
   "outputs": [],
   "source": [
    "cal = USFederalHolidayCalendar()\n",
    "holidays = cal.holidays(start='2009-01-01', end='2016-01-01')\n",
    "holidays = list(holidays.date)\n",
    "\n",
    "years = range(2009, 2016)\n",
    "weekends = []\n",
    "\n",
    "for year in years:\n",
    "    start_date = pd.Timestamp(f'{year}-01-01')\n",
    "    end_date = pd.Timestamp(f'{year}-12-31')\n",
    "    all_dates = pd.date_range(start=start_date, end=end_date)\n",
    "\n",
    "    weekends.extend([date.date() for date in all_dates if date.weekday() >= 5])"
   ]
  },
  {
   "cell_type": "code",
   "execution_count": 168,
   "metadata": {},
   "outputs": [],
   "source": [
    "center = (40.7, -73.8)"
   ]
  },
  {
   "cell_type": "code",
   "execution_count": 169,
   "metadata": {},
   "outputs": [],
   "source": [
    "years = [i for i in range(2009, 2016)]\n",
    "inflation = dict.fromkeys(years, 0)\n",
    "\n",
    "for key in inflation.keys():\n",
    "    inflation[key] = round(cpi.inflate(1000, key, to=2009) / 1000, 3)"
   ]
  },
  {
   "cell_type": "code",
   "execution_count": 170,
   "metadata": {},
   "outputs": [],
   "source": [
    "coords = df[['pickup_latitude', 'pickup_longitude']]\n",
    "kmeans_pick = KMeans(n_clusters=10, random_state=0).fit(coords)"
   ]
  },
  {
   "cell_type": "code",
   "execution_count": 171,
   "metadata": {},
   "outputs": [],
   "source": [
    "coords = df[['dropoff_latitude', 'dropoff_longitude']]\n",
    "kmeans_drop = KMeans(n_clusters=10, random_state=0).fit(coords)"
   ]
  },
  {
   "cell_type": "code",
   "execution_count": 172,
   "metadata": {},
   "outputs": [],
   "source": [
    "def preprocess(df, is_train=True):\n",
    "    df = df.dropna()\n",
    "\n",
    "    if is_train:\n",
    "        df = df[df.fare_amount.between(0, 60)]\n",
    "        \n",
    "        df = df[(df['passenger_count'] >= 0) & (df['passenger_count'] <= 6)]\n",
    "\n",
    "    df['distance'] = df.progress_apply(lambda x: geodesic((x['pickup_latitude'], \n",
    "                                                       x['pickup_longitude']), (x['dropoff_latitude'], x['dropoff_longitude'])).km, axis=1)\n",
    "    df['pick_up_distance_from_center'] = df.progress_apply(lambda x: geodesic((x['pickup_latitude'], \n",
    "                                                       x['pickup_longitude']), (center)).km, axis=1)\n",
    "    df['drop_off_distance_from_center'] = df.progress_apply(lambda x: geodesic((x['dropoff_latitude'], \n",
    "                                                       x['dropoff_longitude']), (center)).km, axis=1)\n",
    "    \n",
    "    df['latitude_abs'] = (df.pickup_latitude - df.dropoff_latitude).abs()\n",
    "    df['longitude_abs'] = (df.pickup_longitude - df.dropoff_longitude).abs()\n",
    "\n",
    "    df['pickup_datetime'] = pd.to_datetime(df['pickup_datetime'])\n",
    "\n",
    "    df['is_weekend'] = df['pickup_datetime'].progress_apply(lambda x: x.date() in weekends)\n",
    "    df['is_holiday'] = df['pickup_datetime'].progress_apply(lambda x: True if x.date() in holidays else False)\n",
    "\n",
    "    df['year'] = df.pickup_datetime.dt.year.astype('uint16')\n",
    "    df['month'] = df.pickup_datetime.dt.month.astype('uint8')\n",
    "    df['day'] = df.pickup_datetime.dt.day.astype('uint8')\n",
    "    df['dayofweek'] = df.pickup_datetime.dt.dayofweek.astype('uint8')\n",
    "\n",
    "    df['sin_dayofweek'] = np.sin(2 * np.pi * df['dayofweek'] / 7)\n",
    "    df['sin_month'] = np.sin(2 * np.pi * df['month'] / 12)\n",
    "\n",
    "    df['hour'] = df['pickup_datetime'].progress_apply(lambda x: np.sin(2 * np.pi * x.hour / 24))\n",
    "    df['is_rush_hour'] = df['pickup_datetime'].dt.hour.between(8, 9) | df['pickup_datetime'].dt.hour.between(16, 19)\n",
    "    df['pickup_cluster'] = kmeans_pick.predict(df[['pickup_latitude', 'pickup_longitude']])\n",
    "    df['dropoff_cluster'] = kmeans_drop.predict(df[['dropoff_latitude', 'dropoff_longitude']])\n",
    "\n",
    "    if is_train:\n",
    "        df['fare_amount_adjusted'] = df.progress_apply(lambda x: inflation[x['pickup_datetime'].year] * x['fare_amount'], axis=1)\n",
    "    return df"
   ]
  },
  {
   "cell_type": "code",
   "execution_count": 173,
   "metadata": {},
   "outputs": [
    {
     "data": {
      "text/plain": [
       "957.0"
      ]
     },
     "execution_count": 173,
     "metadata": {},
     "output_type": "execute_result"
    }
   ],
   "source": [
    "df.fare_amount.max()"
   ]
  },
  {
   "cell_type": "code",
   "execution_count": 174,
   "metadata": {},
   "outputs": [
    {
     "name": "stderr",
     "output_type": "stream",
     "text": [
      "100%|██████████| 488281/488281 [00:50<00:00, 9659.69it/s] \n",
      "100%|██████████| 488281/488281 [01:01<00:00, 7918.50it/s] \n",
      "100%|██████████| 488281/488281 [01:35<00:00, 5126.40it/s]\n",
      "100%|██████████| 488281/488281 [00:05<00:00, 91227.68it/s] \n",
      "100%|██████████| 488281/488281 [00:02<00:00, 216243.98it/s]\n",
      "100%|██████████| 488281/488281 [00:02<00:00, 189320.52it/s]\n",
      "100%|██████████| 488281/488281 [00:11<00:00, 43909.40it/s]\n"
     ]
    }
   ],
   "source": [
    "df = preprocess(df)"
   ]
  },
  {
   "cell_type": "code",
   "execution_count": 175,
   "metadata": {},
   "outputs": [],
   "source": [
    "df['sin_dayofweek'] = np.sin(2 * np.pi * df['dayofweek'] / 7)\n",
    "df['sin_month'] = np.sin(2 * np.pi * df['month'] / 12)"
   ]
  },
  {
   "cell_type": "code",
   "execution_count": 176,
   "metadata": {},
   "outputs": [],
   "source": [
    "df.to_csv('df.csv', index=False)"
   ]
  },
  {
   "cell_type": "code",
   "execution_count": 177,
   "metadata": {},
   "outputs": [
    {
     "data": {
      "text/plain": [
       "key                              0\n",
       "fare_amount                      0\n",
       "pickup_datetime                  0\n",
       "pickup_longitude                 0\n",
       "pickup_latitude                  0\n",
       "dropoff_longitude                0\n",
       "dropoff_latitude                 0\n",
       "passenger_count                  0\n",
       "distance                         0\n",
       "pick_up_distance_from_center     0\n",
       "drop_off_distance_from_center    0\n",
       "latitude_abs                     0\n",
       "longitude_abs                    0\n",
       "is_weekend                       0\n",
       "is_holiday                       0\n",
       "year                             0\n",
       "month                            0\n",
       "day                              0\n",
       "dayofweek                        0\n",
       "sin_dayofweek                    0\n",
       "sin_month                        0\n",
       "hour                             0\n",
       "is_rush_hour                     0\n",
       "pickup_cluster                   0\n",
       "dropoff_cluster                  0\n",
       "fare_amount_adjusted             0\n",
       "dtype: int64"
      ]
     },
     "execution_count": 177,
     "metadata": {},
     "output_type": "execute_result"
    }
   ],
   "source": [
    "df.isnull().sum()"
   ]
  },
  {
   "cell_type": "markdown",
   "metadata": {},
   "source": [
    "# графики"
   ]
  },
  {
   "cell_type": "code",
   "execution_count": 178,
   "metadata": {},
   "outputs": [
    {
     "data": {
      "text/plain": [
       "<Figure size 1000x1000 with 0 Axes>"
      ]
     },
     "metadata": {},
     "output_type": "display_data"
    },
    {
     "data": {
      "image/png": "[encoded data removed]",
      "text/plain": [
       "<Figure size 640x480 with 1 Axes>"
      ]
     },
     "metadata": {},
     "output_type": "display_data"
    }
   ],
   "source": [
    "from matplotlib.colors import Normalize\n",
    "\n",
    "\n",
    "plt.figure(figsize=(10, 10))\n",
    "\n",
    "\n",
    "quantiles = np.percentile(df['fare_amount'], [0, 25, 50, 75, 100])\n",
    "\n",
    "# Нормализация с использованием квантилей\n",
    "norm = Normalize(vmin=quantiles[0], vmax=quantiles[-1])\n",
    "\n",
    "# Цветовая карта\n",
    "cmap = plt.get_cmap('RdYlGn')\n",
    "\n",
    "\n",
    "cmap = LinearSegmentedColormap.from_list(name='name', colors=['green','yellow','red'])\n",
    "f, ax = plt.subplots()\n",
    "points = ax.scatter(df['dropoff_longitude'], df['dropoff_latitude'], c=df['fare_amount'],\n",
    "                    s=10, cmap=cmap, norm=norm)"
   ]
  },
  {
   "cell_type": "code",
   "execution_count": 179,
   "metadata": {},
   "outputs": [
    {
     "data": {
      "image/png": "[encoded data removed]",
      "text/plain": [
       "<Figure size 640x480 with 1 Axes>"
      ]
     },
     "metadata": {},
     "output_type": "display_data"
    }
   ],
   "source": [
    "cmap = LinearSegmentedColormap.from_list(name='name', colors=['green','yellow','red'])\n",
    "f, ax = plt.subplots()\n",
    "points = ax.scatter(df['dropoff_longitude'], df['dropoff_latitude'], c=df['pickup_cluster'],\n",
    "                    s=10, cmap=cmap, norm=norm)"
   ]
  },
  {
   "cell_type": "code",
   "execution_count": 180,
   "metadata": {},
   "outputs": [
    {
     "data": {
      "image/png": "[encoded data removed]",
      "text/plain": [
       "<Figure size 640x480 with 1 Axes>"
      ]
     },
     "metadata": {},
     "output_type": "display_data"
    }
   ],
   "source": [
    "cmap = LinearSegmentedColormap.from_list(name='name', colors=['green','yellow','red'])\n",
    "f, ax = plt.subplots()\n",
    "points = ax.scatter(df['dropoff_longitude'], df['dropoff_latitude'], c=df['dropoff_cluster'],\n",
    "                    s=10, cmap=cmap, norm=norm)"
   ]
  },
  {
   "cell_type": "code",
   "execution_count": 181,
   "metadata": {},
   "outputs": [
    {
     "data": {
      "text/plain": [
       "<Axes: >"
      ]
     },
     "execution_count": 181,
     "metadata": {},
     "output_type": "execute_result"
    },
    {
     "data": {
      "image/png": "[encoded data removed]",
      "text/plain": [
       "<Figure size 640x480 with 2 Axes>"
      ]
     },
     "metadata": {},
     "output_type": "display_data"
    }
   ],
   "source": [
    "sns.heatmap(df.corr(numeric_only=True)[['fare_amount']], cmap=\"YlGnBu\", annot=True)"
   ]
  },
  {
   "cell_type": "code",
   "execution_count": 182,
   "metadata": {},
   "outputs": [
    {
     "data": {
      "image/png": "[encoded data removed]",
      "text/plain": [
       "<Figure size 1100x400 with 2 Axes>"
      ]
     },
     "metadata": {},
     "output_type": "display_data"
    }
   ],
   "source": [
    "fig, axes = plt.subplots(nrows=1, ncols=2, figsize=(11, 4))\n",
    "\n",
    "\n",
    "sns.boxplot(df['fare_amount_adjusted'], ax=axes[0])\n",
    "sns.boxplot(df['passenger_count'], ax=axes[1])\n",
    "plt.show()"
   ]
  },
  {
   "cell_type": "code",
   "execution_count": 187,
   "metadata": {},
   "outputs": [
    {
     "name": "stderr",
     "output_type": "stream",
     "text": [
      "C:\\Users\\User\\AppData\\Local\\Temp\\ipykernel_24848\\869878874.py:8: FutureWarning: \n",
      "\n",
      "Passing `palette` without assigning `hue` is deprecated and will be removed in v0.14.0. Assign the `x` variable to `hue` and set `legend=False` for the same effect.\n",
      "\n",
      "  sns.catplot(x=\"hour2\", y=\"fare_amount\", kind=\"bar\", palette=palette, data=hourly_fares, height=8, aspect=1.5)\n",
      "C:\\Users\\User\\AppData\\Local\\Temp\\ipykernel_24848\\869878874.py:8: UserWarning: \n",
      "The palette list has fewer values (10) than needed (24) and will cycle, which may produce an uninterpretable plot.\n",
      "  sns.catplot(x=\"hour2\", y=\"fare_amount\", kind=\"bar\", palette=palette, data=hourly_fares, height=8, aspect=1.5)\n"
     ]
    },
    {
     "data": {
      "image/png": "[encoded data removed]",
      "text/plain": [
       "<Figure size 1200x800 with 1 Axes>"
      ]
     },
     "metadata": {},
     "output_type": "display_data"
    }
   ],
   "source": [
    "palette = sns.color_palette('Paired', 10)\n",
    "\n",
    "# Создаем новый датафрейм со средней стоимостью поездки по каждому часу\n",
    "df['hour2'] = df.pickup_datetime.dt.hour.astype('uint16')\n",
    "hourly_fares = df.groupby('hour2', as_index=False).agg({'fare_amount': 'median'})\n",
    "\n",
    "# Построение графика\n",
    "sns.catplot(x=\"hour2\", y=\"fare_amount\", kind=\"bar\", palette=palette, data=hourly_fares, height=8, aspect=1.5)\n",
    "sns.despine()\n",
    "\n",
    "# Установка заголовка и подписей осей\n",
    "plt.subplots_adjust(top=0.9)  # Оставляем место для заголовка\n",
    "plt.suptitle('Average Fare Amount by Hour of Day')  # Заголовок всего графика\n",
    "plt.xlabel(\"Hour of Day\")\n",
    "plt.ylabel(\"Average Fare Amount\")\n",
    "\n",
    "plt.show()\n",
    "df = df.drop(columns=['hour2'])"
   ]
  },
  {
   "cell_type": "markdown",
   "metadata": {},
   "source": [
    "# fitting"
   ]
  },
  {
   "cell_type": "code",
   "execution_count": 307,
   "metadata": {},
   "outputs": [],
   "source": [
    "to_drop = ['key', 'fare_amount', 'fare_amount_adjusted', 'pickup_datetime', 'day', 'month']\n",
    "\n",
    "X = df.drop(to_drop, axis=1)\n",
    "y = df['fare_amount_adjusted']"
   ]
  },
  {
   "cell_type": "code",
   "execution_count": 308,
   "metadata": {},
   "outputs": [
    {
     "data": {
      "text/html": [
       "<div>\n",
       "<style scoped>\n",
       "    .dataframe tbody tr th:only-of-type {\n",
       "        vertical-align: middle;\n",
       "    }\n",
       "\n",
       "    .dataframe tbody tr th {\n",
       "        vertical-align: top;\n",
       "    }\n",
       "\n",
       "    .dataframe thead th {\n",
       "        text-align: right;\n",
       "    }\n",
       "</style>\n",
       "<table border=\"1\" class=\"dataframe\">\n",
       "  <thead>\n",
       "    <tr style=\"text-align: right;\">\n",
       "      <th></th>\n",
       "      <th>pickup_longitude</th>\n",
       "      <th>pickup_latitude</th>\n",
       "      <th>dropoff_longitude</th>\n",
       "      <th>dropoff_latitude</th>\n",
       "      <th>passenger_count</th>\n",
       "      <th>distance</th>\n",
       "      <th>pick_up_distance_from_center</th>\n",
       "      <th>drop_off_distance_from_center</th>\n",
       "      <th>latitude_abs</th>\n",
       "      <th>longitude_abs</th>\n",
       "      <th>is_weekend</th>\n",
       "      <th>is_holiday</th>\n",
       "      <th>year</th>\n",
       "      <th>dayofweek</th>\n",
       "      <th>sin_dayofweek</th>\n",
       "      <th>sin_month</th>\n",
       "      <th>hour</th>\n",
       "      <th>is_rush_hour</th>\n",
       "      <th>pickup_cluster</th>\n",
       "      <th>dropoff_cluster</th>\n",
       "    </tr>\n",
       "  </thead>\n",
       "  <tbody>\n",
       "    <tr>\n",
       "      <th>16812807</th>\n",
       "      <td>-74.005324</td>\n",
       "      <td>40.720405</td>\n",
       "      <td>-73.981411</td>\n",
       "      <td>40.724819</td>\n",
       "      <td>1</td>\n",
       "      <td>2.078947</td>\n",
       "      <td>17.497749</td>\n",
       "      <td>15.574990</td>\n",
       "      <td>0.004414</td>\n",
       "      <td>0.023913</td>\n",
       "      <td>False</td>\n",
       "      <td>False</td>\n",
       "      <td>2009</td>\n",
       "      <td>1</td>\n",
       "      <td>0.781831</td>\n",
       "      <td>1.000000e+00</td>\n",
       "      <td>-0.258819</td>\n",
       "      <td>False</td>\n",
       "      <td>0</td>\n",
       "      <td>9</td>\n",
       "    </tr>\n",
       "    <tr>\n",
       "      <th>13414775</th>\n",
       "      <td>-73.974328</td>\n",
       "      <td>40.751058</td>\n",
       "      <td>-73.967098</td>\n",
       "      <td>40.786323</td>\n",
       "      <td>5</td>\n",
       "      <td>3.963447</td>\n",
       "      <td>15.781501</td>\n",
       "      <td>17.060968</td>\n",
       "      <td>0.035265</td>\n",
       "      <td>0.007230</td>\n",
       "      <td>False</td>\n",
       "      <td>False</td>\n",
       "      <td>2009</td>\n",
       "      <td>2</td>\n",
       "      <td>0.974928</td>\n",
       "      <td>1.000000e+00</td>\n",
       "      <td>-0.866025</td>\n",
       "      <td>False</td>\n",
       "      <td>1</td>\n",
       "      <td>6</td>\n",
       "    </tr>\n",
       "    <tr>\n",
       "      <th>42860505</th>\n",
       "      <td>-73.981335</td>\n",
       "      <td>40.727388</td>\n",
       "      <td>-73.976282</td>\n",
       "      <td>40.761910</td>\n",
       "      <td>5</td>\n",
       "      <td>3.857314</td>\n",
       "      <td>15.621408</td>\n",
       "      <td>16.402057</td>\n",
       "      <td>0.034522</td>\n",
       "      <td>0.005053</td>\n",
       "      <td>True</td>\n",
       "      <td>False</td>\n",
       "      <td>2011</td>\n",
       "      <td>6</td>\n",
       "      <td>-0.781831</td>\n",
       "      <td>1.224647e-16</td>\n",
       "      <td>0.965926</td>\n",
       "      <td>False</td>\n",
       "      <td>6</td>\n",
       "      <td>2</td>\n",
       "    </tr>\n",
       "    <tr>\n",
       "      <th>6542067</th>\n",
       "      <td>-73.947891</td>\n",
       "      <td>40.774725</td>\n",
       "      <td>-73.955887</td>\n",
       "      <td>40.764066</td>\n",
       "      <td>1</td>\n",
       "      <td>1.362655</td>\n",
       "      <td>14.997041</td>\n",
       "      <td>14.967502</td>\n",
       "      <td>0.010659</td>\n",
       "      <td>0.007996</td>\n",
       "      <td>False</td>\n",
       "      <td>False</td>\n",
       "      <td>2009</td>\n",
       "      <td>4</td>\n",
       "      <td>-0.433884</td>\n",
       "      <td>-8.660254e-01</td>\n",
       "      <td>0.965926</td>\n",
       "      <td>False</td>\n",
       "      <td>8</td>\n",
       "      <td>6</td>\n",
       "    </tr>\n",
       "    <tr>\n",
       "      <th>27717429</th>\n",
       "      <td>-73.848138</td>\n",
       "      <td>40.723553</td>\n",
       "      <td>-73.990147</td>\n",
       "      <td>40.751590</td>\n",
       "      <td>1</td>\n",
       "      <td>12.392696</td>\n",
       "      <td>4.836017</td>\n",
       "      <td>17.055169</td>\n",
       "      <td>0.028037</td>\n",
       "      <td>0.142009</td>\n",
       "      <td>False</td>\n",
       "      <td>False</td>\n",
       "      <td>2014</td>\n",
       "      <td>4</td>\n",
       "      <td>-0.433884</td>\n",
       "      <td>8.660254e-01</td>\n",
       "      <td>1.000000</td>\n",
       "      <td>False</td>\n",
       "      <td>7</td>\n",
       "      <td>1</td>\n",
       "    </tr>\n",
       "  </tbody>\n",
       "</table>\n",
       "</div>"
      ],
      "text/plain": [
       "          pickup_longitude  pickup_latitude  dropoff_longitude  \\\n",
       "16812807        -74.005324        40.720405         -73.981411   \n",
       "13414775        -73.974328        40.751058         -73.967098   \n",
       "42860505        -73.981335        40.727388         -73.976282   \n",
       "6542067         -73.947891        40.774725         -73.955887   \n",
       "27717429        -73.848138        40.723553         -73.990147   \n",
       "\n",
       "          dropoff_latitude  passenger_count   distance  \\\n",
       "16812807         40.724819                1   2.078947   \n",
       "13414775         40.786323                5   3.963447   \n",
       "42860505         40.761910                5   3.857314   \n",
       "6542067          40.764066                1   1.362655   \n",
       "27717429         40.751590                1  12.392696   \n",
       "\n",
       "          pick_up_distance_from_center  drop_off_distance_from_center  \\\n",
       "16812807                     17.497749                      15.574990   \n",
       "13414775                     15.781501                      17.060968   \n",
       "42860505                     15.621408                      16.402057   \n",
       "6542067                      14.997041                      14.967502   \n",
       "27717429                      4.836017                      17.055169   \n",
       "\n",
       "          latitude_abs  longitude_abs  is_weekend  is_holiday  year  \\\n",
       "16812807      0.004414       0.023913       False       False  2009   \n",
       "13414775      0.035265       0.007230       False       False  2009   \n",
       "42860505      0.034522       0.005053        True       False  2011   \n",
       "6542067       0.010659       0.007996       False       False  2009   \n",
       "27717429      0.028037       0.142009       False       False  2014   \n",
       "\n",
       "          dayofweek  sin_dayofweek     sin_month      hour  is_rush_hour  \\\n",
       "16812807          1       0.781831  1.000000e+00 -0.258819         False   \n",
       "13414775          2       0.974928  1.000000e+00 -0.866025         False   \n",
       "42860505          6      -0.781831  1.224647e-16  0.965926         False   \n",
       "6542067           4      -0.433884 -8.660254e-01  0.965926         False   \n",
       "27717429          4      -0.433884  8.660254e-01  1.000000         False   \n",
       "\n",
       "          pickup_cluster  dropoff_cluster  \n",
       "16812807               0                9  \n",
       "13414775               1                6  \n",
       "42860505               6                2  \n",
       "6542067                8                6  \n",
       "27717429               7                1  "
      ]
     },
     "execution_count": 308,
     "metadata": {},
     "output_type": "execute_result"
    }
   ],
   "source": [
    "X.head()"
   ]
  },
  {
   "cell_type": "code",
   "execution_count": 330,
   "metadata": {},
   "outputs": [],
   "source": [
    "X_train, X_test, y_train, y_test = train_test_split(X, y, test_size=0.02, random_state=2024)\n",
    "\n",
    "model = CatBoostRegressor(depth=6,\n",
    "                           learning_rate=0.01,\n",
    "                           iterations=1000,\n",
    "                           eval_metric='RMSE',\n",
    "                           random_seed=2024,\n",
    "                           verbose=200)"
   ]
  },
  {
   "cell_type": "code",
   "execution_count": 331,
   "metadata": {},
   "outputs": [
    {
     "name": "stdout",
     "output_type": "stream",
     "text": [
      "0:\tlearn: 8.2644329\ttest: 8.0594437\tbest: 8.0594437 (0)\ttotal: 19.9ms\tremaining: 19.8s\n",
      "200:\tlearn: 3.6356099\ttest: 3.5119948\tbest: 3.5119948 (200)\ttotal: 3.96s\tremaining: 15.7s\n",
      "400:\tlearn: 3.3196762\ttest: 3.2275014\tbest: 3.2275014 (400)\ttotal: 7.68s\tremaining: 11.5s\n",
      "600:\tlearn: 3.2405264\ttest: 3.1507668\tbest: 3.1507668 (600)\ttotal: 11.4s\tremaining: 7.56s\n",
      "800:\tlearn: 3.1910746\ttest: 3.1018028\tbest: 3.1018028 (800)\ttotal: 15.1s\tremaining: 3.75s\n",
      "999:\tlearn: 3.1544659\ttest: 3.0668999\tbest: 3.0668999 (999)\ttotal: 18.9s\tremaining: 0us\n",
      "\n",
      "bestTest = 3.066899854\n",
      "bestIteration = 999\n",
      "\n"
     ]
    },
    {
     "data": {
      "text/plain": [
       "<catboost.core.CatBoostRegressor at 0x20605d441f0>"
      ]
     },
     "execution_count": 331,
     "metadata": {},
     "output_type": "execute_result"
    }
   ],
   "source": [
    "model.fit(X_train, y_train, eval_set=(X_test, y_test))"
   ]
  },
  {
   "cell_type": "code",
   "execution_count": 332,
   "metadata": {},
   "outputs": [],
   "source": [
    "from sklearn.metrics import root_mean_squared_error"
   ]
  },
  {
   "cell_type": "code",
   "execution_count": 333,
   "metadata": {},
   "outputs": [
    {
     "data": {
      "text/plain": [
       "488281"
      ]
     },
     "execution_count": 333,
     "metadata": {},
     "output_type": "execute_result"
    }
   ],
   "source": [
    "len(model.predict(df[X.columns]))"
   ]
  },
  {
   "cell_type": "code",
   "execution_count": 334,
   "metadata": {},
   "outputs": [
    {
     "data": {
      "text/plain": [
       "3.4787423260814605"
      ]
     },
     "execution_count": 334,
     "metadata": {},
     "output_type": "execute_result"
    }
   ],
   "source": [
    "root_mean_squared_error(np.array(df['fare_amount']), model.predict(df[X.columns]))"
   ]
  },
  {
   "cell_type": "markdown",
   "metadata": {},
   "source": [
    "# Inferring"
   ]
  },
  {
   "cell_type": "code",
   "execution_count": 335,
   "metadata": {},
   "outputs": [
    {
     "data": {
      "text/html": [
       "<div>\n",
       "<style scoped>\n",
       "    .dataframe tbody tr th:only-of-type {\n",
       "        vertical-align: middle;\n",
       "    }\n",
       "\n",
       "    .dataframe tbody tr th {\n",
       "        vertical-align: top;\n",
       "    }\n",
       "\n",
       "    .dataframe thead th {\n",
       "        text-align: right;\n",
       "    }\n",
       "</style>\n",
       "<table border=\"1\" class=\"dataframe\">\n",
       "  <thead>\n",
       "    <tr style=\"text-align: right;\">\n",
       "      <th></th>\n",
       "      <th>key</th>\n",
       "      <th>fare_amount</th>\n",
       "    </tr>\n",
       "  </thead>\n",
       "  <tbody>\n",
       "    <tr>\n",
       "      <th>0</th>\n",
       "      <td>2015-01-27 13:08:24.0000002</td>\n",
       "      <td>11.35</td>\n",
       "    </tr>\n",
       "    <tr>\n",
       "      <th>1</th>\n",
       "      <td>2015-01-27 13:08:24.0000003</td>\n",
       "      <td>11.35</td>\n",
       "    </tr>\n",
       "    <tr>\n",
       "      <th>2</th>\n",
       "      <td>2011-10-08 11:53:44.0000002</td>\n",
       "      <td>11.35</td>\n",
       "    </tr>\n",
       "    <tr>\n",
       "      <th>3</th>\n",
       "      <td>2012-12-01 21:12:12.0000002</td>\n",
       "      <td>11.35</td>\n",
       "    </tr>\n",
       "    <tr>\n",
       "      <th>4</th>\n",
       "      <td>2012-12-01 21:12:12.0000003</td>\n",
       "      <td>11.35</td>\n",
       "    </tr>\n",
       "  </tbody>\n",
       "</table>\n",
       "</div>"
      ],
      "text/plain": [
       "                           key  fare_amount\n",
       "0  2015-01-27 13:08:24.0000002        11.35\n",
       "1  2015-01-27 13:08:24.0000003        11.35\n",
       "2  2011-10-08 11:53:44.0000002        11.35\n",
       "3  2012-12-01 21:12:12.0000002        11.35\n",
       "4  2012-12-01 21:12:12.0000003        11.35"
      ]
     },
     "execution_count": 335,
     "metadata": {},
     "output_type": "execute_result"
    }
   ],
   "source": [
    "pd.read_csv(r'data/sample_submission.csv').head()"
   ]
  },
  {
   "cell_type": "code",
   "execution_count": 336,
   "metadata": {},
   "outputs": [],
   "source": [
    "test = pd.read_csv(r'data/test.csv')"
   ]
  },
  {
   "cell_type": "code",
   "execution_count": 337,
   "metadata": {},
   "outputs": [
    {
     "name": "stderr",
     "output_type": "stream",
     "text": [
      "100%|██████████| 9914/9914 [00:01<00:00, 8829.75it/s]\n",
      "100%|██████████| 9914/9914 [00:01<00:00, 9160.60it/s]\n",
      "100%|██████████| 9914/9914 [00:01<00:00, 9105.38it/s]\n",
      "100%|██████████| 9914/9914 [00:00<00:00, 175699.00it/s]\n",
      "100%|██████████| 9914/9914 [00:00<00:00, 506675.23it/s]\n",
      "100%|██████████| 9914/9914 [00:00<00:00, 635019.24it/s]\n"
     ]
    }
   ],
   "source": [
    "test = preprocess(test, is_train=False)"
   ]
  },
  {
   "cell_type": "code",
   "execution_count": 338,
   "metadata": {},
   "outputs": [
    {
     "data": {
      "text/html": [
       "<div>\n",
       "<style scoped>\n",
       "    .dataframe tbody tr th:only-of-type {\n",
       "        vertical-align: middle;\n",
       "    }\n",
       "\n",
       "    .dataframe tbody tr th {\n",
       "        vertical-align: top;\n",
       "    }\n",
       "\n",
       "    .dataframe thead th {\n",
       "        text-align: right;\n",
       "    }\n",
       "</style>\n",
       "<table border=\"1\" class=\"dataframe\">\n",
       "  <thead>\n",
       "    <tr style=\"text-align: right;\">\n",
       "      <th></th>\n",
       "      <th>key</th>\n",
       "      <th>pickup_datetime</th>\n",
       "      <th>pickup_longitude</th>\n",
       "      <th>pickup_latitude</th>\n",
       "      <th>dropoff_longitude</th>\n",
       "      <th>dropoff_latitude</th>\n",
       "      <th>passenger_count</th>\n",
       "      <th>distance</th>\n",
       "      <th>pick_up_distance_from_center</th>\n",
       "      <th>drop_off_distance_from_center</th>\n",
       "      <th>...</th>\n",
       "      <th>year</th>\n",
       "      <th>month</th>\n",
       "      <th>day</th>\n",
       "      <th>dayofweek</th>\n",
       "      <th>sin_dayofweek</th>\n",
       "      <th>sin_month</th>\n",
       "      <th>hour</th>\n",
       "      <th>is_rush_hour</th>\n",
       "      <th>pickup_cluster</th>\n",
       "      <th>dropoff_cluster</th>\n",
       "    </tr>\n",
       "  </thead>\n",
       "  <tbody>\n",
       "    <tr>\n",
       "      <th>0</th>\n",
       "      <td>2015-01-27 13:08:24.0000002</td>\n",
       "      <td>2015-01-27 13:08:24+00:00</td>\n",
       "      <td>-73.973320</td>\n",
       "      <td>40.763805</td>\n",
       "      <td>-73.981430</td>\n",
       "      <td>40.743835</td>\n",
       "      <td>1</td>\n",
       "      <td>2.320991</td>\n",
       "      <td>16.265611</td>\n",
       "      <td>16.082996</td>\n",
       "      <td>...</td>\n",
       "      <td>2015</td>\n",
       "      <td>1</td>\n",
       "      <td>27</td>\n",
       "      <td>1</td>\n",
       "      <td>0.781831</td>\n",
       "      <td>5.000000e-01</td>\n",
       "      <td>-0.258819</td>\n",
       "      <td>False</td>\n",
       "      <td>1</td>\n",
       "      <td>1</td>\n",
       "    </tr>\n",
       "    <tr>\n",
       "      <th>1</th>\n",
       "      <td>2015-01-27 13:08:24.0000003</td>\n",
       "      <td>2015-01-27 13:08:24+00:00</td>\n",
       "      <td>-73.986862</td>\n",
       "      <td>40.719383</td>\n",
       "      <td>-73.998886</td>\n",
       "      <td>40.739201</td>\n",
       "      <td>1</td>\n",
       "      <td>2.423802</td>\n",
       "      <td>15.936492</td>\n",
       "      <td>17.358727</td>\n",
       "      <td>...</td>\n",
       "      <td>2015</td>\n",
       "      <td>1</td>\n",
       "      <td>27</td>\n",
       "      <td>1</td>\n",
       "      <td>0.781831</td>\n",
       "      <td>5.000000e-01</td>\n",
       "      <td>-0.258819</td>\n",
       "      <td>False</td>\n",
       "      <td>6</td>\n",
       "      <td>1</td>\n",
       "    </tr>\n",
       "    <tr>\n",
       "      <th>2</th>\n",
       "      <td>2011-10-08 11:53:44.0000002</td>\n",
       "      <td>2011-10-08 11:53:44+00:00</td>\n",
       "      <td>-73.982524</td>\n",
       "      <td>40.751260</td>\n",
       "      <td>-73.979654</td>\n",
       "      <td>40.746139</td>\n",
       "      <td>1</td>\n",
       "      <td>0.618182</td>\n",
       "      <td>16.437309</td>\n",
       "      <td>16.019768</td>\n",
       "      <td>...</td>\n",
       "      <td>2011</td>\n",
       "      <td>10</td>\n",
       "      <td>8</td>\n",
       "      <td>5</td>\n",
       "      <td>-0.974928</td>\n",
       "      <td>-8.660254e-01</td>\n",
       "      <td>0.258819</td>\n",
       "      <td>False</td>\n",
       "      <td>1</td>\n",
       "      <td>1</td>\n",
       "    </tr>\n",
       "    <tr>\n",
       "      <th>3</th>\n",
       "      <td>2012-12-01 21:12:12.0000002</td>\n",
       "      <td>2012-12-01 21:12:12+00:00</td>\n",
       "      <td>-73.981160</td>\n",
       "      <td>40.767807</td>\n",
       "      <td>-73.990448</td>\n",
       "      <td>40.751635</td>\n",
       "      <td>1</td>\n",
       "      <td>1.959671</td>\n",
       "      <td>17.055285</td>\n",
       "      <td>17.080795</td>\n",
       "      <td>...</td>\n",
       "      <td>2012</td>\n",
       "      <td>12</td>\n",
       "      <td>1</td>\n",
       "      <td>5</td>\n",
       "      <td>-0.974928</td>\n",
       "      <td>-2.449294e-16</td>\n",
       "      <td>-0.707107</td>\n",
       "      <td>False</td>\n",
       "      <td>1</td>\n",
       "      <td>1</td>\n",
       "    </tr>\n",
       "    <tr>\n",
       "      <th>4</th>\n",
       "      <td>2012-12-01 21:12:12.0000003</td>\n",
       "      <td>2012-12-01 21:12:12+00:00</td>\n",
       "      <td>-73.966046</td>\n",
       "      <td>40.789775</td>\n",
       "      <td>-73.988565</td>\n",
       "      <td>40.744427</td>\n",
       "      <td>1</td>\n",
       "      <td>5.382833</td>\n",
       "      <td>17.206476</td>\n",
       "      <td>16.677782</td>\n",
       "      <td>...</td>\n",
       "      <td>2012</td>\n",
       "      <td>12</td>\n",
       "      <td>1</td>\n",
       "      <td>5</td>\n",
       "      <td>-0.974928</td>\n",
       "      <td>-2.449294e-16</td>\n",
       "      <td>-0.707107</td>\n",
       "      <td>False</td>\n",
       "      <td>9</td>\n",
       "      <td>1</td>\n",
       "    </tr>\n",
       "  </tbody>\n",
       "</table>\n",
       "<p>5 rows × 24 columns</p>\n",
       "</div>"
      ],
      "text/plain": [
       "                           key           pickup_datetime  pickup_longitude  \\\n",
       "0  2015-01-27 13:08:24.0000002 2015-01-27 13:08:24+00:00        -73.973320   \n",
       "1  2015-01-27 13:08:24.0000003 2015-01-27 13:08:24+00:00        -73.986862   \n",
       "2  2011-10-08 11:53:44.0000002 2011-10-08 11:53:44+00:00        -73.982524   \n",
       "3  2012-12-01 21:12:12.0000002 2012-12-01 21:12:12+00:00        -73.981160   \n",
       "4  2012-12-01 21:12:12.0000003 2012-12-01 21:12:12+00:00        -73.966046   \n",
       "\n",
       "   pickup_latitude  dropoff_longitude  dropoff_latitude  passenger_count  \\\n",
       "0        40.763805         -73.981430         40.743835                1   \n",
       "1        40.719383         -73.998886         40.739201                1   \n",
       "2        40.751260         -73.979654         40.746139                1   \n",
       "3        40.767807         -73.990448         40.751635                1   \n",
       "4        40.789775         -73.988565         40.744427                1   \n",
       "\n",
       "   distance  pick_up_distance_from_center  drop_off_distance_from_center  ...  \\\n",
       "0  2.320991                     16.265611                      16.082996  ...   \n",
       "1  2.423802                     15.936492                      17.358727  ...   \n",
       "2  0.618182                     16.437309                      16.019768  ...   \n",
       "3  1.959671                     17.055285                      17.080795  ...   \n",
       "4  5.382833                     17.206476                      16.677782  ...   \n",
       "\n",
       "   year  month  day  dayofweek  sin_dayofweek     sin_month      hour  \\\n",
       "0  2015      1   27          1       0.781831  5.000000e-01 -0.258819   \n",
       "1  2015      1   27          1       0.781831  5.000000e-01 -0.258819   \n",
       "2  2011     10    8          5      -0.974928 -8.660254e-01  0.258819   \n",
       "3  2012     12    1          5      -0.974928 -2.449294e-16 -0.707107   \n",
       "4  2012     12    1          5      -0.974928 -2.449294e-16 -0.707107   \n",
       "\n",
       "   is_rush_hour  pickup_cluster  dropoff_cluster  \n",
       "0         False               1                1  \n",
       "1         False               6                1  \n",
       "2         False               1                1  \n",
       "3         False               1                1  \n",
       "4         False               9                1  \n",
       "\n",
       "[5 rows x 24 columns]"
      ]
     },
     "execution_count": 338,
     "metadata": {},
     "output_type": "execute_result"
    }
   ],
   "source": [
    "test.head()"
   ]
  },
  {
   "cell_type": "code",
   "execution_count": 339,
   "metadata": {},
   "outputs": [
    {
     "data": {
      "text/html": [
       "<div>\n",
       "<style scoped>\n",
       "    .dataframe tbody tr th:only-of-type {\n",
       "        vertical-align: middle;\n",
       "    }\n",
       "\n",
       "    .dataframe tbody tr th {\n",
       "        vertical-align: top;\n",
       "    }\n",
       "\n",
       "    .dataframe thead th {\n",
       "        text-align: right;\n",
       "    }\n",
       "</style>\n",
       "<table border=\"1\" class=\"dataframe\">\n",
       "  <thead>\n",
       "    <tr style=\"text-align: right;\">\n",
       "      <th></th>\n",
       "      <th>pickup_longitude</th>\n",
       "      <th>pickup_latitude</th>\n",
       "      <th>dropoff_longitude</th>\n",
       "      <th>dropoff_latitude</th>\n",
       "      <th>passenger_count</th>\n",
       "      <th>distance</th>\n",
       "      <th>pick_up_distance_from_center</th>\n",
       "      <th>drop_off_distance_from_center</th>\n",
       "      <th>latitude_abs</th>\n",
       "      <th>longitude_abs</th>\n",
       "      <th>is_weekend</th>\n",
       "      <th>is_holiday</th>\n",
       "      <th>year</th>\n",
       "      <th>dayofweek</th>\n",
       "      <th>sin_dayofweek</th>\n",
       "      <th>sin_month</th>\n",
       "      <th>hour</th>\n",
       "      <th>is_rush_hour</th>\n",
       "      <th>pickup_cluster</th>\n",
       "      <th>dropoff_cluster</th>\n",
       "    </tr>\n",
       "  </thead>\n",
       "  <tbody>\n",
       "    <tr>\n",
       "      <th>0</th>\n",
       "      <td>-73.973320</td>\n",
       "      <td>40.763805</td>\n",
       "      <td>-73.981430</td>\n",
       "      <td>40.743835</td>\n",
       "      <td>1</td>\n",
       "      <td>2.320991</td>\n",
       "      <td>16.265611</td>\n",
       "      <td>16.082996</td>\n",
       "      <td>0.019970</td>\n",
       "      <td>0.008110</td>\n",
       "      <td>False</td>\n",
       "      <td>False</td>\n",
       "      <td>2015</td>\n",
       "      <td>1</td>\n",
       "      <td>0.781831</td>\n",
       "      <td>5.000000e-01</td>\n",
       "      <td>-0.258819</td>\n",
       "      <td>False</td>\n",
       "      <td>1</td>\n",
       "      <td>1</td>\n",
       "    </tr>\n",
       "    <tr>\n",
       "      <th>1</th>\n",
       "      <td>-73.986862</td>\n",
       "      <td>40.719383</td>\n",
       "      <td>-73.998886</td>\n",
       "      <td>40.739201</td>\n",
       "      <td>1</td>\n",
       "      <td>2.423802</td>\n",
       "      <td>15.936492</td>\n",
       "      <td>17.358727</td>\n",
       "      <td>0.019817</td>\n",
       "      <td>0.012024</td>\n",
       "      <td>False</td>\n",
       "      <td>False</td>\n",
       "      <td>2015</td>\n",
       "      <td>1</td>\n",
       "      <td>0.781831</td>\n",
       "      <td>5.000000e-01</td>\n",
       "      <td>-0.258819</td>\n",
       "      <td>False</td>\n",
       "      <td>6</td>\n",
       "      <td>1</td>\n",
       "    </tr>\n",
       "    <tr>\n",
       "      <th>2</th>\n",
       "      <td>-73.982524</td>\n",
       "      <td>40.751260</td>\n",
       "      <td>-73.979654</td>\n",
       "      <td>40.746139</td>\n",
       "      <td>1</td>\n",
       "      <td>0.618182</td>\n",
       "      <td>16.437309</td>\n",
       "      <td>16.019768</td>\n",
       "      <td>0.005121</td>\n",
       "      <td>0.002870</td>\n",
       "      <td>True</td>\n",
       "      <td>False</td>\n",
       "      <td>2011</td>\n",
       "      <td>5</td>\n",
       "      <td>-0.974928</td>\n",
       "      <td>-8.660254e-01</td>\n",
       "      <td>0.258819</td>\n",
       "      <td>False</td>\n",
       "      <td>1</td>\n",
       "      <td>1</td>\n",
       "    </tr>\n",
       "    <tr>\n",
       "      <th>3</th>\n",
       "      <td>-73.981160</td>\n",
       "      <td>40.767807</td>\n",
       "      <td>-73.990448</td>\n",
       "      <td>40.751635</td>\n",
       "      <td>1</td>\n",
       "      <td>1.959671</td>\n",
       "      <td>17.055285</td>\n",
       "      <td>17.080795</td>\n",
       "      <td>0.016172</td>\n",
       "      <td>0.009288</td>\n",
       "      <td>True</td>\n",
       "      <td>False</td>\n",
       "      <td>2012</td>\n",
       "      <td>5</td>\n",
       "      <td>-0.974928</td>\n",
       "      <td>-2.449294e-16</td>\n",
       "      <td>-0.707107</td>\n",
       "      <td>False</td>\n",
       "      <td>1</td>\n",
       "      <td>1</td>\n",
       "    </tr>\n",
       "    <tr>\n",
       "      <th>4</th>\n",
       "      <td>-73.966046</td>\n",
       "      <td>40.789775</td>\n",
       "      <td>-73.988565</td>\n",
       "      <td>40.744427</td>\n",
       "      <td>1</td>\n",
       "      <td>5.382833</td>\n",
       "      <td>17.206476</td>\n",
       "      <td>16.677782</td>\n",
       "      <td>0.045348</td>\n",
       "      <td>0.022519</td>\n",
       "      <td>True</td>\n",
       "      <td>False</td>\n",
       "      <td>2012</td>\n",
       "      <td>5</td>\n",
       "      <td>-0.974928</td>\n",
       "      <td>-2.449294e-16</td>\n",
       "      <td>-0.707107</td>\n",
       "      <td>False</td>\n",
       "      <td>9</td>\n",
       "      <td>1</td>\n",
       "    </tr>\n",
       "  </tbody>\n",
       "</table>\n",
       "</div>"
      ],
      "text/plain": [
       "   pickup_longitude  pickup_latitude  dropoff_longitude  dropoff_latitude  \\\n",
       "0        -73.973320        40.763805         -73.981430         40.743835   \n",
       "1        -73.986862        40.719383         -73.998886         40.739201   \n",
       "2        -73.982524        40.751260         -73.979654         40.746139   \n",
       "3        -73.981160        40.767807         -73.990448         40.751635   \n",
       "4        -73.966046        40.789775         -73.988565         40.744427   \n",
       "\n",
       "   passenger_count  distance  pick_up_distance_from_center  \\\n",
       "0                1  2.320991                     16.265611   \n",
       "1                1  2.423802                     15.936492   \n",
       "2                1  0.618182                     16.437309   \n",
       "3                1  1.959671                     17.055285   \n",
       "4                1  5.382833                     17.206476   \n",
       "\n",
       "   drop_off_distance_from_center  latitude_abs  longitude_abs  is_weekend  \\\n",
       "0                      16.082996      0.019970       0.008110       False   \n",
       "1                      17.358727      0.019817       0.012024       False   \n",
       "2                      16.019768      0.005121       0.002870        True   \n",
       "3                      17.080795      0.016172       0.009288        True   \n",
       "4                      16.677782      0.045348       0.022519        True   \n",
       "\n",
       "   is_holiday  year  dayofweek  sin_dayofweek     sin_month      hour  \\\n",
       "0       False  2015          1       0.781831  5.000000e-01 -0.258819   \n",
       "1       False  2015          1       0.781831  5.000000e-01 -0.258819   \n",
       "2       False  2011          5      -0.974928 -8.660254e-01  0.258819   \n",
       "3       False  2012          5      -0.974928 -2.449294e-16 -0.707107   \n",
       "4       False  2012          5      -0.974928 -2.449294e-16 -0.707107   \n",
       "\n",
       "   is_rush_hour  pickup_cluster  dropoff_cluster  \n",
       "0         False               1                1  \n",
       "1         False               6                1  \n",
       "2         False               1                1  \n",
       "3         False               1                1  \n",
       "4         False               9                1  "
      ]
     },
     "execution_count": 339,
     "metadata": {},
     "output_type": "execute_result"
    }
   ],
   "source": [
    "test[X.columns].head()"
   ]
  },
  {
   "cell_type": "code",
   "execution_count": 340,
   "metadata": {},
   "outputs": [],
   "source": [
    "test['fare_amount'] = model.predict(test[X.columns])"
   ]
  },
  {
   "cell_type": "code",
   "execution_count": 341,
   "metadata": {},
   "outputs": [],
   "source": [
    "test['fare_amount'] = test.apply(lambda x: x['fare_amount'] / inflation[x['pickup_datetime'].year], axis=1)"
   ]
  },
  {
   "cell_type": "code",
   "execution_count": 342,
   "metadata": {},
   "outputs": [],
   "source": [
    "test[['key', 'fare_amount']].to_csv('sub2.csv', index=False)"
   ]
  },
  {
   "cell_type": "code",
   "execution_count": 343,
   "metadata": {},
   "outputs": [
    {
     "data": {
      "text/html": [
       "<div>\n",
       "<style scoped>\n",
       "    .dataframe tbody tr th:only-of-type {\n",
       "        vertical-align: middle;\n",
       "    }\n",
       "\n",
       "    .dataframe tbody tr th {\n",
       "        vertical-align: top;\n",
       "    }\n",
       "\n",
       "    .dataframe thead th {\n",
       "        text-align: right;\n",
       "    }\n",
       "</style>\n",
       "<table border=\"1\" class=\"dataframe\">\n",
       "  <thead>\n",
       "    <tr style=\"text-align: right;\">\n",
       "      <th></th>\n",
       "      <th>key</th>\n",
       "      <th>fare_amount</th>\n",
       "    </tr>\n",
       "  </thead>\n",
       "  <tbody>\n",
       "    <tr>\n",
       "      <th>0</th>\n",
       "      <td>2015-01-27 13:08:24.0000002</td>\n",
       "      <td>9.665805</td>\n",
       "    </tr>\n",
       "    <tr>\n",
       "      <th>1</th>\n",
       "      <td>2015-01-27 13:08:24.0000003</td>\n",
       "      <td>10.111222</td>\n",
       "    </tr>\n",
       "    <tr>\n",
       "      <th>2</th>\n",
       "      <td>2011-10-08 11:53:44.0000002</td>\n",
       "      <td>4.742884</td>\n",
       "    </tr>\n",
       "    <tr>\n",
       "      <th>3</th>\n",
       "      <td>2012-12-01 21:12:12.0000002</td>\n",
       "      <td>7.934002</td>\n",
       "    </tr>\n",
       "    <tr>\n",
       "      <th>4</th>\n",
       "      <td>2012-12-01 21:12:12.0000003</td>\n",
       "      <td>14.955095</td>\n",
       "    </tr>\n",
       "    <tr>\n",
       "      <th>...</th>\n",
       "      <td>...</td>\n",
       "      <td>...</td>\n",
       "    </tr>\n",
       "    <tr>\n",
       "      <th>9909</th>\n",
       "      <td>2015-05-10 12:37:51.0000002</td>\n",
       "      <td>8.435784</td>\n",
       "    </tr>\n",
       "    <tr>\n",
       "      <th>9910</th>\n",
       "      <td>2015-01-12 17:05:51.0000001</td>\n",
       "      <td>11.531297</td>\n",
       "    </tr>\n",
       "    <tr>\n",
       "      <th>9911</th>\n",
       "      <td>2015-04-19 20:44:15.0000001</td>\n",
       "      <td>54.022286</td>\n",
       "    </tr>\n",
       "    <tr>\n",
       "      <th>9912</th>\n",
       "      <td>2015-01-31 01:05:19.0000005</td>\n",
       "      <td>22.129107</td>\n",
       "    </tr>\n",
       "    <tr>\n",
       "      <th>9913</th>\n",
       "      <td>2015-01-18 14:06:23.0000006</td>\n",
       "      <td>6.660947</td>\n",
       "    </tr>\n",
       "  </tbody>\n",
       "</table>\n",
       "<p>9914 rows × 2 columns</p>\n",
       "</div>"
      ],
      "text/plain": [
       "                              key  fare_amount\n",
       "0     2015-01-27 13:08:24.0000002     9.665805\n",
       "1     2015-01-27 13:08:24.0000003    10.111222\n",
       "2     2011-10-08 11:53:44.0000002     4.742884\n",
       "3     2012-12-01 21:12:12.0000002     7.934002\n",
       "4     2012-12-01 21:12:12.0000003    14.955095\n",
       "...                           ...          ...\n",
       "9909  2015-05-10 12:37:51.0000002     8.435784\n",
       "9910  2015-01-12 17:05:51.0000001    11.531297\n",
       "9911  2015-04-19 20:44:15.0000001    54.022286\n",
       "9912  2015-01-31 01:05:19.0000005    22.129107\n",
       "9913  2015-01-18 14:06:23.0000006     6.660947\n",
       "\n",
       "[9914 rows x 2 columns]"
      ]
     },
     "execution_count": 343,
     "metadata": {},
     "output_type": "execute_result"
    }
   ],
   "source": [
    "test[['key', 'fare_amount']]"
   ]
  },
  {
   "cell_type": "code",
   "execution_count": 344,
   "metadata": {},
   "outputs": [
    {
     "data": {
      "text/html": [
       "<div>\n",
       "<style scoped>\n",
       "    .dataframe tbody tr th:only-of-type {\n",
       "        vertical-align: middle;\n",
       "    }\n",
       "\n",
       "    .dataframe tbody tr th {\n",
       "        vertical-align: top;\n",
       "    }\n",
       "\n",
       "    .dataframe thead th {\n",
       "        text-align: right;\n",
       "    }\n",
       "</style>\n",
       "<table border=\"1\" class=\"dataframe\">\n",
       "  <thead>\n",
       "    <tr style=\"text-align: right;\">\n",
       "      <th></th>\n",
       "      <th>columns</th>\n",
       "      <th>importances</th>\n",
       "    </tr>\n",
       "  </thead>\n",
       "  <tbody>\n",
       "    <tr>\n",
       "      <th>0</th>\n",
       "      <td>pickup_longitude</td>\n",
       "      <td>1.439586</td>\n",
       "    </tr>\n",
       "    <tr>\n",
       "      <th>1</th>\n",
       "      <td>pickup_latitude</td>\n",
       "      <td>0.423725</td>\n",
       "    </tr>\n",
       "    <tr>\n",
       "      <th>2</th>\n",
       "      <td>dropoff_longitude</td>\n",
       "      <td>2.031740</td>\n",
       "    </tr>\n",
       "    <tr>\n",
       "      <th>3</th>\n",
       "      <td>dropoff_latitude</td>\n",
       "      <td>3.675685</td>\n",
       "    </tr>\n",
       "    <tr>\n",
       "      <th>4</th>\n",
       "      <td>passenger_count</td>\n",
       "      <td>0.052281</td>\n",
       "    </tr>\n",
       "    <tr>\n",
       "      <th>5</th>\n",
       "      <td>distance</td>\n",
       "      <td>59.294653</td>\n",
       "    </tr>\n",
       "    <tr>\n",
       "      <th>6</th>\n",
       "      <td>pick_up_distance_from_center</td>\n",
       "      <td>3.127474</td>\n",
       "    </tr>\n",
       "    <tr>\n",
       "      <th>7</th>\n",
       "      <td>drop_off_distance_from_center</td>\n",
       "      <td>3.284592</td>\n",
       "    </tr>\n",
       "    <tr>\n",
       "      <th>8</th>\n",
       "      <td>latitude_abs</td>\n",
       "      <td>4.836133</td>\n",
       "    </tr>\n",
       "    <tr>\n",
       "      <th>9</th>\n",
       "      <td>longitude_abs</td>\n",
       "      <td>14.775713</td>\n",
       "    </tr>\n",
       "    <tr>\n",
       "      <th>10</th>\n",
       "      <td>is_weekend</td>\n",
       "      <td>0.105929</td>\n",
       "    </tr>\n",
       "    <tr>\n",
       "      <th>11</th>\n",
       "      <td>is_holiday</td>\n",
       "      <td>0.026480</td>\n",
       "    </tr>\n",
       "    <tr>\n",
       "      <th>12</th>\n",
       "      <td>year</td>\n",
       "      <td>4.370964</td>\n",
       "    </tr>\n",
       "    <tr>\n",
       "      <th>13</th>\n",
       "      <td>dayofweek</td>\n",
       "      <td>0.201306</td>\n",
       "    </tr>\n",
       "    <tr>\n",
       "      <th>14</th>\n",
       "      <td>sin_dayofweek</td>\n",
       "      <td>0.157675</td>\n",
       "    </tr>\n",
       "    <tr>\n",
       "      <th>15</th>\n",
       "      <td>sin_month</td>\n",
       "      <td>0.638984</td>\n",
       "    </tr>\n",
       "    <tr>\n",
       "      <th>16</th>\n",
       "      <td>hour</td>\n",
       "      <td>0.675226</td>\n",
       "    </tr>\n",
       "    <tr>\n",
       "      <th>17</th>\n",
       "      <td>is_rush_hour</td>\n",
       "      <td>0.467754</td>\n",
       "    </tr>\n",
       "    <tr>\n",
       "      <th>18</th>\n",
       "      <td>pickup_cluster</td>\n",
       "      <td>0.079826</td>\n",
       "    </tr>\n",
       "    <tr>\n",
       "      <th>19</th>\n",
       "      <td>dropoff_cluster</td>\n",
       "      <td>0.334273</td>\n",
       "    </tr>\n",
       "  </tbody>\n",
       "</table>\n",
       "</div>"
      ],
      "text/plain": [
       "                          columns  importances\n",
       "0                pickup_longitude     1.439586\n",
       "1                 pickup_latitude     0.423725\n",
       "2               dropoff_longitude     2.031740\n",
       "3                dropoff_latitude     3.675685\n",
       "4                 passenger_count     0.052281\n",
       "5                        distance    59.294653\n",
       "6    pick_up_distance_from_center     3.127474\n",
       "7   drop_off_distance_from_center     3.284592\n",
       "8                    latitude_abs     4.836133\n",
       "9                   longitude_abs    14.775713\n",
       "10                     is_weekend     0.105929\n",
       "11                     is_holiday     0.026480\n",
       "12                           year     4.370964\n",
       "13                      dayofweek     0.201306\n",
       "14                  sin_dayofweek     0.157675\n",
       "15                      sin_month     0.638984\n",
       "16                           hour     0.675226\n",
       "17                   is_rush_hour     0.467754\n",
       "18                 pickup_cluster     0.079826\n",
       "19                dropoff_cluster     0.334273"
      ]
     },
     "execution_count": 344,
     "metadata": {},
     "output_type": "execute_result"
    }
   ],
   "source": [
    "pd.DataFrame({\n",
    "    'columns': X.columns,\n",
    "    'importances': model.feature_importances_}\n",
    "    )"
   ]
  },
  {
   "cell_type": "code",
   "execution_count": 345,
   "metadata": {},
   "outputs": [
    {
     "data": {
      "text/plain": [
       "<Figure size 1000x1000 with 0 Axes>"
      ]
     },
     "metadata": {},
     "output_type": "display_data"
    },
    {
     "data": {
      "image/png": "[encoded data removed]",
      "text/plain": [
       "<Figure size 640x480 with 1 Axes>"
      ]
     },
     "metadata": {},
     "output_type": "display_data"
    }
   ],
   "source": [
    "from matplotlib.colors import Normalize\n",
    "\n",
    "\n",
    "plt.figure(figsize=(10, 10))\n",
    "\n",
    "\n",
    "# quantiles = np.percentile(test['fare_amount'], [0, 25, 50, 75, 100])\n",
    "\n",
    "# Нормализация с использованием квантилей\n",
    "# norm = Normalize(vmin=quantiles[0], vmax=quantiles[-1])\n",
    "\n",
    "# Цветовая карта\n",
    "cmap = plt.get_cmap('RdYlGn')\n",
    "\n",
    "\n",
    "cmap = LinearSegmentedColormap.from_list(name='name', colors=['green','yellow','red'])\n",
    "f, ax = plt.subplots()\n",
    "points = ax.scatter(test['dropoff_longitude'], test['dropoff_latitude'], c=test['dropoff_cluster'],\n",
    "                    s=10, cmap=cmap, norm=norm)"
   ]
  },
  {
   "cell_type": "code",
   "execution_count": 346,
   "metadata": {},
   "outputs": [
    {
     "name": "stderr",
     "output_type": "stream",
     "text": [
      "C:\\Users\\User\\AppData\\Local\\Temp\\ipykernel_24848\\897063285.py:18: UserWarning: No data for colormapping provided via 'c'. Parameters 'cmap', 'norm' will be ignored\n",
      "  points = ax.scatter(test['pickup_longitude'], test['pickup_latitude'],\n"
     ]
    },
    {
     "data": {
      "text/plain": [
       "<Figure size 1000x1000 with 0 Axes>"
      ]
     },
     "metadata": {},
     "output_type": "display_data"
    },
    {
     "data": {
      "image/png": "[encoded data removed]",
      "text/plain": [
       "<Figure size 640x480 with 1 Axes>"
      ]
     },
     "metadata": {},
     "output_type": "display_data"
    }
   ],
   "source": [
    "from matplotlib.colors import Normalize\n",
    "\n",
    "\n",
    "plt.figure(figsize=(10, 10))\n",
    "\n",
    "\n",
    "# quantiles = np.percentile(test['fare_amount'], [0, 25, 50, 75, 100])\n",
    "\n",
    "# Нормализация с использованием квантилей\n",
    "# norm = Normalize(vmin=quantiles[0], vmax=quantiles[-1])\n",
    "\n",
    "# Цветовая карта\n",
    "cmap = plt.get_cmap('RdYlGn')\n",
    "\n",
    "\n",
    "cmap = LinearSegmentedColormap.from_list(name='name', colors=['green','yellow','red'])\n",
    "f, ax = plt.subplots()\n",
    "points = ax.scatter(test['pickup_longitude'], test['pickup_latitude'],\n",
    "                    s=10, cmap=cmap, norm=norm)"
   ]
  },
  {
   "cell_type": "code",
   "execution_count": 348,
   "metadata": {},
   "outputs": [],
   "source": [
    "data.sample(200_000).to_csv('data.csv', index=False)"
   ]
  }
 ],
 "metadata": {
  "kernelspec": {
   "display_name": "Python 3",
   "language": "python",
   "name": "python3"
  },
  "language_info": {
   "codemirror_mode": {
    "name": "ipython",
    "version": 3
   },
   "file_extension": ".py",
   "mimetype": "text/x-python",
   "name": "python",
   "nbconvert_exporter": "python",
   "pygments_lexer": "ipython3",
   "version": "3.10.8"
  }
 },
 "nbformat": 4,
 "nbformat_minor": 2
}
