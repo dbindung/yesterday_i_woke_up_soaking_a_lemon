{
 "cells": [
  {
   "cell_type": "code",
   "execution_count": 26,
   "metadata": {},
   "outputs": [
    {
     "name": "stdout",
     "output_type": "stream",
     "text": [
      "Requirement already satisfied: torch in c:\\users\\user\\desktop\\sillyatempts\\vseros\\baselines\\yolov5_baseline\\yolo_env\\lib\\site-packages (2.5.1)\n",
      "Requirement already satisfied: jinja2 in c:\\users\\user\\desktop\\sillyatempts\\vseros\\baselines\\yolov5_baseline\\yolo_env\\lib\\site-packages (from torch) (3.1.4)\n",
      "Requirement already satisfied: networkx in c:\\users\\user\\desktop\\sillyatempts\\vseros\\baselines\\yolov5_baseline\\yolo_env\\lib\\site-packages (from torch) (3.4.2)\n",
      "Requirement already satisfied: fsspec in c:\\users\\user\\desktop\\sillyatempts\\vseros\\baselines\\yolov5_baseline\\yolo_env\\lib\\site-packages (from torch) (2024.10.0)\n",
      "Requirement already satisfied: typing-extensions>=4.8.0 in c:\\users\\user\\desktop\\sillyatempts\\vseros\\baselines\\yolov5_baseline\\yolo_env\\lib\\site-packages (from torch) (4.12.2)\n",
      "Requirement already satisfied: sympy==1.13.1 in c:\\users\\user\\desktop\\sillyatempts\\vseros\\baselines\\yolov5_baseline\\yolo_env\\lib\\site-packages (from torch) (1.13.1)\n",
      "Requirement already satisfied: filelock in c:\\users\\user\\desktop\\sillyatempts\\vseros\\baselines\\yolov5_baseline\\yolo_env\\lib\\site-packages (from torch) (3.16.1)\n",
      "Requirement already satisfied: mpmath<1.4,>=1.1.0 in c:\\users\\user\\desktop\\sillyatempts\\vseros\\baselines\\yolov5_baseline\\yolo_env\\lib\\site-packages (from sympy==1.13.1->torch) (1.3.0)\n",
      "Requirement already satisfied: MarkupSafe>=2.0 in c:\\users\\user\\desktop\\sillyatempts\\vseros\\baselines\\yolov5_baseline\\yolo_env\\lib\\site-packages (from jinja2->torch) (3.0.2)\n"
     ]
    },
    {
     "name": "stderr",
     "output_type": "stream",
     "text": [
      "\n",
      "[notice] A new release of pip available: 22.2.2 -> 24.3.1\n",
      "[notice] To update, run: python.exe -m pip install --upgrade pip\n",
      "\n",
      "[notice] A new release of pip available: 22.2.2 -> 24.3.1\n",
      "[notice] To update, run: python.exe -m pip install --upgrade pip\n"
     ]
    },
    {
     "name": "stdout",
     "output_type": "stream",
     "text": [
      "Requirement already satisfied: ultralytics in c:\\users\\user\\desktop\\sillyatempts\\vseros\\baselines\\yolov5_baseline\\yolo_env\\lib\\site-packages (8.3.28)\n",
      "Requirement already satisfied: tqdm>=4.64.0 in c:\\users\\user\\desktop\\sillyatempts\\vseros\\baselines\\yolov5_baseline\\yolo_env\\lib\\site-packages (from ultralytics) (4.67.0)\n",
      "Requirement already satisfied: matplotlib>=3.3.0 in c:\\users\\user\\desktop\\sillyatempts\\vseros\\baselines\\yolov5_baseline\\yolo_env\\lib\\site-packages (from ultralytics) (3.9.2)\n",
      "Requirement already satisfied: py-cpuinfo in c:\\users\\user\\desktop\\sillyatempts\\vseros\\baselines\\yolov5_baseline\\yolo_env\\lib\\site-packages (from ultralytics) (9.0.0)\n",
      "Requirement already satisfied: numpy>=1.23.0 in c:\\users\\user\\desktop\\sillyatempts\\vseros\\baselines\\yolov5_baseline\\yolo_env\\lib\\site-packages (from ultralytics) (2.1.3)\n",
      "Requirement already satisfied: torch!=2.4.0,>=1.8.0 in c:\\users\\user\\desktop\\sillyatempts\\vseros\\baselines\\yolov5_baseline\\yolo_env\\lib\\site-packages (from ultralytics) (2.5.1)\n",
      "Requirement already satisfied: pillow>=7.1.2 in c:\\users\\user\\desktop\\sillyatempts\\vseros\\baselines\\yolov5_baseline\\yolo_env\\lib\\site-packages (from ultralytics) (11.0.0)\n",
      "Requirement already satisfied: seaborn>=0.11.0 in c:\\users\\user\\desktop\\sillyatempts\\vseros\\baselines\\yolov5_baseline\\yolo_env\\lib\\site-packages (from ultralytics) (0.13.2)\n",
      "Requirement already satisfied: ultralytics-thop>=2.0.0 in c:\\users\\user\\desktop\\sillyatempts\\vseros\\baselines\\yolov5_baseline\\yolo_env\\lib\\site-packages (from ultralytics) (2.0.11)\n",
      "Requirement already satisfied: pandas>=1.1.4 in c:\\users\\user\\desktop\\sillyatempts\\vseros\\baselines\\yolov5_baseline\\yolo_env\\lib\\site-packages (from ultralytics) (2.2.3)\n",
      "Requirement already satisfied: pyyaml>=5.3.1 in c:\\users\\user\\desktop\\sillyatempts\\vseros\\baselines\\yolov5_baseline\\yolo_env\\lib\\site-packages (from ultralytics) (6.0.2)\n",
      "Requirement already satisfied: requests>=2.23.0 in c:\\users\\user\\desktop\\sillyatempts\\vseros\\baselines\\yolov5_baseline\\yolo_env\\lib\\site-packages (from ultralytics) (2.32.3)\n",
      "Requirement already satisfied: psutil in c:\\users\\user\\desktop\\sillyatempts\\vseros\\baselines\\yolov5_baseline\\yolo_env\\lib\\site-packages (from ultralytics) (6.1.0)\n",
      "Requirement already satisfied: opencv-python>=4.6.0 in c:\\users\\user\\desktop\\sillyatempts\\vseros\\baselines\\yolov5_baseline\\yolo_env\\lib\\site-packages (from ultralytics) (4.10.0.84)\n",
      "Requirement already satisfied: scipy>=1.4.1 in c:\\users\\user\\desktop\\sillyatempts\\vseros\\baselines\\yolov5_baseline\\yolo_env\\lib\\site-packages (from ultralytics) (1.14.1)\n",
      "Requirement already satisfied: torchvision>=0.9.0 in c:\\users\\user\\desktop\\sillyatempts\\vseros\\baselines\\yolov5_baseline\\yolo_env\\lib\\site-packages (from ultralytics) (0.20.1)\n",
      "Requirement already satisfied: fonttools>=4.22.0 in c:\\users\\user\\desktop\\sillyatempts\\vseros\\baselines\\yolov5_baseline\\yolo_env\\lib\\site-packages (from matplotlib>=3.3.0->ultralytics) (4.54.1)\n",
      "Requirement already satisfied: cycler>=0.10 in c:\\users\\user\\desktop\\sillyatempts\\vseros\\baselines\\yolov5_baseline\\yolo_env\\lib\\site-packages (from matplotlib>=3.3.0->ultralytics) (0.12.1)\n",
      "Requirement already satisfied: python-dateutil>=2.7 in c:\\users\\user\\desktop\\sillyatempts\\vseros\\baselines\\yolov5_baseline\\yolo_env\\lib\\site-packages (from matplotlib>=3.3.0->ultralytics) (2.9.0.post0)\n",
      "Requirement already satisfied: kiwisolver>=1.3.1 in c:\\users\\user\\desktop\\sillyatempts\\vseros\\baselines\\yolov5_baseline\\yolo_env\\lib\\site-packages (from matplotlib>=3.3.0->ultralytics) (1.4.7)\n",
      "Requirement already satisfied: pyparsing>=2.3.1 in c:\\users\\user\\desktop\\sillyatempts\\vseros\\baselines\\yolov5_baseline\\yolo_env\\lib\\site-packages (from matplotlib>=3.3.0->ultralytics) (3.2.0)\n",
      "Requirement already satisfied: packaging>=20.0 in c:\\users\\user\\desktop\\sillyatempts\\vseros\\baselines\\yolov5_baseline\\yolo_env\\lib\\site-packages (from matplotlib>=3.3.0->ultralytics) (24.2)\n",
      "Requirement already satisfied: contourpy>=1.0.1 in c:\\users\\user\\desktop\\sillyatempts\\vseros\\baselines\\yolov5_baseline\\yolo_env\\lib\\site-packages (from matplotlib>=3.3.0->ultralytics) (1.3.0)\n",
      "Requirement already satisfied: pytz>=2020.1 in c:\\users\\user\\desktop\\sillyatempts\\vseros\\baselines\\yolov5_baseline\\yolo_env\\lib\\site-packages (from pandas>=1.1.4->ultralytics) (2024.2)\n",
      "Requirement already satisfied: tzdata>=2022.7 in c:\\users\\user\\desktop\\sillyatempts\\vseros\\baselines\\yolov5_baseline\\yolo_env\\lib\\site-packages (from pandas>=1.1.4->ultralytics) (2024.2)\n",
      "Requirement already satisfied: certifi>=2017.4.17 in c:\\users\\user\\desktop\\sillyatempts\\vseros\\baselines\\yolov5_baseline\\yolo_env\\lib\\site-packages (from requests>=2.23.0->ultralytics) (2024.8.30)\n",
      "Requirement already satisfied: charset-normalizer<4,>=2 in c:\\users\\user\\desktop\\sillyatempts\\vseros\\baselines\\yolov5_baseline\\yolo_env\\lib\\site-packages (from requests>=2.23.0->ultralytics) (3.4.0)\n",
      "Requirement already satisfied: idna<4,>=2.5 in c:\\users\\user\\desktop\\sillyatempts\\vseros\\baselines\\yolov5_baseline\\yolo_env\\lib\\site-packages (from requests>=2.23.0->ultralytics) (3.10)\n",
      "Requirement already satisfied: urllib3<3,>=1.21.1 in c:\\users\\user\\desktop\\sillyatempts\\vseros\\baselines\\yolov5_baseline\\yolo_env\\lib\\site-packages (from requests>=2.23.0->ultralytics) (2.2.3)\n",
      "Requirement already satisfied: jinja2 in c:\\users\\user\\desktop\\sillyatempts\\vseros\\baselines\\yolov5_baseline\\yolo_env\\lib\\site-packages (from torch!=2.4.0,>=1.8.0->ultralytics) (3.1.4)\n",
      "Requirement already satisfied: networkx in c:\\users\\user\\desktop\\sillyatempts\\vseros\\baselines\\yolov5_baseline\\yolo_env\\lib\\site-packages (from torch!=2.4.0,>=1.8.0->ultralytics) (3.4.2)\n",
      "Requirement already satisfied: typing-extensions>=4.8.0 in c:\\users\\user\\desktop\\sillyatempts\\vseros\\baselines\\yolov5_baseline\\yolo_env\\lib\\site-packages (from torch!=2.4.0,>=1.8.0->ultralytics) (4.12.2)\n",
      "Requirement already satisfied: sympy==1.13.1 in c:\\users\\user\\desktop\\sillyatempts\\vseros\\baselines\\yolov5_baseline\\yolo_env\\lib\\site-packages (from torch!=2.4.0,>=1.8.0->ultralytics) (1.13.1)\n",
      "Requirement already satisfied: fsspec in c:\\users\\user\\desktop\\sillyatempts\\vseros\\baselines\\yolov5_baseline\\yolo_env\\lib\\site-packages (from torch!=2.4.0,>=1.8.0->ultralytics) (2024.10.0)\n",
      "Requirement already satisfied: filelock in c:\\users\\user\\desktop\\sillyatempts\\vseros\\baselines\\yolov5_baseline\\yolo_env\\lib\\site-packages (from torch!=2.4.0,>=1.8.0->ultralytics) (3.16.1)\n",
      "Requirement already satisfied: mpmath<1.4,>=1.1.0 in c:\\users\\user\\desktop\\sillyatempts\\vseros\\baselines\\yolov5_baseline\\yolo_env\\lib\\site-packages (from sympy==1.13.1->torch!=2.4.0,>=1.8.0->ultralytics) (1.3.0)\n",
      "Requirement already satisfied: colorama in c:\\users\\user\\desktop\\sillyatempts\\vseros\\baselines\\yolov5_baseline\\yolo_env\\lib\\site-packages (from tqdm>=4.64.0->ultralytics) (0.4.6)\n",
      "Requirement already satisfied: six>=1.5 in c:\\users\\user\\desktop\\sillyatempts\\vseros\\baselines\\yolov5_baseline\\yolo_env\\lib\\site-packages (from python-dateutil>=2.7->matplotlib>=3.3.0->ultralytics) (1.16.0)\n",
      "Requirement already satisfied: MarkupSafe>=2.0 in c:\\users\\user\\desktop\\sillyatempts\\vseros\\baselines\\yolov5_baseline\\yolo_env\\lib\\site-packages (from jinja2->torch!=2.4.0,>=1.8.0->ultralytics) (3.0.2)\n"
     ]
    }
   ],
   "source": [
    "import sys\n",
    "\n",
    "\n",
    "!{sys.executable} -m pip install torch\n",
    "\n",
    "!{sys.executable} -m pip install ultralytics"
   ]
  },
  {
   "cell_type": "code",
   "execution_count": 2,
   "metadata": {},
   "outputs": [],
   "source": [
    "import torch\n",
    "from yolov5 import detect\n",
    "from pathlib import Path\n",
    "from ultralytics import YOLO"
   ]
  },
  {
   "cell_type": "code",
   "execution_count": 5,
   "metadata": {},
   "outputs": [
    {
     "name": "stdout",
     "output_type": "stream",
     "text": [
      "PRO TIP  Replace 'model=yolov5s.pt' with new 'model=yolov5su.pt'.\n",
      "YOLOv5 'u' models are trained with https://github.com/ultralytics/ultralytics and feature improved performance vs standard YOLOv5 models trained with https://github.com/ultralytics/yolov5.\n",
      "\n",
      "\n",
      "image 1/1 c:\\Users\\User\\Desktop\\sillyAtempts\\vseros\\baselines\\yolov5_baseline\\image.jpg: 384x640 3 dogs, 95.4ms\n",
      "Speed: 3.1ms preprocess, 95.4ms inference, 1.0ms postprocess per image at shape (1, 3, 384, 640)\n"
     ]
    },
    {
     "data": {
      "text/plain": [
       "'results_image.jpg'"
      ]
     },
     "execution_count": 5,
     "metadata": {},
     "output_type": "execute_result"
    }
   ],
   "source": [
    "model = YOLO('yolov5s.pt')\n",
    "\n",
    "# Выполните детекцию на изображении или папке с изображениями\n",
    "results = model('image.jpg')[0]  # Можете использовать путь к изображению или папке\n",
    "\n",
    "# Показать результаты (например, на экране)\n",
    "results.show()\n",
    "\n",
    "# Сохранить результаты с аннотациями (опционально)\n",
    "results.save()"
   ]
  }
 ],
 "metadata": {
  "kernelspec": {
   "display_name": "yolo_env",
   "language": "python",
   "name": "python3"
  },
  "language_info": {
   "codemirror_mode": {
    "name": "ipython",
    "version": 3
   },
   "file_extension": ".py",
   "mimetype": "text/x-python",
   "name": "python",
   "nbconvert_exporter": "python",
   "pygments_lexer": "ipython3",
   "version": "3.10.8"
  }
 },
 "nbformat": 4,
 "nbformat_minor": 2
}
